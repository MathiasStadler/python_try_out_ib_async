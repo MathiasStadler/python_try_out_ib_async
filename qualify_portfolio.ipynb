{
 "cells": [
  {
   "cell_type": "code",
   "execution_count": null,
   "metadata": {},
   "outputs": [
    {
     "name": "stderr",
     "output_type": "stream",
     "text": [
      "Error 1100, reqId -1: Connectivity between LYNX Broker and Handelsplattform has been lost.\n",
      "Error 1102, reqId -1: Connectivity between LYNX Broker and Handelsplattform has been restored - data maintained. All data farms are connected: usfarm.nj; usfuture; eufarm; cashfarm; usopt; eufarmnj; usfarm; ushmds; secdefnj.\n",
      "Peer closed connection.\n"
     ]
    }
   ],
   "source": [
    "from ib_insync import util, IB\n",
    "util.startLoop()\n",
    "ib = IB()\n",
    "ib.connect(port=7496, clientId=37)\n",
    "ib.reqMarketDataType(4)\n",
    "con_list = util.df(ib.portfolio()).loc[:,'contract'].tolist()\n"
   ]
  },
  {
   "cell_type": "code",
   "execution_count": 13,
   "metadata": {},
   "outputs": [],
   "source": [
    "con_list = util.df(ib.portfolio()).loc[:,'contract'].tolist()\n",
    "# con_list = util.df(ib.portfolio())"
   ]
  },
  {
   "cell_type": "code",
   "execution_count": 14,
   "metadata": {},
   "outputs": [
    {
     "data": {
      "text/plain": [
       "[Option(conId=722780160, symbol='AMZN', lastTradeDateOrContractMonth='20250417', strike=190.0, right='P', multiplier='100', exchange='SMART', currency='USD', localSymbol='AMZN  250417P00190000', tradingClass='AMZN'),\n",
       " Option(conId=722780255, symbol='AMZN', lastTradeDateOrContractMonth='20250417', strike=195.0, right='P', multiplier='100', exchange='SMART', currency='USD', localSymbol='AMZN  250417P00195000', tradingClass='AMZN'),\n",
       " Option(conId=716585921, symbol='FTNT', lastTradeDateOrContractMonth='20250321', strike=85.0, right='P', multiplier='100', exchange='SMART', currency='USD', localSymbol='FTNT  250321P00085000', tradingClass='FTNT'),\n",
       " Option(conId=754441244, symbol='FTNT', lastTradeDateOrContractMonth='20250417', strike=82.5, right='P', multiplier='100', exchange='SMART', currency='USD', localSymbol='FTNT  250417P00082500', tradingClass='FTNT'),\n",
       " Option(conId=763051174, symbol='MNST', lastTradeDateOrContractMonth='20250417', strike=45.0, right='P', multiplier='100', exchange='SMART', currency='USD', localSymbol='MNST  250417P00045000', tradingClass='MNST'),\n",
       " Option(conId=763051257, symbol='MNST', lastTradeDateOrContractMonth='20250417', strike=50.0, right='P', multiplier='100', exchange='SMART', currency='USD', localSymbol='MNST  250417P00050000', tradingClass='MNST'),\n",
       " Option(conId=757679693, symbol='MRVL', lastTradeDateOrContractMonth='20250417', strike=60.0, right='P', multiplier='100', exchange='SMART', currency='USD', localSymbol='MRVL  250417P00060000', tradingClass='MRVL'),\n",
       " Option(conId=757014510, symbol='MRVL', lastTradeDateOrContractMonth='20250417', strike=65.0, right='P', multiplier='100', exchange='SMART', currency='USD', localSymbol='MRVL  250417P00065000', tradingClass='MRVL'),\n",
       " Option(conId=723088378, symbol='MS', lastTradeDateOrContractMonth='20250417', strike=92.5, right='P', multiplier='100', exchange='SMART', currency='USD', localSymbol='MS    250417P00092500', tradingClass='MS'),\n",
       " Option(conId=727377799, symbol='MS', lastTradeDateOrContractMonth='20250718', strike=90.0, right='P', multiplier='100', exchange='SMART', currency='USD', localSymbol='MS    250718P00090000', tradingClass='MS'),\n",
       " Option(conId=723137208, symbol='MU', lastTradeDateOrContractMonth='20250417', strike=80.0, right='P', multiplier='100', exchange='SMART', currency='USD', localSymbol='MU    250417P00080000', tradingClass='MU'),\n",
       " Option(conId=723137322, symbol='MU', lastTradeDateOrContractMonth='20250417', strike=85.0, right='P', multiplier='100', exchange='SMART', currency='USD', localSymbol='MU    250417P00085000', tradingClass='MU'),\n",
       " Option(conId=723106765, symbol='NTRA', lastTradeDateOrContractMonth='20250417', strike=145.0, right='P', multiplier='100', exchange='SMART', currency='USD', localSymbol='NTRA  250417P00145000', tradingClass='NTRA'),\n",
       " Option(conId=723106828, symbol='NTRA', lastTradeDateOrContractMonth='20250417', strike=150.0, right='P', multiplier='100', exchange='SMART', currency='USD', localSymbol='NTRA  250417P00150000', tradingClass='NTRA'),\n",
       " Option(conId=632235321, symbol='NVDA', lastTradeDateOrContractMonth='20250620', strike=57.0, right='P', multiplier='100', exchange='SMART', currency='USD', localSymbol='NVDA  250620P00057000', tradingClass='NVDA'),\n",
       " Option(conId=720447235, symbol='NVDA', lastTradeDateOrContractMonth='20250919', strike=55.0, right='P', multiplier='100', exchange='SMART', currency='USD', localSymbol='NVDA  250919P00055000', tradingClass='NVDA'),\n",
       " Option(conId=716849936, symbol='SWTX', lastTradeDateOrContractMonth='20250321', strike=35.0, right='P', multiplier='100', exchange='SMART', currency='USD', localSymbol='SWTX  250321P00035000', tradingClass='SWTX'),\n",
       " Option(conId=716850106, symbol='SWTX', lastTradeDateOrContractMonth='20250321', strike=45.0, right='P', multiplier='100', exchange='SMART', currency='USD', localSymbol='SWTX  250321P00045000', tradingClass='SWTX'),\n",
       " Option(conId=754123124, symbol='UBER', lastTradeDateOrContractMonth='20250417', strike=70.0, right='P', multiplier='100', exchange='SMART', currency='USD', localSymbol='UBER  250417P00070000', tradingClass='UBER'),\n",
       " Option(conId=754453318, symbol='UBER', lastTradeDateOrContractMonth='20250417', strike=72.5, right='P', multiplier='100', exchange='SMART', currency='USD', localSymbol='UBER  250417P00072500', tradingClass='UBER')]"
      ]
     },
     "execution_count": 14,
     "metadata": {},
     "output_type": "execute_result"
    }
   ],
   "source": [
    "con_list\n",
    "# [FROM HERE](https://github.com/erdewit/ib_insync/issues/119)"
   ]
  },
  {
   "cell_type": "code",
   "execution_count": null,
   "metadata": {},
   "outputs": [],
   "source": [
    "ib.qualifyContracts(*con_list)"
   ]
  },
  {
   "cell_type": "code",
   "execution_count": null,
   "metadata": {},
   "outputs": [],
   "source": [
    "con_list"
   ]
  },
  {
   "cell_type": "code",
   "execution_count": null,
   "metadata": {},
   "outputs": [],
   "source": [
    "for position in con_list:\n",
    "   # print(type(position))\n",
    "   # print(position.__dict__)\n",
    "   print(f'{position.symbol} Pos => {position.strike}  - Strike => {position.strike} - Cost =>   ')\n",
    "   # https://stackoverflow.com/questions/56838271/get-bid-ask-price-from-interactive-brokers-using-python\n",
    "   tickers = [ib.reqTickers(position)]\n",
    "   for i, r in enumerate(tickers):\n",
    "    for j, t in enumerate(r):\n",
    "        # print(t.contract.symbol, t.time, t.bid, t.ask, t.close)\n",
    "        print( f' Symbol {t.contract.symbol}, time: {t.time} bid => {t.bid} ask=>{t.ask} close=>{ t.close}')\n",
    "        print(t.__dict__)\n",
    "   "
   ]
  },
  {
   "cell_type": "markdown",
   "metadata": {},
   "source": []
  },
  {
   "cell_type": "code",
   "execution_count": null,
   "metadata": {},
   "outputs": [],
   "source": [
    "from ib_insync import *\n",
    "\n",
    "util.startLoop()\n",
    "\n",
    "ib = IB()\n",
    "ib.sleep(2)\n",
    "ib.connect('127.0.0.1', port=7490, clientId=12) # NB: Non default port could be 7498 on your machine by default when using TWS\n",
    "\n",
    "ib.reqMarketDataType(4) # This line is the one that counts to get delayed data without subscription if available\n"
   ]
  },
  {
   "cell_type": "code",
   "execution_count": null,
   "metadata": {},
   "outputs": [],
   "source": [
    "ib.disconnect()"
   ]
  }
 ],
 "metadata": {
  "kernelspec": {
   "display_name": ".venv",
   "language": "python",
   "name": "python3"
  },
  "language_info": {
   "codemirror_mode": {
    "name": "ipython",
    "version": 3
   },
   "file_extension": ".py",
   "mimetype": "text/x-python",
   "name": "python",
   "nbconvert_exporter": "python",
   "pygments_lexer": "ipython3",
   "version": "3.11.2"
  }
 },
 "nbformat": 4,
 "nbformat_minor": 2
}
