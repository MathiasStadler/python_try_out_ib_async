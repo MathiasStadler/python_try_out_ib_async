{
 "cells": [
  {
   "cell_type": "code",
   "execution_count": null,
   "metadata": {},
   "outputs": [
    {
     "name": "stderr",
     "output_type": "stream",
     "text": [
      "Error 10090, reqId 46: Part of requested market data is not subscribed. Subscription-independent ticks are still active.Delayed market data is available.ALB NYSE/TOP/ALL, contract: Option(conId=760988597, symbol='ALB', lastTradeDateOrContractMonth='20250404', strike=75.0, right='P', multiplier='100', exchange='SMART', currency='USD', localSymbol='ALB   250404P00075000', tradingClass='ALB')\n",
      "Error 10090, reqId 47: Part of requested market data is not subscribed. Subscription-independent ticks are still active.Delayed market data is available.ALB NYSE/TOP/ALL, contract: Option(conId=760988670, symbol='ALB', lastTradeDateOrContractMonth='20250404', strike=76.0, right='P', multiplier='100', exchange='SMART', currency='USD', localSymbol='ALB   250404P00076000', tradingClass='ALB')\n",
      "Error 10090, reqId 48: Part of requested market data is not subscribed. Subscription-independent ticks are still active.Delayed market data is available.BIDU NASDAQ.NMS/TOP/ALL, contract: Option(conId=755327744, symbol='BIDU', lastTradeDateOrContractMonth='20250516', strike=90.0, right='P', multiplier='100', exchange='SMART', currency='USD', localSymbol='BIDU  250516P00090000', tradingClass='BIDU')\n",
      "Error 10090, reqId 49: Part of requested market data is not subscribed. Subscription-independent ticks are still active.Delayed market data is available.BIDU NASDAQ.NMS/TOP/ALL, contract: Option(conId=755327783, symbol='BIDU', lastTradeDateOrContractMonth='20250516', strike=95.0, right='P', multiplier='100', exchange='SMART', currency='USD', localSymbol='BIDU  250516P00095000', tradingClass='BIDU')\n",
      "Error 10090, reqId 50: Part of requested market data is not subscribed. Subscription-independent ticks are still active.Delayed market data is available.CTSH NASDAQ.NMS/TOP/ALL, contract: Option(conId=722886411, symbol='CTSH', lastTradeDateOrContractMonth='20250417', strike=72.5, right='P', multiplier='100', exchange='SMART', currency='USD', localSymbol='CTSH  250417P00072500', tradingClass='CTSH')\n",
      "Error 10090, reqId 51: Part of requested market data is not subscribed. Subscription-independent ticks are still active.Delayed market data is available.CTSH NASDAQ.NMS/TOP/ALL, contract: Option(conId=722886491, symbol='CTSH', lastTradeDateOrContractMonth='20250417', strike=75.0, right='P', multiplier='100', exchange='SMART', currency='USD', localSymbol='CTSH  250417P00075000', tradingClass='CTSH')\n",
      "Error 10090, reqId 52: Part of requested market data is not subscribed. Subscription-independent ticks are still active.Delayed market data is available.GOOG NASDAQ.NMS/TOP/ALL, contract: Option(conId=761035804, symbol='GOOG', lastTradeDateOrContractMonth='20250404', strike=155.0, right='P', multiplier='100', exchange='SMART', currency='USD', localSymbol='GOOG  250404P00155000', tradingClass='GOOG')\n",
      "Error 10090, reqId 53: Part of requested market data is not subscribed. Subscription-independent ticks are still active.Delayed market data is available.GOOG NASDAQ.NMS/TOP/ALL, contract: Option(conId=761035843, symbol='GOOG', lastTradeDateOrContractMonth='20250404', strike=160.0, right='P', multiplier='100', exchange='SMART', currency='USD', localSymbol='GOOG  250404P00160000', tradingClass='GOOG')\n",
      "Error 10090, reqId 54: Part of requested market data is not subscribed. Subscription-independent ticks are still active.Delayed market data is available.INTC NASDAQ.NMS/TOP/ALL, contract: Option(conId=759632068, symbol='INTC', lastTradeDateOrContractMonth='20250328', strike=21.0, right='P', multiplier='100', exchange='SMART', currency='USD', localSymbol='INTC  250328P00021000', tradingClass='INTC')\n",
      "Error 10090, reqId 55: Part of requested market data is not subscribed. Subscription-independent ticks are still active.Delayed market data is available.INTC NASDAQ.NMS/TOP/ALL, contract: Option(conId=759632438, symbol='INTC', lastTradeDateOrContractMonth='20250328', strike=24.0, right='P', multiplier='100', exchange='SMART', currency='USD', localSymbol='INTC  250328P00024000', tradingClass='INTC')\n",
      "Error 10090, reqId 56: Part of requested market data is not subscribed. Subscription-independent ticks are still active.Delayed market data is available.LI NASDAQ.NMS/TOP/ALL, contract: Option(conId=759651940, symbol='LI', lastTradeDateOrContractMonth='20250328', strike=26.5, right='P', multiplier='100', exchange='SMART', currency='USD', localSymbol='LI    250328P00026500', tradingClass='LI')\n",
      "Error 10090, reqId 57: Part of requested market data is not subscribed. Subscription-independent ticks are still active.Delayed market data is available.LI NASDAQ.NMS/TOP/ALL, contract: Option(conId=759652105, symbol='LI', lastTradeDateOrContractMonth='20250328', strike=27.0, right='P', multiplier='100', exchange='SMART', currency='USD', localSymbol='LI    250328P00027000', tradingClass='LI')\n",
      "Error 10090, reqId 58: Part of requested market data is not subscribed. Subscription-independent ticks are still active.Delayed market data is available.PLTR NASDAQ.NMS/TOP/ALL, contract: Option(conId=764847965, symbol='PLTR', lastTradeDateOrContractMonth='20250328', strike=79.0, right='P', multiplier='100', exchange='SMART', currency='USD', localSymbol='PLTR  250328P00079000', tradingClass='PLTR')\n",
      "Error 10090, reqId 59: Part of requested market data is not subscribed. Subscription-independent ticks are still active.Delayed market data is available.PLTR NASDAQ.NMS/TOP/ALL, contract: Option(conId=764848210, symbol='PLTR', lastTradeDateOrContractMonth='20250328', strike=84.0, right='P', multiplier='100', exchange='SMART', currency='USD', localSymbol='PLTR  250328P00084000', tradingClass='PLTR')\n",
      "Error 10090, reqId 60: Part of requested market data is not subscribed. Subscription-independent ticks are still active.Delayed market data is available.PLTR NASDAQ.NMS/TOP/ALL, contract: Option(conId=760004128, symbol='PLTR', lastTradeDateOrContractMonth='20250328', strike=85.0, right='P', multiplier='100', exchange='SMART', currency='USD', localSymbol='PLTR  250328P00085000', tradingClass='PLTR')\n",
      "Error 10090, reqId 61: Part of requested market data is not subscribed. Subscription-independent ticks are still active.Delayed market data is available.VST NYSE/TOP/ALL, contract: Option(conId=765324651, symbol='VST', lastTradeDateOrContractMonth='20250328', strike=116.0, right='P', multiplier='100', exchange='SMART', currency='USD', localSymbol='VST   250328P00116000', tradingClass='VST')\n",
      "Error 10090, reqId 62: Part of requested market data is not subscribed. Subscription-independent ticks are still active.Delayed market data is available.VST NYSE/TOP/ALL, contract: Option(conId=765324677, symbol='VST', lastTradeDateOrContractMonth='20250328', strike=117.0, right='P', multiplier='100', exchange='SMART', currency='USD', localSymbol='VST   250328P00117000', tradingClass='VST')\n",
      "Error 10090, reqId 63: Part of requested market data is not subscribed. Subscription-independent ticks are still active.Delayed market data is available.WSM NYSE/TOP/ALL, contract: Option(conId=763248394, symbol='WSM', lastTradeDateOrContractMonth='20250417', strike=145.0, right='P', multiplier='100', exchange='SMART', currency='USD', localSymbol='WSM   250417P00145000', tradingClass='WSM')\n",
      "Error 10090, reqId 64: Part of requested market data is not subscribed. Subscription-independent ticks are still active.Delayed market data is available.WSM NYSE/TOP/ALL, contract: Option(conId=763248479, symbol='WSM', lastTradeDateOrContractMonth='20250417', strike=150.0, right='P', multiplier='100', exchange='SMART', currency='USD', localSymbol='WSM   250417P00150000', tradingClass='WSM')\n",
      "Error 10090, reqId 65: Part of requested market data is not subscribed. Subscription-independent ticks are still active.Delayed market data is available.ALB NYSE/TOP/ALL, contract: Option(conId=760988597, symbol='ALB', lastTradeDateOrContractMonth='20250404', strike=75.0, right='P', multiplier='100', exchange='SMART', currency='USD', localSymbol='ALB   250404P00075000', tradingClass='ALB')\n",
      "Error 10090, reqId 66: Part of requested market data is not subscribed. Subscription-independent ticks are still active.Delayed market data is available.ALB NYSE/TOP/ALL, contract: Option(conId=760988670, symbol='ALB', lastTradeDateOrContractMonth='20250404', strike=76.0, right='P', multiplier='100', exchange='SMART', currency='USD', localSymbol='ALB   250404P00076000', tradingClass='ALB')\n",
      "Error 10090, reqId 67: Part of requested market data is not subscribed. Subscription-independent ticks are still active.Delayed market data is available.BIDU NASDAQ.NMS/TOP/ALL, contract: Option(conId=755327744, symbol='BIDU', lastTradeDateOrContractMonth='20250516', strike=90.0, right='P', multiplier='100', exchange='SMART', currency='USD', localSymbol='BIDU  250516P00090000', tradingClass='BIDU')\n",
      "Error 10090, reqId 68: Part of requested market data is not subscribed. Subscription-independent ticks are still active.Delayed market data is available.BIDU NASDAQ.NMS/TOP/ALL, contract: Option(conId=755327783, symbol='BIDU', lastTradeDateOrContractMonth='20250516', strike=95.0, right='P', multiplier='100', exchange='SMART', currency='USD', localSymbol='BIDU  250516P00095000', tradingClass='BIDU')\n",
      "Error 10090, reqId 69: Part of requested market data is not subscribed. Subscription-independent ticks are still active.Delayed market data is available.CTSH NASDAQ.NMS/TOP/ALL, contract: Option(conId=722886411, symbol='CTSH', lastTradeDateOrContractMonth='20250417', strike=72.5, right='P', multiplier='100', exchange='SMART', currency='USD', localSymbol='CTSH  250417P00072500', tradingClass='CTSH')\n",
      "Error 10090, reqId 70: Part of requested market data is not subscribed. Subscription-independent ticks are still active.Delayed market data is available.CTSH NASDAQ.NMS/TOP/ALL, contract: Option(conId=722886491, symbol='CTSH', lastTradeDateOrContractMonth='20250417', strike=75.0, right='P', multiplier='100', exchange='SMART', currency='USD', localSymbol='CTSH  250417P00075000', tradingClass='CTSH')\n",
      "Error 10090, reqId 71: Part of requested market data is not subscribed. Subscription-independent ticks are still active.Delayed market data is available.GOOG NASDAQ.NMS/TOP/ALL, contract: Option(conId=761035804, symbol='GOOG', lastTradeDateOrContractMonth='20250404', strike=155.0, right='P', multiplier='100', exchange='SMART', currency='USD', localSymbol='GOOG  250404P00155000', tradingClass='GOOG')\n",
      "Error 10090, reqId 72: Part of requested market data is not subscribed. Subscription-independent ticks are still active.Delayed market data is available.GOOG NASDAQ.NMS/TOP/ALL, contract: Option(conId=761035843, symbol='GOOG', lastTradeDateOrContractMonth='20250404', strike=160.0, right='P', multiplier='100', exchange='SMART', currency='USD', localSymbol='GOOG  250404P00160000', tradingClass='GOOG')\n",
      "Error 10090, reqId 73: Part of requested market data is not subscribed. Subscription-independent ticks are still active.Delayed market data is available.INTC NASDAQ.NMS/TOP/ALL, contract: Option(conId=759632068, symbol='INTC', lastTradeDateOrContractMonth='20250328', strike=21.0, right='P', multiplier='100', exchange='SMART', currency='USD', localSymbol='INTC  250328P00021000', tradingClass='INTC')\n",
      "Error 10090, reqId 74: Part of requested market data is not subscribed. Subscription-independent ticks are still active.Delayed market data is available.INTC NASDAQ.NMS/TOP/ALL, contract: Option(conId=759632438, symbol='INTC', lastTradeDateOrContractMonth='20250328', strike=24.0, right='P', multiplier='100', exchange='SMART', currency='USD', localSymbol='INTC  250328P00024000', tradingClass='INTC')\n",
      "Error 10090, reqId 75: Part of requested market data is not subscribed. Subscription-independent ticks are still active.Delayed market data is available.LI NASDAQ.NMS/TOP/ALL, contract: Option(conId=759651940, symbol='LI', lastTradeDateOrContractMonth='20250328', strike=26.5, right='P', multiplier='100', exchange='SMART', currency='USD', localSymbol='LI    250328P00026500', tradingClass='LI')\n",
      "Error 10090, reqId 76: Part of requested market data is not subscribed. Subscription-independent ticks are still active.Delayed market data is available.LI NASDAQ.NMS/TOP/ALL, contract: Option(conId=759652105, symbol='LI', lastTradeDateOrContractMonth='20250328', strike=27.0, right='P', multiplier='100', exchange='SMART', currency='USD', localSymbol='LI    250328P00027000', tradingClass='LI')\n",
      "Error 10090, reqId 77: Part of requested market data is not subscribed. Subscription-independent ticks are still active.Delayed market data is available.PLTR NASDAQ.NMS/TOP/ALL, contract: Option(conId=764847965, symbol='PLTR', lastTradeDateOrContractMonth='20250328', strike=79.0, right='P', multiplier='100', exchange='SMART', currency='USD', localSymbol='PLTR  250328P00079000', tradingClass='PLTR')\n",
      "Error 10090, reqId 78: Part of requested market data is not subscribed. Subscription-independent ticks are still active.Delayed market data is available.PLTR NASDAQ.NMS/TOP/ALL, contract: Option(conId=764848210, symbol='PLTR', lastTradeDateOrContractMonth='20250328', strike=84.0, right='P', multiplier='100', exchange='SMART', currency='USD', localSymbol='PLTR  250328P00084000', tradingClass='PLTR')\n",
      "Error 10090, reqId 79: Part of requested market data is not subscribed. Subscription-independent ticks are still active.Delayed market data is available.PLTR NASDAQ.NMS/TOP/ALL, contract: Option(conId=760004128, symbol='PLTR', lastTradeDateOrContractMonth='20250328', strike=85.0, right='P', multiplier='100', exchange='SMART', currency='USD', localSymbol='PLTR  250328P00085000', tradingClass='PLTR')\n",
      "Error 10090, reqId 80: Part of requested market data is not subscribed. Subscription-independent ticks are still active.Delayed market data is available.VST NYSE/TOP/ALL, contract: Option(conId=765324651, symbol='VST', lastTradeDateOrContractMonth='20250328', strike=116.0, right='P', multiplier='100', exchange='SMART', currency='USD', localSymbol='VST   250328P00116000', tradingClass='VST')\n",
      "Error 10090, reqId 81: Part of requested market data is not subscribed. Subscription-independent ticks are still active.Delayed market data is available.VST NYSE/TOP/ALL, contract: Option(conId=765324677, symbol='VST', lastTradeDateOrContractMonth='20250328', strike=117.0, right='P', multiplier='100', exchange='SMART', currency='USD', localSymbol='VST   250328P00117000', tradingClass='VST')\n",
      "Error 10090, reqId 82: Part of requested market data is not subscribed. Subscription-independent ticks are still active.Delayed market data is available.WSM NYSE/TOP/ALL, contract: Option(conId=763248394, symbol='WSM', lastTradeDateOrContractMonth='20250417', strike=145.0, right='P', multiplier='100', exchange='SMART', currency='USD', localSymbol='WSM   250417P00145000', tradingClass='WSM')\n",
      "Error 10090, reqId 83: Part of requested market data is not subscribed. Subscription-independent ticks are still active.Delayed market data is available.WSM NYSE/TOP/ALL, contract: Option(conId=763248479, symbol='WSM', lastTradeDateOrContractMonth='20250417', strike=150.0, right='P', multiplier='100', exchange='SMART', currency='USD', localSymbol='WSM   250417P00150000', tradingClass='WSM')\n",
      "Error 10090, reqId 84: Part of requested market data is not subscribed. Subscription-independent ticks are still active.Delayed market data is available.ALB NYSE/TOP/ALL, contract: Option(conId=760988597, symbol='ALB', lastTradeDateOrContractMonth='20250404', strike=75.0, right='P', multiplier='100', exchange='SMART', currency='USD', localSymbol='ALB   250404P00075000', tradingClass='ALB')\n",
      "Error 1100, reqId -1: Connectivity between %SHORT_COMPNAME% and %SHORT_PRODNAME% has been lost.\n",
      "Error 1100, reqId -1: Connectivity between %SHORT_COMPNAME% and %SHORT_PRODNAME% has been lost.\n",
      "Error 1100, reqId -1: Connectivity between %SHORT_COMPNAME% and %SHORT_PRODNAME% has been lost.\n",
      "Error 1102, reqId -1: Connectivity between %SHORT_COMPNAME% and %SHORT_PRODNAME% has been restored - data maintained. Verbindung zu allen Datenzentren hergestellt: usfarm.nj; eufarm; cashfarm; usopt; eufarmnj; usfarm; ushmds; secdefnj.\n",
      "Error 10090, reqId 86: Part of requested market data is not subscribed. Subscription-independent ticks are still active.Delayed market data is available.ALB NYSE/TOP/ALL, contract: Option(conId=760988597, symbol='ALB', lastTradeDateOrContractMonth='20250404', strike=75.0, right='P', multiplier='100', exchange='SMART', currency='USD', localSymbol='ALB   250404P00075000', tradingClass='ALB')\n",
      "Error 10090, reqId 87: Part of requested market data is not subscribed. Subscription-independent ticks are still active.Delayed market data is available.ALB NYSE/TOP/ALL, contract: Option(conId=760988597, symbol='ALB', lastTradeDateOrContractMonth='20250404', strike=75.0, right='P', multiplier='100', exchange='SMART', currency='USD', localSymbol='ALB   250404P00075000', tradingClass='ALB')\n",
      "Error 10090, reqId 88: Part of requested market data is not subscribed. Subscription-independent ticks are still active.Delayed market data is available.ALB NYSE/TOP/ALL, contract: Option(conId=760988597, symbol='ALB', lastTradeDateOrContractMonth='20250404', strike=75.0, right='P', multiplier='100', exchange='SMART', currency='USD', localSymbol='ALB   250404P00075000', tradingClass='ALB')\n",
      "Error 10090, reqId 89: Part of requested market data is not subscribed. Subscription-independent ticks are still active.Delayed market data is available.ALB NYSE/TOP/ALL, contract: Option(conId=760988670, symbol='ALB', lastTradeDateOrContractMonth='20250404', strike=76.0, right='P', multiplier='100', exchange='SMART', currency='USD', localSymbol='ALB   250404P00076000', tradingClass='ALB')\n",
      "Error 10090, reqId 90: Part of requested market data is not subscribed. Subscription-independent ticks are still active.Delayed market data is available.ALB NYSE/TOP/ALL, contract: Option(conId=760988597, symbol='ALB', lastTradeDateOrContractMonth='20250404', strike=75.0, right='P', multiplier='100', exchange='SMART', currency='USD', localSymbol='ALB   250404P00075000', tradingClass='ALB')\n",
      "Error 10090, reqId 91: Part of requested market data is not subscribed. Subscription-independent ticks are still active.Delayed market data is available.ALB NYSE/TOP/ALL, contract: Option(conId=760988670, symbol='ALB', lastTradeDateOrContractMonth='20250404', strike=76.0, right='P', multiplier='100', exchange='SMART', currency='USD', localSymbol='ALB   250404P00076000', tradingClass='ALB')\n",
      "Error 10090, reqId 92: Part of requested market data is not subscribed. Subscription-independent ticks are still active.Delayed market data is available.BIDU NASDAQ.NMS/TOP/ALL, contract: Option(conId=755327744, symbol='BIDU', lastTradeDateOrContractMonth='20250516', strike=90.0, right='P', multiplier='100', exchange='SMART', currency='USD', localSymbol='BIDU  250516P00090000', tradingClass='BIDU')\n",
      "Error 10090, reqId 93: Part of requested market data is not subscribed. Subscription-independent ticks are still active.Delayed market data is available.ALB NYSE/TOP/ALL, contract: Option(conId=760988597, symbol='ALB', lastTradeDateOrContractMonth='20250404', strike=75.0, right='P', multiplier='100', exchange='SMART', currency='USD', localSymbol='ALB   250404P00075000', tradingClass='ALB')\n",
      "Error 10090, reqId 94: Part of requested market data is not subscribed. Subscription-independent ticks are still active.Delayed market data is available.ALB NYSE/TOP/ALL, contract: Option(conId=760988670, symbol='ALB', lastTradeDateOrContractMonth='20250404', strike=76.0, right='P', multiplier='100', exchange='SMART', currency='USD', localSymbol='ALB   250404P00076000', tradingClass='ALB')\n",
      "Error 10090, reqId 95: Part of requested market data is not subscribed. Subscription-independent ticks are still active.Delayed market data is available.BIDU NASDAQ.NMS/TOP/ALL, contract: Option(conId=755327744, symbol='BIDU', lastTradeDateOrContractMonth='20250516', strike=90.0, right='P', multiplier='100', exchange='SMART', currency='USD', localSymbol='BIDU  250516P00090000', tradingClass='BIDU')\n",
      "Error 10090, reqId 96: Part of requested market data is not subscribed. Subscription-independent ticks are still active.Delayed market data is available.BIDU NASDAQ.NMS/TOP/ALL, contract: Option(conId=755327783, symbol='BIDU', lastTradeDateOrContractMonth='20250516', strike=95.0, right='P', multiplier='100', exchange='SMART', currency='USD', localSymbol='BIDU  250516P00095000', tradingClass='BIDU')\n",
      "Error 10090, reqId 97: Part of requested market data is not subscribed. Subscription-independent ticks are still active.Delayed market data is available.CTSH NASDAQ.NMS/TOP/ALL, contract: Option(conId=722886411, symbol='CTSH', lastTradeDateOrContractMonth='20250417', strike=72.5, right='P', multiplier='100', exchange='SMART', currency='USD', localSymbol='CTSH  250417P00072500', tradingClass='CTSH')\n",
      "Error 10090, reqId 98: Part of requested market data is not subscribed. Subscription-independent ticks are still active.Delayed market data is available.CTSH NASDAQ.NMS/TOP/ALL, contract: Option(conId=722886491, symbol='CTSH', lastTradeDateOrContractMonth='20250417', strike=75.0, right='P', multiplier='100', exchange='SMART', currency='USD', localSymbol='CTSH  250417P00075000', tradingClass='CTSH')\n",
      "Error 10090, reqId 99: Part of requested market data is not subscribed. Subscription-independent ticks are still active.Delayed market data is available.GOOG NASDAQ.NMS/TOP/ALL, contract: Option(conId=761035804, symbol='GOOG', lastTradeDateOrContractMonth='20250404', strike=155.0, right='P', multiplier='100', exchange='SMART', currency='USD', localSymbol='GOOG  250404P00155000', tradingClass='GOOG')\n",
      "Error 10090, reqId 100: Part of requested market data is not subscribed. Subscription-independent ticks are still active.Delayed market data is available.GOOG NASDAQ.NMS/TOP/ALL, contract: Option(conId=761035843, symbol='GOOG', lastTradeDateOrContractMonth='20250404', strike=160.0, right='P', multiplier='100', exchange='SMART', currency='USD', localSymbol='GOOG  250404P00160000', tradingClass='GOOG')\n",
      "Error 10090, reqId 101: Part of requested market data is not subscribed. Subscription-independent ticks are still active.Delayed market data is available.INTC NASDAQ.NMS/TOP/ALL, contract: Option(conId=759632068, symbol='INTC', lastTradeDateOrContractMonth='20250328', strike=21.0, right='P', multiplier='100', exchange='SMART', currency='USD', localSymbol='INTC  250328P00021000', tradingClass='INTC')\n",
      "Error 10090, reqId 102: Part of requested market data is not subscribed. Subscription-independent ticks are still active.Delayed market data is available.INTC NASDAQ.NMS/TOP/ALL, contract: Option(conId=759632438, symbol='INTC', lastTradeDateOrContractMonth='20250328', strike=24.0, right='P', multiplier='100', exchange='SMART', currency='USD', localSymbol='INTC  250328P00024000', tradingClass='INTC')\n",
      "Error 10090, reqId 103: Part of requested market data is not subscribed. Subscription-independent ticks are still active.Delayed market data is available.LI NASDAQ.NMS/TOP/ALL, contract: Option(conId=759651940, symbol='LI', lastTradeDateOrContractMonth='20250328', strike=26.5, right='P', multiplier='100', exchange='SMART', currency='USD', localSymbol='LI    250328P00026500', tradingClass='LI')\n",
      "Error 10090, reqId 104: Part of requested market data is not subscribed. Subscription-independent ticks are still active.Delayed market data is available.LI NASDAQ.NMS/TOP/ALL, contract: Option(conId=759652105, symbol='LI', lastTradeDateOrContractMonth='20250328', strike=27.0, right='P', multiplier='100', exchange='SMART', currency='USD', localSymbol='LI    250328P00027000', tradingClass='LI')\n",
      "Error 10090, reqId 105: Part of requested market data is not subscribed. Subscription-independent ticks are still active.Delayed market data is available.PLTR NASDAQ.NMS/TOP/ALL, contract: Option(conId=764847965, symbol='PLTR', lastTradeDateOrContractMonth='20250328', strike=79.0, right='P', multiplier='100', exchange='SMART', currency='USD', localSymbol='PLTR  250328P00079000', tradingClass='PLTR')\n",
      "Error 10090, reqId 106: Part of requested market data is not subscribed. Subscription-independent ticks are still active.Delayed market data is available.PLTR NASDAQ.NMS/TOP/ALL, contract: Option(conId=764848210, symbol='PLTR', lastTradeDateOrContractMonth='20250328', strike=84.0, right='P', multiplier='100', exchange='SMART', currency='USD', localSymbol='PLTR  250328P00084000', tradingClass='PLTR')\n",
      "Error 10090, reqId 107: Part of requested market data is not subscribed. Subscription-independent ticks are still active.Delayed market data is available.PLTR NASDAQ.NMS/TOP/ALL, contract: Option(conId=760004128, symbol='PLTR', lastTradeDateOrContractMonth='20250328', strike=85.0, right='P', multiplier='100', exchange='SMART', currency='USD', localSymbol='PLTR  250328P00085000', tradingClass='PLTR')\n",
      "Error 10090, reqId 108: Part of requested market data is not subscribed. Subscription-independent ticks are still active.Delayed market data is available.VST NYSE/TOP/ALL, contract: Option(conId=765324651, symbol='VST', lastTradeDateOrContractMonth='20250328', strike=116.0, right='P', multiplier='100', exchange='SMART', currency='USD', localSymbol='VST   250328P00116000', tradingClass='VST')\n",
      "Error 10090, reqId 109: Part of requested market data is not subscribed. Subscription-independent ticks are still active.Delayed market data is available.VST NYSE/TOP/ALL, contract: Option(conId=765324677, symbol='VST', lastTradeDateOrContractMonth='20250328', strike=117.0, right='P', multiplier='100', exchange='SMART', currency='USD', localSymbol='VST   250328P00117000', tradingClass='VST')\n",
      "Error 10090, reqId 110: Part of requested market data is not subscribed. Subscription-independent ticks are still active.Delayed market data is available.WSM NYSE/TOP/ALL, contract: Option(conId=763248394, symbol='WSM', lastTradeDateOrContractMonth='20250417', strike=145.0, right='P', multiplier='100', exchange='SMART', currency='USD', localSymbol='WSM   250417P00145000', tradingClass='WSM')\n",
      "Error 10090, reqId 111: Part of requested market data is not subscribed. Subscription-independent ticks are still active.Delayed market data is available.WSM NYSE/TOP/ALL, contract: Option(conId=763248479, symbol='WSM', lastTradeDateOrContractMonth='20250417', strike=150.0, right='P', multiplier='100', exchange='SMART', currency='USD', localSymbol='WSM   250417P00150000', tradingClass='WSM')\n",
      "Error 10090, reqId 112: Part of requested market data is not subscribed. Subscription-independent ticks are still active.Delayed market data is available.ALB NYSE/TOP/ALL, contract: Option(conId=760988597, symbol='ALB', lastTradeDateOrContractMonth='20250404', strike=75.0, right='P', multiplier='100', exchange='SMART', currency='USD', localSymbol='ALB   250404P00075000', tradingClass='ALB')\n",
      "Error 10090, reqId 113: Part of requested market data is not subscribed. Subscription-independent ticks are still active.Delayed market data is available.ALB NYSE/TOP/ALL, contract: Option(conId=760988670, symbol='ALB', lastTradeDateOrContractMonth='20250404', strike=76.0, right='P', multiplier='100', exchange='SMART', currency='USD', localSymbol='ALB   250404P00076000', tradingClass='ALB')\n",
      "Error 10090, reqId 114: Part of requested market data is not subscribed. Subscription-independent ticks are still active.Delayed market data is available.BIDU NASDAQ.NMS/TOP/ALL, contract: Option(conId=755327744, symbol='BIDU', lastTradeDateOrContractMonth='20250516', strike=90.0, right='P', multiplier='100', exchange='SMART', currency='USD', localSymbol='BIDU  250516P00090000', tradingClass='BIDU')\n",
      "Error 10090, reqId 115: Part of requested market data is not subscribed. Subscription-independent ticks are still active.Delayed market data is available.BIDU NASDAQ.NMS/TOP/ALL, contract: Option(conId=755327783, symbol='BIDU', lastTradeDateOrContractMonth='20250516', strike=95.0, right='P', multiplier='100', exchange='SMART', currency='USD', localSymbol='BIDU  250516P00095000', tradingClass='BIDU')\n",
      "Error 10090, reqId 116: Part of requested market data is not subscribed. Subscription-independent ticks are still active.Delayed market data is available.CTSH NASDAQ.NMS/TOP/ALL, contract: Option(conId=722886411, symbol='CTSH', lastTradeDateOrContractMonth='20250417', strike=72.5, right='P', multiplier='100', exchange='SMART', currency='USD', localSymbol='CTSH  250417P00072500', tradingClass='CTSH')\n",
      "Error 10090, reqId 117: Part of requested market data is not subscribed. Subscription-independent ticks are still active.Delayed market data is available.CTSH NASDAQ.NMS/TOP/ALL, contract: Option(conId=722886491, symbol='CTSH', lastTradeDateOrContractMonth='20250417', strike=75.0, right='P', multiplier='100', exchange='SMART', currency='USD', localSymbol='CTSH  250417P00075000', tradingClass='CTSH')\n",
      "Error 10090, reqId 118: Part of requested market data is not subscribed. Subscription-independent ticks are still active.Delayed market data is available.GOOG NASDAQ.NMS/TOP/ALL, contract: Option(conId=761035804, symbol='GOOG', lastTradeDateOrContractMonth='20250404', strike=155.0, right='P', multiplier='100', exchange='SMART', currency='USD', localSymbol='GOOG  250404P00155000', tradingClass='GOOG')\n",
      "Error 10090, reqId 119: Part of requested market data is not subscribed. Subscription-independent ticks are still active.Delayed market data is available.GOOG NASDAQ.NMS/TOP/ALL, contract: Option(conId=761035843, symbol='GOOG', lastTradeDateOrContractMonth='20250404', strike=160.0, right='P', multiplier='100', exchange='SMART', currency='USD', localSymbol='GOOG  250404P00160000', tradingClass='GOOG')\n",
      "Error 10090, reqId 120: Part of requested market data is not subscribed. Subscription-independent ticks are still active.Delayed market data is available.INTC NASDAQ.NMS/TOP/ALL, contract: Option(conId=759632068, symbol='INTC', lastTradeDateOrContractMonth='20250328', strike=21.0, right='P', multiplier='100', exchange='SMART', currency='USD', localSymbol='INTC  250328P00021000', tradingClass='INTC')\n"
     ]
    }
   ],
   "source": [
    "from ib_insync import util, IB\n",
    "util.startLoop()\n",
    "ib = IB()\n",
    "ib.connect(port=7496, clientId=37)\n",
    "ib.reqMarketDataType(4)\n",
    "con_list = util.df(ib.portfolio()).loc[:,'contract'].tolist()\n"
   ]
  },
  {
   "cell_type": "code",
   "execution_count": null,
   "metadata": {},
   "outputs": [],
   "source": [
    "con_list = util.df(ib.portfolio()).loc[:,'contract'].tolist()\n",
    "# con_list = util.df(ib.portfolio())"
   ]
  },
  {
   "cell_type": "code",
   "execution_count": null,
   "metadata": {},
   "outputs": [],
   "source": [
    "con_list\n",
    "# [FROM HERE](https://github.com/erdewit/ib_insync/issues/119)"
   ]
  },
  {
   "cell_type": "code",
   "execution_count": null,
   "metadata": {},
   "outputs": [],
   "source": [
    "ib.qualifyContracts(*con_list)"
   ]
  },
  {
   "cell_type": "code",
   "execution_count": null,
   "metadata": {},
   "outputs": [],
   "source": [
    "con_list"
   ]
  },
  {
   "cell_type": "code",
   "execution_count": null,
   "metadata": {},
   "outputs": [],
   "source": [
    "for position in con_list:\n",
    "   # print(type(position))\n",
    "   # print(position.__dict__)\n",
    "   # print(f'{position.symbol} Pos => {position.strike}  - Strike => {position.strike} - Cost =>   ')\n",
    "   # https://stackoverflow.com/questions/56838271/get-bid-ask-price-from-interactive-brokers-using-python\n",
    "   tickers = [ib.reqTickers(position)]\n",
    "   for i, r in enumerate(tickers):\n",
    "    for j, t in enumerate(r):\n",
    "        # print(t.contract.symbol, t.time, t.bid, t.ask, t.close)\n",
    "        # print( f' Symbol {t.contract.symbol}, time: {t.time} bid => {t.bid} ask=>{t.ask} close=>{ t.close}   askDelta=>{t.askGreeks.delta}')\n",
    "        print( f' Symbol {t.contract.symbol},Strike => {position.strike}, right => {position.right}, bid => {t.bid}, ask=>{t.ask}, close=>{ t.close}, askDelta=>{t.askGreeks.delta}')\n",
    "        # print(t.__dict__)\n",
    "   "
   ]
  },
  {
   "cell_type": "code",
   "execution_count": null,
   "metadata": {},
   "outputs": [],
   "source": [
    "for position in con_list:\n",
    "   # https://stackoverflow.com/questions/56838271/get-bid-ask-price-from-interactive-brokers-using-python\n",
    "   tickers = [ib.reqTickers(position)]\n",
    "   for i, r in enumerate(tickers):\n",
    "    for j, t in enumerate(r):\n",
    "        print( f' Time => {t.time}, Symbol {t.contract.symbol},{position.right}{position.strike}, {position.} bid/ask=>{t.bid}/{t.ask}, close=>{ t.close}, askDelta=>{round(t.askGreeks.delta,2)}, askTheta=> {round(t.askGreeks.theta,2)}, bidDelta=>{round(t.bidGreeks.delta,2)} bidTheta=>')\n",
    "        \n",
    "   "
   ]
  },
  {
   "cell_type": "code",
   "execution_count": null,
   "metadata": {},
   "outputs": [],
   "source": [
    "for position in con_list:\n",
    "   # https://stackoverflow.com/questions/56838271/get-bid-ask-price-from-interactive-brokers-using-python\n",
    "   tickers = [ib.reqTickers(position)]\n",
    "   for i, r in enumerate(tickers):\n",
    "    for j, t in enumerate(r):\n",
    "        # print( f' Time => {t.time}, Symbol {t.contract.symbol},{position.right}{position.strike}, {position.} bid/ask=>{t.bid}/{t.ask}, close=>{ t.close}, askDelta=>{round(t.askGreeks.delta,2)}, askTheta=> {round(t.askGreeks.theta,2)}, bidDelta=>{round(t.bidGreeks.delta,2)} ')\n",
    "        print( f' Symbol {t.contract.symbol},Strike => {position.strike}, right => {position.right}, bid => {t.bid}, ask=>{t.ask}, close=>{ t.close}, askDelta=>{round(t.askGreeks.delta,2)} askTheta=> {round(t.askGreeks.theta,2)} bidDelta=>{round(t.bidGreeks.delta,2)} bidTheta=> {round(t.bidGreeks.theta,2)}')\n",
    "        \n",
    "   "
   ]
  },
  {
   "cell_type": "markdown",
   "metadata": {},
   "source": [
    "# pandas "
   ]
  },
  {
   "cell_type": "code",
   "execution_count": null,
   "metadata": {},
   "outputs": [
    {
     "name": "stdout",
     "output_type": "stream",
     "text": [
      "None\n",
      "None\n",
      "None\n",
      "None\n",
      "None\n",
      "None\n",
      "None\n",
      "None\n",
      "None\n"
     ]
    }
   ],
   "source": [
    "\n",
    "def roundOnTwoDecimalPlaces(toRound):\n",
    "   if toRound is not None:\n",
    "    round(toRound,2)\n",
    "   \n",
    "\n",
    "for position in con_list:\n",
    "   # https://stackoverflow.com/questions/56838271/get-bid-ask-price-from-interactive-brokers-using-python\n",
    "   tickers = [ib.reqTickers(position)]\n",
    "   for i, r in enumerate(tickers):\n",
    "    for j, t in enumerate(r):\n",
    "        # print( f' Time => {t.time}, Symbol {t.contract.symbol},{position.right}{position.strike}, {position.} bid/ask=>{t.bid}/{t.ask}, close=>{ t.close}, askDelta=>{round(t.askGreeks.delta,2)}, askTheta=> {round(t.askGreeks.theta,2)}, bidDelta=>{round(t.bidGreeks.delta,2)} ')\n",
    "        # print( f' Symbol {t.contract.symbol},Strike => {position.strike}, right => {position.right}, bid => {t.bid}, ask=>{t.ask}, close=>{ t.close}, askDelta=>{round(t.askGreeks.delta,2)} askTheta=> {round(t.askGreeks.theta,2)} bidDelta=>{round(t.bidGreeks.delta,2)} bidTheta=> {round(t.bidGreeks.theta,2)}')\n",
    "        # print( f' Symbol {t.contract.symbol},Strike => {position.strike}, right => {position.right}, bid => {t.bid}, ask=>{t.ask}, close=>{ t.close}')\n",
    "        # print( f' askDelta=>{round(t.askGreeks.delta,2)} askTheta=> {round(t.askGreeks.theta,2)} ')\n",
    "        if t.askGreeks is not None:\n",
    "            myAskDelta = roundOnTwoDecimalPlaces(t.askGreeks.delta)\n",
    "            print(myAskDelta)\n",
    "        # bidDelta=>{round(t.bidGreeks.delta,2)} bidTheta=> {round(t.bidGreeks.theta,2)}')\n",
    "        \n",
    "   "
   ]
  },
  {
   "cell_type": "code",
   "execution_count": null,
   "metadata": {},
   "outputs": [],
   "source": [
    "import pandas as pd\n",
    "df = pd.DataFrame(con_list)\n",
    "print(df.columns.to_list)\n",
    "# print(tickers)"
   ]
  },
  {
   "cell_type": "code",
   "execution_count": null,
   "metadata": {},
   "outputs": [],
   "source": [
    "import pandas as pd\n",
    "df = pd.DataFrame(con_list)\n",
    "# print(df.columns.to_list)\n",
    "print(df['symbol'])"
   ]
  },
  {
   "cell_type": "code",
   "execution_count": null,
   "metadata": {},
   "outputs": [],
   "source": [
    "from ib_insync import *\n",
    "\n",
    "util.startLoop()\n",
    "\n",
    "ib = IB()\n",
    "ib.sleep(2)\n",
    "ib.connect('127.0.0.1', port=7490, clientId=12) # NB: Non default port could be 7498 on your machine by default when using TWS\n",
    "\n",
    "ib.reqMarketDataType(4) # This line is the one that counts to get delayed data without subscription if available\n"
   ]
  },
  {
   "cell_type": "code",
   "execution_count": null,
   "metadata": {},
   "outputs": [],
   "source": [
    "ib.disconnect()"
   ]
  }
 ],
 "metadata": {
  "kernelspec": {
   "display_name": ".venv",
   "language": "python",
   "name": "python3"
  },
  "language_info": {
   "codemirror_mode": {
    "name": "ipython",
    "version": 3
   },
   "file_extension": ".py",
   "mimetype": "text/x-python",
   "name": "python",
   "nbconvert_exporter": "python",
   "pygments_lexer": "ipython3",
   "version": "3.11.2"
  }
 },
 "nbformat": 4,
 "nbformat_minor": 2
}
