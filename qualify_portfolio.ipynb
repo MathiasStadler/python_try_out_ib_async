{
 "cells": [
  {
   "cell_type": "code",
   "execution_count": null,
   "metadata": {},
   "outputs": [
    {
     "name": "stderr",
     "output_type": "stream",
     "text": [
      "Error 10090, reqId 131: Part of requested market data is not subscribed. Subscription-independent ticks are still active.Delayed market data is available.ALB NYSE/TOP/ALL, contract: Option(conId=760988597, symbol='ALB', lastTradeDateOrContractMonth='20250404', strike=75.0, right='P', multiplier='100', exchange='SMART', currency='USD', localSymbol='ALB   250404P00075000', tradingClass='ALB')\n",
      "Error 10090, reqId 132: Part of requested market data is not subscribed. Subscription-independent ticks are still active.Delayed market data is available.ALB NYSE/TOP/ALL, contract: Option(conId=760988670, symbol='ALB', lastTradeDateOrContractMonth='20250404', strike=76.0, right='P', multiplier='100', exchange='SMART', currency='USD', localSymbol='ALB   250404P00076000', tradingClass='ALB')\n",
      "Error 10090, reqId 133: Part of requested market data is not subscribed. Subscription-independent ticks are still active.Delayed market data is available.BIDU NASDAQ.NMS/TOP/ALL, contract: Option(conId=755327744, symbol='BIDU', lastTradeDateOrContractMonth='20250516', strike=90.0, right='P', multiplier='100', exchange='SMART', currency='USD', localSymbol='BIDU  250516P00090000', tradingClass='BIDU')\n",
      "Error 10090, reqId 134: Part of requested market data is not subscribed. Subscription-independent ticks are still active.Delayed market data is available.BIDU NASDAQ.NMS/TOP/ALL, contract: Option(conId=755327783, symbol='BIDU', lastTradeDateOrContractMonth='20250516', strike=95.0, right='P', multiplier='100', exchange='SMART', currency='USD', localSymbol='BIDU  250516P00095000', tradingClass='BIDU')\n",
      "Error 10090, reqId 135: Part of requested market data is not subscribed. Subscription-independent ticks are still active.Delayed market data is available.CTSH NASDAQ.NMS/TOP/ALL, contract: Option(conId=722886411, symbol='CTSH', lastTradeDateOrContractMonth='20250417', strike=72.5, right='P', multiplier='100', exchange='SMART', currency='USD', localSymbol='CTSH  250417P00072500', tradingClass='CTSH')\n",
      "Error 10090, reqId 136: Part of requested market data is not subscribed. Subscription-independent ticks are still active.Delayed market data is available.CTSH NASDAQ.NMS/TOP/ALL, contract: Option(conId=722886491, symbol='CTSH', lastTradeDateOrContractMonth='20250417', strike=75.0, right='P', multiplier='100', exchange='SMART', currency='USD', localSymbol='CTSH  250417P00075000', tradingClass='CTSH')\n",
      "Error 10090, reqId 137: Part of requested market data is not subscribed. Subscription-independent ticks are still active.Delayed market data is available.GOOG NASDAQ.NMS/TOP/ALL, contract: Option(conId=761035804, symbol='GOOG', lastTradeDateOrContractMonth='20250404', strike=155.0, right='P', multiplier='100', exchange='SMART', currency='USD', localSymbol='GOOG  250404P00155000', tradingClass='GOOG')\n",
      "Error 10090, reqId 138: Part of requested market data is not subscribed. Subscription-independent ticks are still active.Delayed market data is available.GOOG NASDAQ.NMS/TOP/ALL, contract: Option(conId=761035843, symbol='GOOG', lastTradeDateOrContractMonth='20250404', strike=160.0, right='P', multiplier='100', exchange='SMART', currency='USD', localSymbol='GOOG  250404P00160000', tradingClass='GOOG')\n",
      "Error 10090, reqId 139: Part of requested market data is not subscribed. Subscription-independent ticks are still active.Delayed market data is available.INTC NASDAQ.NMS/TOP/ALL, contract: Option(conId=759632068, symbol='INTC', lastTradeDateOrContractMonth='20250328', strike=21.0, right='P', multiplier='100', exchange='SMART', currency='USD', localSymbol='INTC  250328P00021000', tradingClass='INTC')\n",
      "Error 10090, reqId 140: Part of requested market data is not subscribed. Subscription-independent ticks are still active.Delayed market data is available.INTC NASDAQ.NMS/TOP/ALL, contract: Option(conId=759632438, symbol='INTC', lastTradeDateOrContractMonth='20250328', strike=24.0, right='P', multiplier='100', exchange='SMART', currency='USD', localSymbol='INTC  250328P00024000', tradingClass='INTC')\n",
      "Error 10090, reqId 141: Part of requested market data is not subscribed. Subscription-independent ticks are still active.Delayed market data is available.LI NASDAQ.NMS/TOP/ALL, contract: Option(conId=759651940, symbol='LI', lastTradeDateOrContractMonth='20250328', strike=26.5, right='P', multiplier='100', exchange='SMART', currency='USD', localSymbol='LI    250328P00026500', tradingClass='LI')\n",
      "Error 10090, reqId 142: Part of requested market data is not subscribed. Subscription-independent ticks are still active.Delayed market data is available.LI NASDAQ.NMS/TOP/ALL, contract: Option(conId=759652105, symbol='LI', lastTradeDateOrContractMonth='20250328', strike=27.0, right='P', multiplier='100', exchange='SMART', currency='USD', localSymbol='LI    250328P00027000', tradingClass='LI')\n",
      "Error 10090, reqId 143: Part of requested market data is not subscribed. Subscription-independent ticks are still active.Delayed market data is available.PLTR NASDAQ.NMS/TOP/ALL, contract: Option(conId=764847965, symbol='PLTR', lastTradeDateOrContractMonth='20250328', strike=79.0, right='P', multiplier='100', exchange='SMART', currency='USD', localSymbol='PLTR  250328P00079000', tradingClass='PLTR')\n",
      "Error 10090, reqId 144: Part of requested market data is not subscribed. Subscription-independent ticks are still active.Delayed market data is available.PLTR NASDAQ.NMS/TOP/ALL, contract: Option(conId=764848210, symbol='PLTR', lastTradeDateOrContractMonth='20250328', strike=84.0, right='P', multiplier='100', exchange='SMART', currency='USD', localSymbol='PLTR  250328P00084000', tradingClass='PLTR')\n",
      "Error 10090, reqId 145: Part of requested market data is not subscribed. Subscription-independent ticks are still active.Delayed market data is available.PLTR NASDAQ.NMS/TOP/ALL, contract: Option(conId=760004128, symbol='PLTR', lastTradeDateOrContractMonth='20250328', strike=85.0, right='P', multiplier='100', exchange='SMART', currency='USD', localSymbol='PLTR  250328P00085000', tradingClass='PLTR')\n",
      "Error 10090, reqId 146: Part of requested market data is not subscribed. Subscription-independent ticks are still active.Delayed market data is available.VST NYSE/TOP/ALL, contract: Option(conId=765324651, symbol='VST', lastTradeDateOrContractMonth='20250328', strike=116.0, right='P', multiplier='100', exchange='SMART', currency='USD', localSymbol='VST   250328P00116000', tradingClass='VST')\n",
      "Error 10090, reqId 147: Part of requested market data is not subscribed. Subscription-independent ticks are still active.Delayed market data is available.VST NYSE/TOP/ALL, contract: Option(conId=765324677, symbol='VST', lastTradeDateOrContractMonth='20250328', strike=117.0, right='P', multiplier='100', exchange='SMART', currency='USD', localSymbol='VST   250328P00117000', tradingClass='VST')\n",
      "Error 10090, reqId 148: Part of requested market data is not subscribed. Subscription-independent ticks are still active.Delayed market data is available.WSM NYSE/TOP/ALL, contract: Option(conId=763248394, symbol='WSM', lastTradeDateOrContractMonth='20250417', strike=145.0, right='P', multiplier='100', exchange='SMART', currency='USD', localSymbol='WSM   250417P00145000', tradingClass='WSM')\n",
      "Error 10090, reqId 149: Part of requested market data is not subscribed. Subscription-independent ticks are still active.Delayed market data is available.WSM NYSE/TOP/ALL, contract: Option(conId=763248479, symbol='WSM', lastTradeDateOrContractMonth='20250417', strike=150.0, right='P', multiplier='100', exchange='SMART', currency='USD', localSymbol='WSM   250417P00150000', tradingClass='WSM')\n",
      "Error 10090, reqId 150: Part of requested market data is not subscribed. Subscription-independent ticks are still active.Delayed market data is available.ALB NYSE/TOP/ALL, contract: Option(conId=760988597, symbol='ALB', lastTradeDateOrContractMonth='20250404', strike=75.0, right='P', multiplier='100', exchange='SMART', currency='USD', localSymbol='ALB   250404P00075000', tradingClass='ALB')\n",
      "Error 10090, reqId 151: Part of requested market data is not subscribed. Subscription-independent ticks are still active.Delayed market data is available.ALB NYSE/TOP/ALL, contract: Option(conId=760988670, symbol='ALB', lastTradeDateOrContractMonth='20250404', strike=76.0, right='P', multiplier='100', exchange='SMART', currency='USD', localSymbol='ALB   250404P00076000', tradingClass='ALB')\n",
      "Error 10090, reqId 152: Part of requested market data is not subscribed. Subscription-independent ticks are still active.Delayed market data is available.BIDU NASDAQ.NMS/TOP/ALL, contract: Option(conId=755327744, symbol='BIDU', lastTradeDateOrContractMonth='20250516', strike=90.0, right='P', multiplier='100', exchange='SMART', currency='USD', localSymbol='BIDU  250516P00090000', tradingClass='BIDU')\n",
      "Error 10090, reqId 153: Part of requested market data is not subscribed. Subscription-independent ticks are still active.Delayed market data is available.BIDU NASDAQ.NMS/TOP/ALL, contract: Option(conId=755327783, symbol='BIDU', lastTradeDateOrContractMonth='20250516', strike=95.0, right='P', multiplier='100', exchange='SMART', currency='USD', localSymbol='BIDU  250516P00095000', tradingClass='BIDU')\n",
      "Error 10090, reqId 154: Part of requested market data is not subscribed. Subscription-independent ticks are still active.Delayed market data is available.CTSH NASDAQ.NMS/TOP/ALL, contract: Option(conId=722886411, symbol='CTSH', lastTradeDateOrContractMonth='20250417', strike=72.5, right='P', multiplier='100', exchange='SMART', currency='USD', localSymbol='CTSH  250417P00072500', tradingClass='CTSH')\n",
      "Error 10090, reqId 155: Part of requested market data is not subscribed. Subscription-independent ticks are still active.Delayed market data is available.CTSH NASDAQ.NMS/TOP/ALL, contract: Option(conId=722886491, symbol='CTSH', lastTradeDateOrContractMonth='20250417', strike=75.0, right='P', multiplier='100', exchange='SMART', currency='USD', localSymbol='CTSH  250417P00075000', tradingClass='CTSH')\n",
      "Error 10090, reqId 156: Part of requested market data is not subscribed. Subscription-independent ticks are still active.Delayed market data is available.GOOG NASDAQ.NMS/TOP/ALL, contract: Option(conId=761035804, symbol='GOOG', lastTradeDateOrContractMonth='20250404', strike=155.0, right='P', multiplier='100', exchange='SMART', currency='USD', localSymbol='GOOG  250404P00155000', tradingClass='GOOG')\n",
      "Error 10090, reqId 157: Part of requested market data is not subscribed. Subscription-independent ticks are still active.Delayed market data is available.GOOG NASDAQ.NMS/TOP/ALL, contract: Option(conId=761035843, symbol='GOOG', lastTradeDateOrContractMonth='20250404', strike=160.0, right='P', multiplier='100', exchange='SMART', currency='USD', localSymbol='GOOG  250404P00160000', tradingClass='GOOG')\n",
      "Error 10090, reqId 158: Part of requested market data is not subscribed. Subscription-independent ticks are still active.Delayed market data is available.INTC NASDAQ.NMS/TOP/ALL, contract: Option(conId=759632068, symbol='INTC', lastTradeDateOrContractMonth='20250328', strike=21.0, right='P', multiplier='100', exchange='SMART', currency='USD', localSymbol='INTC  250328P00021000', tradingClass='INTC')\n",
      "Error 10090, reqId 159: Part of requested market data is not subscribed. Subscription-independent ticks are still active.Delayed market data is available.INTC NASDAQ.NMS/TOP/ALL, contract: Option(conId=759632438, symbol='INTC', lastTradeDateOrContractMonth='20250328', strike=24.0, right='P', multiplier='100', exchange='SMART', currency='USD', localSymbol='INTC  250328P00024000', tradingClass='INTC')\n",
      "Error 10090, reqId 160: Part of requested market data is not subscribed. Subscription-independent ticks are still active.Delayed market data is available.LI NASDAQ.NMS/TOP/ALL, contract: Option(conId=759651940, symbol='LI', lastTradeDateOrContractMonth='20250328', strike=26.5, right='P', multiplier='100', exchange='SMART', currency='USD', localSymbol='LI    250328P00026500', tradingClass='LI')\n",
      "Error 10090, reqId 161: Part of requested market data is not subscribed. Subscription-independent ticks are still active.Delayed market data is available.LI NASDAQ.NMS/TOP/ALL, contract: Option(conId=759652105, symbol='LI', lastTradeDateOrContractMonth='20250328', strike=27.0, right='P', multiplier='100', exchange='SMART', currency='USD', localSymbol='LI    250328P00027000', tradingClass='LI')\n",
      "Error 10090, reqId 162: Part of requested market data is not subscribed. Subscription-independent ticks are still active.Delayed market data is available.PLTR NASDAQ.NMS/TOP/ALL, contract: Option(conId=764847965, symbol='PLTR', lastTradeDateOrContractMonth='20250328', strike=79.0, right='P', multiplier='100', exchange='SMART', currency='USD', localSymbol='PLTR  250328P00079000', tradingClass='PLTR')\n",
      "Error 10090, reqId 163: Part of requested market data is not subscribed. Subscription-independent ticks are still active.Delayed market data is available.PLTR NASDAQ.NMS/TOP/ALL, contract: Option(conId=764848210, symbol='PLTR', lastTradeDateOrContractMonth='20250328', strike=84.0, right='P', multiplier='100', exchange='SMART', currency='USD', localSymbol='PLTR  250328P00084000', tradingClass='PLTR')\n",
      "Error 10090, reqId 164: Part of requested market data is not subscribed. Subscription-independent ticks are still active.Delayed market data is available.PLTR NASDAQ.NMS/TOP/ALL, contract: Option(conId=760004128, symbol='PLTR', lastTradeDateOrContractMonth='20250328', strike=85.0, right='P', multiplier='100', exchange='SMART', currency='USD', localSymbol='PLTR  250328P00085000', tradingClass='PLTR')\n",
      "Error 10090, reqId 165: Part of requested market data is not subscribed. Subscription-independent ticks are still active.Delayed market data is available.VST NYSE/TOP/ALL, contract: Option(conId=765324651, symbol='VST', lastTradeDateOrContractMonth='20250328', strike=116.0, right='P', multiplier='100', exchange='SMART', currency='USD', localSymbol='VST   250328P00116000', tradingClass='VST')\n",
      "Error 10090, reqId 166: Part of requested market data is not subscribed. Subscription-independent ticks are still active.Delayed market data is available.VST NYSE/TOP/ALL, contract: Option(conId=765324677, symbol='VST', lastTradeDateOrContractMonth='20250328', strike=117.0, right='P', multiplier='100', exchange='SMART', currency='USD', localSymbol='VST   250328P00117000', tradingClass='VST')\n",
      "Error 10090, reqId 167: Part of requested market data is not subscribed. Subscription-independent ticks are still active.Delayed market data is available.WSM NYSE/TOP/ALL, contract: Option(conId=763248394, symbol='WSM', lastTradeDateOrContractMonth='20250417', strike=145.0, right='P', multiplier='100', exchange='SMART', currency='USD', localSymbol='WSM   250417P00145000', tradingClass='WSM')\n",
      "Error 10090, reqId 168: Part of requested market data is not subscribed. Subscription-independent ticks are still active.Delayed market data is available.WSM NYSE/TOP/ALL, contract: Option(conId=763248479, symbol='WSM', lastTradeDateOrContractMonth='20250417', strike=150.0, right='P', multiplier='100', exchange='SMART', currency='USD', localSymbol='WSM   250417P00150000', tradingClass='WSM')\n",
      "Error 10090, reqId 169: Part of requested market data is not subscribed. Subscription-independent ticks are still active.Delayed market data is available.ALB NYSE/TOP/ALL, contract: Option(conId=760988597, symbol='ALB', lastTradeDateOrContractMonth='20250404', strike=75.0, right='P', multiplier='100', exchange='SMART', currency='USD', localSymbol='ALB   250404P00075000', tradingClass='ALB')\n",
      "Error 10090, reqId 170: Part of requested market data is not subscribed. Subscription-independent ticks are still active.Delayed market data is available.ALB NYSE/TOP/ALL, contract: Option(conId=760988670, symbol='ALB', lastTradeDateOrContractMonth='20250404', strike=76.0, right='P', multiplier='100', exchange='SMART', currency='USD', localSymbol='ALB   250404P00076000', tradingClass='ALB')\n",
      "Error 10090, reqId 171: Part of requested market data is not subscribed. Subscription-independent ticks are still active.Delayed market data is available.BIDU NASDAQ.NMS/TOP/ALL, contract: Option(conId=755327744, symbol='BIDU', lastTradeDateOrContractMonth='20250516', strike=90.0, right='P', multiplier='100', exchange='SMART', currency='USD', localSymbol='BIDU  250516P00090000', tradingClass='BIDU')\n",
      "Error 10090, reqId 172: Part of requested market data is not subscribed. Subscription-independent ticks are still active.Delayed market data is available.BIDU NASDAQ.NMS/TOP/ALL, contract: Option(conId=755327783, symbol='BIDU', lastTradeDateOrContractMonth='20250516', strike=95.0, right='P', multiplier='100', exchange='SMART', currency='USD', localSymbol='BIDU  250516P00095000', tradingClass='BIDU')\n",
      "Error 10090, reqId 173: Part of requested market data is not subscribed. Subscription-independent ticks are still active.Delayed market data is available.CTSH NASDAQ.NMS/TOP/ALL, contract: Option(conId=722886411, symbol='CTSH', lastTradeDateOrContractMonth='20250417', strike=72.5, right='P', multiplier='100', exchange='SMART', currency='USD', localSymbol='CTSH  250417P00072500', tradingClass='CTSH')\n",
      "Error 10090, reqId 174: Part of requested market data is not subscribed. Subscription-independent ticks are still active.Delayed market data is available.CTSH NASDAQ.NMS/TOP/ALL, contract: Option(conId=722886491, symbol='CTSH', lastTradeDateOrContractMonth='20250417', strike=75.0, right='P', multiplier='100', exchange='SMART', currency='USD', localSymbol='CTSH  250417P00075000', tradingClass='CTSH')\n",
      "Error 10090, reqId 175: Part of requested market data is not subscribed. Subscription-independent ticks are still active.Delayed market data is available.GOOG NASDAQ.NMS/TOP/ALL, contract: Option(conId=761035804, symbol='GOOG', lastTradeDateOrContractMonth='20250404', strike=155.0, right='P', multiplier='100', exchange='SMART', currency='USD', localSymbol='GOOG  250404P00155000', tradingClass='GOOG')\n",
      "Error 10090, reqId 176: Part of requested market data is not subscribed. Subscription-independent ticks are still active.Delayed market data is available.GOOG NASDAQ.NMS/TOP/ALL, contract: Option(conId=761035843, symbol='GOOG', lastTradeDateOrContractMonth='20250404', strike=160.0, right='P', multiplier='100', exchange='SMART', currency='USD', localSymbol='GOOG  250404P00160000', tradingClass='GOOG')\n",
      "Error 10090, reqId 177: Part of requested market data is not subscribed. Subscription-independent ticks are still active.Delayed market data is available.INTC NASDAQ.NMS/TOP/ALL, contract: Option(conId=759632068, symbol='INTC', lastTradeDateOrContractMonth='20250328', strike=21.0, right='P', multiplier='100', exchange='SMART', currency='USD', localSymbol='INTC  250328P00021000', tradingClass='INTC')\n",
      "Error 10090, reqId 178: Part of requested market data is not subscribed. Subscription-independent ticks are still active.Delayed market data is available.INTC NASDAQ.NMS/TOP/ALL, contract: Option(conId=759632438, symbol='INTC', lastTradeDateOrContractMonth='20250328', strike=24.0, right='P', multiplier='100', exchange='SMART', currency='USD', localSymbol='INTC  250328P00024000', tradingClass='INTC')\n",
      "Error 10090, reqId 179: Part of requested market data is not subscribed. Subscription-independent ticks are still active.Delayed market data is available.LI NASDAQ.NMS/TOP/ALL, contract: Option(conId=759651940, symbol='LI', lastTradeDateOrContractMonth='20250328', strike=26.5, right='P', multiplier='100', exchange='SMART', currency='USD', localSymbol='LI    250328P00026500', tradingClass='LI')\n",
      "Error 10090, reqId 180: Part of requested market data is not subscribed. Subscription-independent ticks are still active.Delayed market data is available.LI NASDAQ.NMS/TOP/ALL, contract: Option(conId=759652105, symbol='LI', lastTradeDateOrContractMonth='20250328', strike=27.0, right='P', multiplier='100', exchange='SMART', currency='USD', localSymbol='LI    250328P00027000', tradingClass='LI')\n",
      "Error 10090, reqId 181: Part of requested market data is not subscribed. Subscription-independent ticks are still active.Delayed market data is available.PLTR NASDAQ.NMS/TOP/ALL, contract: Option(conId=764847965, symbol='PLTR', lastTradeDateOrContractMonth='20250328', strike=79.0, right='P', multiplier='100', exchange='SMART', currency='USD', localSymbol='PLTR  250328P00079000', tradingClass='PLTR')\n",
      "Error 10090, reqId 182: Part of requested market data is not subscribed. Subscription-independent ticks are still active.Delayed market data is available.PLTR NASDAQ.NMS/TOP/ALL, contract: Option(conId=764848210, symbol='PLTR', lastTradeDateOrContractMonth='20250328', strike=84.0, right='P', multiplier='100', exchange='SMART', currency='USD', localSymbol='PLTR  250328P00084000', tradingClass='PLTR')\n",
      "Error 10090, reqId 183: Part of requested market data is not subscribed. Subscription-independent ticks are still active.Delayed market data is available.PLTR NASDAQ.NMS/TOP/ALL, contract: Option(conId=760004128, symbol='PLTR', lastTradeDateOrContractMonth='20250328', strike=85.0, right='P', multiplier='100', exchange='SMART', currency='USD', localSymbol='PLTR  250328P00085000', tradingClass='PLTR')\n",
      "Error 10090, reqId 184: Part of requested market data is not subscribed. Subscription-independent ticks are still active.Delayed market data is available.VST NYSE/TOP/ALL, contract: Option(conId=765324651, symbol='VST', lastTradeDateOrContractMonth='20250328', strike=116.0, right='P', multiplier='100', exchange='SMART', currency='USD', localSymbol='VST   250328P00116000', tradingClass='VST')\n",
      "Error 10090, reqId 185: Part of requested market data is not subscribed. Subscription-independent ticks are still active.Delayed market data is available.VST NYSE/TOP/ALL, contract: Option(conId=765324677, symbol='VST', lastTradeDateOrContractMonth='20250328', strike=117.0, right='P', multiplier='100', exchange='SMART', currency='USD', localSymbol='VST   250328P00117000', tradingClass='VST')\n",
      "Error 10090, reqId 186: Part of requested market data is not subscribed. Subscription-independent ticks are still active.Delayed market data is available.WSM NYSE/TOP/ALL, contract: Option(conId=763248394, symbol='WSM', lastTradeDateOrContractMonth='20250417', strike=145.0, right='P', multiplier='100', exchange='SMART', currency='USD', localSymbol='WSM   250417P00145000', tradingClass='WSM')\n",
      "Error 10090, reqId 187: Part of requested market data is not subscribed. Subscription-independent ticks are still active.Delayed market data is available.WSM NYSE/TOP/ALL, contract: Option(conId=763248479, symbol='WSM', lastTradeDateOrContractMonth='20250417', strike=150.0, right='P', multiplier='100', exchange='SMART', currency='USD', localSymbol='WSM   250417P00150000', tradingClass='WSM')\n"
     ]
    }
   ],
   "source": [
    "from ib_insync import util, IB\n",
    "util.startLoop()\n",
    "ib = IB()\n",
    "ib.connect(port=7496, clientId=37)\n",
    "ib.reqMarketDataType(4)\n",
    "con_list = util.df(ib.portfolio()).loc[:,'contract'].tolist()\n"
   ]
  },
  {
   "cell_type": "code",
   "execution_count": null,
   "metadata": {},
   "outputs": [],
   "source": [
    "con_list = util.df(ib.portfolio()).loc[:,'contract'].tolist()\n",
    "# con_list = util.df(ib.portfolio())"
   ]
  },
  {
   "cell_type": "code",
   "execution_count": null,
   "metadata": {},
   "outputs": [],
   "source": [
    "con_list\n",
    "# [FROM HERE](https://github.com/erdewit/ib_insync/issues/119)"
   ]
  },
  {
   "cell_type": "code",
   "execution_count": null,
   "metadata": {},
   "outputs": [],
   "source": [
    "ib.qualifyContracts(*con_list)"
   ]
  },
  {
   "cell_type": "code",
   "execution_count": null,
   "metadata": {},
   "outputs": [],
   "source": [
    "con_list"
   ]
  },
  {
   "cell_type": "code",
   "execution_count": null,
   "metadata": {},
   "outputs": [],
   "source": [
    "for position in con_list:\n",
    "   # print(type(position))\n",
    "   # print(position.__dict__)\n",
    "   # print(f'{position.symbol} Pos => {position.strike}  - Strike => {position.strike} - Cost =>   ')\n",
    "   # https://stackoverflow.com/questions/56838271/get-bid-ask-price-from-interactive-brokers-using-python\n",
    "   tickers = [ib.reqTickers(position)]\n",
    "   for i, r in enumerate(tickers):\n",
    "    for j, t in enumerate(r):\n",
    "        # print(t.contract.symbol, t.time, t.bid, t.ask, t.close)\n",
    "        # print( f' Symbol {t.contract.symbol}, time: {t.time} bid => {t.bid} ask=>{t.ask} close=>{ t.close}   askDelta=>{t.askGreeks.delta}')\n",
    "        print( f' Symbol {t.contract.symbol},Strike => {position.strike}, right => {position.right}, bid => {t.bid}, ask=>{t.ask}, close=>{ t.close}, askDelta=>{t.askGreeks.delta}')\n",
    "        # print(t.__dict__)\n",
    "   "
   ]
  },
  {
   "cell_type": "code",
   "execution_count": null,
   "metadata": {},
   "outputs": [],
   "source": [
    "for position in con_list:\n",
    "   # https://stackoverflow.com/questions/56838271/get-bid-ask-price-from-interactive-brokers-using-python\n",
    "   tickers = [ib.reqTickers(position)]\n",
    "   for i, r in enumerate(tickers):\n",
    "    for j, t in enumerate(r):\n",
    "        print( f' Time => {t.time}, Symbol {t.contract.symbol},{position.right}{position.strike}, {position.} bid/ask=>{t.bid}/{t.ask}, close=>{ t.close}, askDelta=>{round(t.askGreeks.delta,2)}, askTheta=> {round(t.askGreeks.theta,2)}, bidDelta=>{round(t.bidGreeks.delta,2)} bidTheta=>')\n",
    "        \n",
    "   "
   ]
  },
  {
   "cell_type": "code",
   "execution_count": null,
   "metadata": {},
   "outputs": [],
   "source": [
    "for position in con_list:\n",
    "   # https://stackoverflow.com/questions/56838271/get-bid-ask-price-from-interactive-brokers-using-python\n",
    "   tickers = [ib.reqTickers(position)]\n",
    "   for i, r in enumerate(tickers):\n",
    "    for j, t in enumerate(r):\n",
    "        # print( f' Time => {t.time}, Symbol {t.contract.symbol},{position.right}{position.strike}, {position.} bid/ask=>{t.bid}/{t.ask}, close=>{ t.close}, askDelta=>{round(t.askGreeks.delta,2)}, askTheta=> {round(t.askGreeks.theta,2)}, bidDelta=>{round(t.bidGreeks.delta,2)} ')\n",
    "        print( f' Symbol {t.contract.symbol},Strike => {position.strike}, right => {position.right}, bid => {t.bid}, ask=>{t.ask}, close=>{ t.close}, askDelta=>{round(t.askGreeks.delta,2)} askTheta=> {round(t.askGreeks.theta,2)} bidDelta=>{round(t.bidGreeks.delta,2)} bidTheta=> {round(t.bidGreeks.theta,2)}')\n",
    "        \n",
    "   "
   ]
  },
  {
   "cell_type": "markdown",
   "metadata": {},
   "source": [
    "# pandas "
   ]
  },
  {
   "cell_type": "code",
   "execution_count": null,
   "metadata": {},
   "outputs": [
    {
     "name": "stdout",
     "output_type": "stream",
     "text": [
      " Symbol ALB,Strike => 75.0, right => P, bid => -1.0, ask=>-1.0, close=>1.93\n",
      "askDelta None\n",
      "askTheta None\n",
      " Symbol ALB,Strike => 76.0, right => P, bid => -1.0, ask=>-1.0, close=>2.25\n",
      "askDelta None\n",
      "askTheta None\n",
      " Symbol BIDU,Strike => 90.0, right => P, bid => -1.0, ask=>-1.0, close=>3.9\n",
      "askDelta None\n",
      "askTheta None\n",
      " Symbol BIDU,Strike => 95.0, right => P, bid => -1.0, ask=>-1.0, close=>6.28\n",
      "askDelta None\n",
      "askTheta None\n",
      " Symbol CTSH,Strike => 72.5, right => P, bid => -1.0, ask=>-1.0, close=>0.75\n",
      "askDelta None\n",
      "askTheta None\n",
      " Symbol CTSH,Strike => 75.0, right => P, bid => -1.0, ask=>-1.0, close=>1.35\n",
      "askDelta None\n",
      "askTheta None\n",
      " Symbol GOOG,Strike => 155.0, right => P, bid => -1.0, ask=>-1.0, close=>0.67\n",
      "askDelta None\n",
      "askTheta None\n",
      " Symbol GOOG,Strike => 160.0, right => P, bid => -1.0, ask=>-1.0, close=>1.49\n",
      "askDelta None\n",
      "askTheta None\n",
      " Symbol INTC,Strike => 21.0, right => P, bid => -1.0, ask=>-1.0, close=>0.03\n",
      "askDelta None\n",
      "askTheta None\n",
      " Symbol INTC,Strike => 24.0, right => P, bid => -1.0, ask=>-1.0, close=>0.52\n",
      "askDelta None\n",
      "askTheta None\n",
      " Symbol LI,Strike => 26.5, right => P, bid => -1.0, ask=>-1.0, close=>0.76\n",
      "askDelta None\n",
      "askTheta None\n",
      " Symbol LI,Strike => 27.0, right => P, bid => -1.0, ask=>-1.0, close=>1.06\n",
      "askDelta None\n",
      "askTheta None\n",
      " Symbol PLTR,Strike => 79.0, right => P, bid => -1.0, ask=>-1.0, close=>0.38\n",
      "askDelta None\n",
      "askTheta None\n",
      " Symbol PLTR,Strike => 84.0, right => P, bid => -1.0, ask=>-1.0, close=>0.95\n",
      "askDelta None\n",
      "askTheta None\n",
      " Symbol PLTR,Strike => 85.0, right => P, bid => -1.0, ask=>-1.0, close=>1.13\n",
      "askDelta None\n",
      "askTheta None\n",
      " Symbol VST,Strike => 116.0, right => P, bid => -1.0, ask=>-1.0, close=>0.4\n",
      "askDelta None\n",
      "askTheta None\n",
      " Symbol VST,Strike => 117.0, right => P, bid => -1.0, ask=>-1.0, close=>0.5\n",
      "askDelta None\n",
      "askTheta None\n",
      " Symbol WSM,Strike => 145.0, right => P, bid => -1.0, ask=>-1.0, close=>1.5\n",
      "askDelta None\n",
      "askTheta None\n",
      " Symbol WSM,Strike => 150.0, right => P, bid => -1.0, ask=>-1.0, close=>2.18\n",
      "askDelta None\n",
      "askTheta None\n"
     ]
    }
   ],
   "source": [
    "\n",
    "def roundOnTwoDecimalPlaces(toRound):\n",
    "   if toRound is not None:\n",
    "    round(toRound,2)\n",
    "   \n",
    "def askDelta(t):\n",
    "   if t is not None:\n",
    "      t.askGreeks.delta\n",
    "\n",
    "def askTheta(t):\n",
    "   if t is not None:\n",
    "      t.askGreeks.theta\n",
    "\n",
    "def bidDelta(t):\n",
    "   if t is not None:\n",
    "      t.bidGreeks.delta\n",
    "\n",
    "def bidTheta(t):\n",
    "   if t is not None:\n",
    "      t.bidGreeks.theta\n",
    "\n",
    "for position in con_list:\n",
    "   # https://stackoverflow.com/questions/56838271/get-bid-ask-price-from-interactive-brokers-using-python\n",
    "   tickers = [ib.reqTickers(position)]\n",
    "   for i, r in enumerate(tickers):\n",
    "    for j, t in enumerate(r):\n",
    "        # print( f' Time => {t.time}, Symbol {t.contract.symbol},{position.right}{position.strike}, {position.} bid/ask=>{t.bid}/{t.ask}, close=>{ t.close}, askDelta=>{round(t.askGreeks.delta,2)}, askTheta=> {round(t.askGreeks.theta,2)}, bidDelta=>{round(t.bidGreeks.delta,2)} ')\n",
    "        # print( f' Symbol {t.contract.symbol},Strike => {position.strike}, right => {position.right}, bid => {t.bid}, ask=>{t.ask}, close=>{ t.close}, askDelta=>{round(t.askGreeks.delta,2)} askTheta=> {round(t.askGreeks.theta,2)} bidDelta=>{round(t.bidGreeks.delta,2)} bidTheta=> {round(t.bidGreeks.theta,2)}')\n",
    "        # print( f' Symbol {t.contract.symbol},Strike => {position.strike}, right => {position.right}, bid => {t.bid}, ask=>{t.ask}, close=>{ t.close}')\n",
    "        # print( f' askDelta=>{round(t.askGreeks.delta,2)} askTheta=> {round(t.askGreeks.theta,2)} ')\n",
    "        # if t.askGreeks is not None:\n",
    "        #     myAskDelta = roundOnTwoDecimalPlaces(t.askGreeks.delta)\n",
    "        #     print(myAskDelta)\n",
    "        # bidDelta=>{round(t.bidGreeks.delta,2)} bidTheta=> {round(t.bidGreeks.theta,2)}')\n",
    "        print( f' Symbol {t.contract.symbol},Strike => {position.strike}, right => {position.right}, bid => {t.bid}, ask=>{t.ask}, close=>{ t.close}')\n",
    "        print(\"askDelta {}\".format(askDelta(t)))\n",
    "        print(\"askTheta {}\".format(askTheta(t)))\n",
    "        print(\"bidDelta {}\".format(bidDelta(t)))\n",
    "        print(\"bidTheta {}\".format(bidTheta(t)))\n",
    "   "
   ]
  },
  {
   "cell_type": "code",
   "execution_count": null,
   "metadata": {},
   "outputs": [],
   "source": [
    "import pandas as pd\n",
    "df = pd.DataFrame(con_list)\n",
    "print(df.columns.to_list)\n",
    "# print(tickers)"
   ]
  },
  {
   "cell_type": "code",
   "execution_count": null,
   "metadata": {},
   "outputs": [],
   "source": [
    "import pandas as pd\n",
    "df = pd.DataFrame(con_list)\n",
    "# print(df.columns.to_list)\n",
    "print(df['symbol'])"
   ]
  },
  {
   "cell_type": "code",
   "execution_count": null,
   "metadata": {},
   "outputs": [],
   "source": [
    "from ib_insync import *\n",
    "\n",
    "util.startLoop()\n",
    "\n",
    "ib = IB()\n",
    "ib.sleep(2)\n",
    "ib.connect('127.0.0.1', port=7490, clientId=12) # NB: Non default port could be 7498 on your machine by default when using TWS\n",
    "\n",
    "ib.reqMarketDataType(4) # This line is the one that counts to get delayed data without subscription if available\n"
   ]
  },
  {
   "cell_type": "code",
   "execution_count": null,
   "metadata": {},
   "outputs": [],
   "source": [
    "ib.disconnect()"
   ]
  }
 ],
 "metadata": {
  "kernelspec": {
   "display_name": ".venv",
   "language": "python",
   "name": "python3"
  },
  "language_info": {
   "codemirror_mode": {
    "name": "ipython",
    "version": 3
   },
   "file_extension": ".py",
   "mimetype": "text/x-python",
   "name": "python",
   "nbconvert_exporter": "python",
   "pygments_lexer": "ipython3",
   "version": "3.11.2"
  }
 },
 "nbformat": 4,
 "nbformat_minor": 2
}
