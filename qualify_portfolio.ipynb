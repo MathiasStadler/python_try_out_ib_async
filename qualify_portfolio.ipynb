{
 "cells": [
  {
   "cell_type": "code",
   "execution_count": null,
   "metadata": {},
   "outputs": [
    {
     "name": "stderr",
     "output_type": "stream",
     "text": [
      "Error 10090, reqId 155: Part of requested market data is not subscribed. Subscription-independent ticks are still active.Delayed market data is available.ALB NYSE/TOP/ALL, contract: Option(conId=760988597, symbol='ALB', lastTradeDateOrContractMonth='20250404', strike=75.0, right='P', multiplier='100', exchange='SMART', currency='USD', localSymbol='ALB   250404P00075000', tradingClass='ALB')\n",
      "Error 10090, reqId 156: Part of requested market data is not subscribed. Subscription-independent ticks are still active.Delayed market data is available.ALB NYSE/TOP/ALL, contract: Option(conId=760988670, symbol='ALB', lastTradeDateOrContractMonth='20250404', strike=76.0, right='P', multiplier='100', exchange='SMART', currency='USD', localSymbol='ALB   250404P00076000', tradingClass='ALB')\n",
      "Error 10090, reqId 157: Part of requested market data is not subscribed. Subscription-independent ticks are still active.Delayed market data is available.BIDU NASDAQ.NMS/TOP/ALL, contract: Option(conId=755327744, symbol='BIDU', lastTradeDateOrContractMonth='20250516', strike=90.0, right='P', multiplier='100', exchange='SMART', currency='USD', localSymbol='BIDU  250516P00090000', tradingClass='BIDU')\n",
      "Error 10090, reqId 158: Part of requested market data is not subscribed. Subscription-independent ticks are still active.Delayed market data is available.BIDU NASDAQ.NMS/TOP/ALL, contract: Option(conId=755327783, symbol='BIDU', lastTradeDateOrContractMonth='20250516', strike=95.0, right='P', multiplier='100', exchange='SMART', currency='USD', localSymbol='BIDU  250516P00095000', tradingClass='BIDU')\n",
      "Error 10090, reqId 159: Part of requested market data is not subscribed. Subscription-independent ticks are still active.Delayed market data is available.CTSH NASDAQ.NMS/TOP/ALL, contract: Option(conId=722886411, symbol='CTSH', lastTradeDateOrContractMonth='20250417', strike=72.5, right='P', multiplier='100', exchange='SMART', currency='USD', localSymbol='CTSH  250417P00072500', tradingClass='CTSH')\n",
      "Error 10090, reqId 160: Part of requested market data is not subscribed. Subscription-independent ticks are still active.Delayed market data is available.CTSH NASDAQ.NMS/TOP/ALL, contract: Option(conId=722886491, symbol='CTSH', lastTradeDateOrContractMonth='20250417', strike=75.0, right='P', multiplier='100', exchange='SMART', currency='USD', localSymbol='CTSH  250417P00075000', tradingClass='CTSH')\n",
      "Error 10090, reqId 161: Part of requested market data is not subscribed. Subscription-independent ticks are still active.Delayed market data is available.GOOG NASDAQ.NMS/TOP/ALL, contract: Option(conId=761035804, symbol='GOOG', lastTradeDateOrContractMonth='20250404', strike=155.0, right='P', multiplier='100', exchange='SMART', currency='USD', localSymbol='GOOG  250404P00155000', tradingClass='GOOG')\n",
      "Error 10090, reqId 162: Part of requested market data is not subscribed. Subscription-independent ticks are still active.Delayed market data is available.GOOG NASDAQ.NMS/TOP/ALL, contract: Option(conId=761035843, symbol='GOOG', lastTradeDateOrContractMonth='20250404', strike=160.0, right='P', multiplier='100', exchange='SMART', currency='USD', localSymbol='GOOG  250404P00160000', tradingClass='GOOG')\n",
      "Error 10090, reqId 163: Part of requested market data is not subscribed. Subscription-independent ticks are still active.Delayed market data is available.INTC NASDAQ.NMS/TOP/ALL, contract: Option(conId=759632068, symbol='INTC', lastTradeDateOrContractMonth='20250328', strike=21.0, right='P', multiplier='100', exchange='SMART', currency='USD', localSymbol='INTC  250328P00021000', tradingClass='INTC')\n",
      "Error 10090, reqId 164: Part of requested market data is not subscribed. Subscription-independent ticks are still active.Delayed market data is available.INTC NASDAQ.NMS/TOP/ALL, contract: Option(conId=759632438, symbol='INTC', lastTradeDateOrContractMonth='20250328', strike=24.0, right='P', multiplier='100', exchange='SMART', currency='USD', localSymbol='INTC  250328P00024000', tradingClass='INTC')\n",
      "Error 10090, reqId 165: Part of requested market data is not subscribed. Subscription-independent ticks are still active.Delayed market data is available.LI NASDAQ.NMS/TOP/ALL, contract: Option(conId=759651940, symbol='LI', lastTradeDateOrContractMonth='20250328', strike=26.5, right='P', multiplier='100', exchange='SMART', currency='USD', localSymbol='LI    250328P00026500', tradingClass='LI')\n",
      "Error 10090, reqId 166: Part of requested market data is not subscribed. Subscription-independent ticks are still active.Delayed market data is available.LI NASDAQ.NMS/TOP/ALL, contract: Option(conId=759652105, symbol='LI', lastTradeDateOrContractMonth='20250328', strike=27.0, right='P', multiplier='100', exchange='SMART', currency='USD', localSymbol='LI    250328P00027000', tradingClass='LI')\n",
      "Error 10090, reqId 167: Part of requested market data is not subscribed. Subscription-independent ticks are still active.Delayed market data is available.PLTR NASDAQ.NMS/TOP/ALL, contract: Option(conId=764847965, symbol='PLTR', lastTradeDateOrContractMonth='20250328', strike=79.0, right='P', multiplier='100', exchange='SMART', currency='USD', localSymbol='PLTR  250328P00079000', tradingClass='PLTR')\n",
      "Error 10090, reqId 168: Part of requested market data is not subscribed. Subscription-independent ticks are still active.Delayed market data is available.PLTR NASDAQ.NMS/TOP/ALL, contract: Option(conId=764848210, symbol='PLTR', lastTradeDateOrContractMonth='20250328', strike=84.0, right='P', multiplier='100', exchange='SMART', currency='USD', localSymbol='PLTR  250328P00084000', tradingClass='PLTR')\n",
      "Error 10090, reqId 169: Part of requested market data is not subscribed. Subscription-independent ticks are still active.Delayed market data is available.PLTR NASDAQ.NMS/TOP/ALL, contract: Option(conId=760004128, symbol='PLTR', lastTradeDateOrContractMonth='20250328', strike=85.0, right='P', multiplier='100', exchange='SMART', currency='USD', localSymbol='PLTR  250328P00085000', tradingClass='PLTR')\n",
      "Error 10090, reqId 170: Part of requested market data is not subscribed. Subscription-independent ticks are still active.Delayed market data is available.VST NYSE/TOP/ALL, contract: Option(conId=765324651, symbol='VST', lastTradeDateOrContractMonth='20250328', strike=116.0, right='P', multiplier='100', exchange='SMART', currency='USD', localSymbol='VST   250328P00116000', tradingClass='VST')\n",
      "Error 10090, reqId 171: Part of requested market data is not subscribed. Subscription-independent ticks are still active.Delayed market data is available.VST NYSE/TOP/ALL, contract: Option(conId=765324677, symbol='VST', lastTradeDateOrContractMonth='20250328', strike=117.0, right='P', multiplier='100', exchange='SMART', currency='USD', localSymbol='VST   250328P00117000', tradingClass='VST')\n",
      "Error 10090, reqId 172: Part of requested market data is not subscribed. Subscription-independent ticks are still active.Delayed market data is available.WSM NYSE/TOP/ALL, contract: Option(conId=763248394, symbol='WSM', lastTradeDateOrContractMonth='20250417', strike=145.0, right='P', multiplier='100', exchange='SMART', currency='USD', localSymbol='WSM   250417P00145000', tradingClass='WSM')\n",
      "Error 10090, reqId 173: Part of requested market data is not subscribed. Subscription-independent ticks are still active.Delayed market data is available.WSM NYSE/TOP/ALL, contract: Option(conId=763248479, symbol='WSM', lastTradeDateOrContractMonth='20250417', strike=150.0, right='P', multiplier='100', exchange='SMART', currency='USD', localSymbol='WSM   250417P00150000', tradingClass='WSM')\n"
     ]
    }
   ],
   "source": [
    "from ib_insync import util, IB\n",
    "util.startLoop()\n",
    "ib = IB()\n",
    "ib.connect(port=7496, clientId=37)\n",
    "ib.reqMarketDataType(4)\n",
    "con_list = util.df(ib.portfolio()).loc[:,'contract'].tolist()\n"
   ]
  },
  {
   "cell_type": "code",
   "execution_count": null,
   "metadata": {},
   "outputs": [],
   "source": [
    "con_list = util.df(ib.portfolio()).loc[:,'contract'].tolist()\n",
    "# con_list = util.df(ib.portfolio())"
   ]
  },
  {
   "cell_type": "code",
   "execution_count": null,
   "metadata": {},
   "outputs": [],
   "source": [
    "con_list\n",
    "# [FROM HERE](https://github.com/erdewit/ib_insync/issues/119)"
   ]
  },
  {
   "cell_type": "code",
   "execution_count": null,
   "metadata": {},
   "outputs": [],
   "source": [
    "ib.qualifyContracts(*con_list)"
   ]
  },
  {
   "cell_type": "code",
   "execution_count": null,
   "metadata": {},
   "outputs": [],
   "source": [
    "con_list"
   ]
  },
  {
   "cell_type": "code",
   "execution_count": null,
   "metadata": {},
   "outputs": [],
   "source": [
    "for position in con_list:\n",
    "   # print(type(position))\n",
    "   # print(position.__dict__)\n",
    "   # print(f'{position.symbol} Pos => {position.strike}  - Strike => {position.strike} - Cost =>   ')\n",
    "   # https://stackoverflow.com/questions/56838271/get-bid-ask-price-from-interactive-brokers-using-python\n",
    "   tickers = [ib.reqTickers(position)]\n",
    "   for i, r in enumerate(tickers):\n",
    "    for j, t in enumerate(r):\n",
    "        # print(t.contract.symbol, t.time, t.bid, t.ask, t.close)\n",
    "        # print( f' Symbol {t.contract.symbol}, time: {t.time} bid => {t.bid} ask=>{t.ask} close=>{ t.close}   askDelta=>{t.askGreeks.delta}')\n",
    "        print( f' Symbol {t.contract.symbol},Strike => {position.strike}, right => {position.right}, bid => {t.bid}, ask=>{t.ask}, close=>{ t.close}, askDelta=>{t.askGreeks.delta}')\n",
    "        # print(t.__dict__)\n",
    "   "
   ]
  },
  {
   "cell_type": "code",
   "execution_count": null,
   "metadata": {},
   "outputs": [
    {
     "name": "stdout",
     "output_type": "stream",
     "text": [
      " Symbol ALB,Strike => 75.0, right => P, bid => 1.9, ask=>1.98, close=>2.36, askDelta=>-0.3583701569462638\n",
      " Symbol ALB,Strike => 76.0, right => P, bid => 2.28, ask=>2.37, close=>2.73, askDelta=>-0.40705150244778426\n",
      " Symbol BIDU,Strike => 90.0, right => P, bid => 3.75, ask=>3.85, close=>4.18, askDelta=>-0.3338173155056361\n",
      " Symbol BIDU,Strike => 95.0, right => P, bid => 6.05, ask=>6.2, close=>6.6, askDelta=>-0.45811816220074186\n",
      " Symbol CTSH,Strike => 72.5, right => P, bid => 0.6, ask=>0.7, close=>0.68, askDelta=>-0.21700579906929776\n",
      " Symbol CTSH,Strike => 75.0, right => P, bid => 1.2, ask=>1.3, close=>1.2, askDelta=>-0.3595255058236623\n",
      " Symbol GOOG,Strike => 155.0, right => P, bid => 0.72, ask=>0.74, close=>0.76, askDelta=>-0.1368630529288906\n",
      " Symbol GOOG,Strike => 160.0, right => P, bid => 1.61, ask=>1.64, close=>1.77, askDelta=>-0.2694530252539422\n",
      " Symbol INTC,Strike => 21.0, right => P, bid => 0.02, ask=>0.03, close=>0.05, askDelta=>-0.03383982251519033\n",
      " Symbol INTC,Strike => 24.0, right => P, bid => 0.4, ask=>0.42, close=>0.74, askDelta=>-0.355616348026906\n",
      " Symbol LI,Strike => 26.5, right => P, bid => 0.75, ask=>0.81, close=>0.7, askDelta=>-0.4996608841349316\n",
      " Symbol LI,Strike => 27.0, right => P, bid => 1.04, ask=>1.1, close=>0.96, askDelta=>-0.6024181839200811\n",
      " Symbol PLTR,Strike => 79.0, right => P, bid => 0.47, ask=>0.49, close=>0.94, askDelta=>-0.09942940969987374\n",
      " Symbol PLTR,Strike => 84.0, right => P, bid => 1.2, ask=>1.22, close=>2.12, askDelta=>-0.2226467863580772\n",
      " Symbol PLTR,Strike => 85.0, right => P, bid => 1.45, ask=>1.47, close=>2.46, askDelta=>-0.2575323279755801\n",
      " Symbol VST,Strike => 116.0, right => P, bid => 0.52, ask=>0.58, close=>0.66, askDelta=>-0.08601572095239733\n",
      " Symbol VST,Strike => 117.0, right => P, bid => 0.61, ask=>0.68, close=>0.75, askDelta=>-0.1008550609757263\n",
      " Symbol WSM,Strike => 145.0, right => P, bid => 1.5, ask=>1.75, close=>1.65, askDelta=>-0.15242470757613324\n",
      " Symbol WSM,Strike => 150.0, right => P, bid => 2.45, ask=>2.7, close=>2.48, askDelta=>-0.21915680326837947\n"
     ]
    }
   ],
   "source": [
    "for position in con_list:\n",
    "   # https://stackoverflow.com/questions/56838271/get-bid-ask-price-from-interactive-brokers-using-python\n",
    "   tickers = [ib.reqTickers(position)]\n",
    "   for i, r in enumerate(tickers):\n",
    "    for j, t in enumerate(r):\n",
    "        print( f' Symbol {t.contract.symbol},Strike => {position.strike}, right => {position.right}, bid => {t.bid}, ask=>{t.ask}, close=>{ t.close}, askDelta=>{t.askGreeks.delta}')\n",
    "        \n",
    "   "
   ]
  },
  {
   "cell_type": "markdown",
   "metadata": {},
   "source": []
  },
  {
   "cell_type": "code",
   "execution_count": null,
   "metadata": {},
   "outputs": [],
   "source": [
    "from ib_insync import *\n",
    "\n",
    "util.startLoop()\n",
    "\n",
    "ib = IB()\n",
    "ib.sleep(2)\n",
    "ib.connect('127.0.0.1', port=7490, clientId=12) # NB: Non default port could be 7498 on your machine by default when using TWS\n",
    "\n",
    "ib.reqMarketDataType(4) # This line is the one that counts to get delayed data without subscription if available\n"
   ]
  },
  {
   "cell_type": "code",
   "execution_count": null,
   "metadata": {},
   "outputs": [],
   "source": [
    "ib.disconnect()"
   ]
  }
 ],
 "metadata": {
  "kernelspec": {
   "display_name": ".venv",
   "language": "python",
   "name": "python3"
  },
  "language_info": {
   "codemirror_mode": {
    "name": "ipython",
    "version": 3
   },
   "file_extension": ".py",
   "mimetype": "text/x-python",
   "name": "python",
   "nbconvert_exporter": "python",
   "pygments_lexer": "ipython3",
   "version": "3.11.2"
  }
 },
 "nbformat": 4,
 "nbformat_minor": 2
}
