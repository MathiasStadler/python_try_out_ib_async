{
 "cells": [
  {
   "cell_type": "code",
   "execution_count": null,
   "metadata": {},
   "outputs": [
    {
     "name": "stderr",
     "output_type": "stream",
     "text": [
      "Error 10090, reqId 25: Part of requested market data is not subscribed. Subscription-independent ticks are still active.Delayed market data is available.FTNT NASDAQ.NMS/TOP/ALL, contract: Option(conId=716585921, symbol='FTNT', lastTradeDateOrContractMonth='20250321', strike=85.0, right='P', multiplier='100', exchange='SMART', currency='USD', localSymbol='FTNT  250321P00085000', tradingClass='FTNT')\n",
      "Error 10090, reqId 26: Part of requested market data is not subscribed. Subscription-independent ticks are still active.Delayed market data is available.FTNT NASDAQ.NMS/TOP/ALL, contract: Option(conId=754441244, symbol='FTNT', lastTradeDateOrContractMonth='20250417', strike=82.5, right='P', multiplier='100', exchange='SMART', currency='USD', localSymbol='FTNT  250417P00082500', tradingClass='FTNT')\n",
      "Error 10090, reqId 37: Part of requested market data is not subscribed. Subscription-independent ticks are still active.Delayed market data is available.NVDA NASDAQ.NMS/TOP/ALL, contract: Option(conId=632235321, symbol='NVDA', lastTradeDateOrContractMonth='20250620', strike=57.0, right='P', multiplier='100', exchange='SMART', currency='USD', localSymbol='NVDA  250620P00057000', tradingClass='NVDA')\n",
      "Error 354, reqId 38: Requested market data is not subscribed.NVDA SEP 19 '25 55 Put/TOP/ALL, contract: Option(conId=720447235, symbol='NVDA', lastTradeDateOrContractMonth='20250919', strike=55.0, right='P', multiplier='100', exchange='SMART', currency='USD', localSymbol='NVDA  250919P00055000', tradingClass='NVDA')\n",
      "Error 10090, reqId 38: Part of requested market data is not subscribed. Subscription-independent ticks are still active.Delayed market data is available.NVDA NASDAQ.NMS/TOP/ALL\n",
      "Error 10090, reqId 39: Part of requested market data is not subscribed. Subscription-independent ticks are still active.SWTX NASDAQ.NMS/TOP/ALL, contract: Option(conId=716849936, symbol='SWTX', lastTradeDateOrContractMonth='20250321', strike=35.0, right='P', multiplier='100', exchange='SMART', currency='USD', localSymbol='SWTX  250321P00035000', tradingClass='SWTX')\n",
      "Error 10090, reqId 40: Part of requested market data is not subscribed. Subscription-independent ticks are still active.SWTX NASDAQ.NMS/TOP/ALL, contract: Option(conId=716850106, symbol='SWTX', lastTradeDateOrContractMonth='20250321', strike=45.0, right='P', multiplier='100', exchange='SMART', currency='USD', localSymbol='SWTX  250321P00045000', tradingClass='SWTX')\n"
     ]
    }
   ],
   "source": [
    "from ib_insync import util, IB\n",
    "util.startLoop()\n",
    "ib = IB()\n",
    "ib.connect(port=7496, clientId=37)\n",
    "ib.reqMarketDataType(4)\n",
    "con_list = util.df(ib.portfolio()).loc[:,'contract'].tolist()\n"
   ]
  },
  {
   "cell_type": "code",
   "execution_count": 12,
   "metadata": {},
   "outputs": [],
   "source": [
    "con_list = util.df(ib.portfolio()).loc[:,'contract'].tolist()"
   ]
  },
  {
   "cell_type": "code",
   "execution_count": 13,
   "metadata": {},
   "outputs": [
    {
     "data": {
      "text/plain": [
       "[Option(conId=722780160, symbol='AMZN', lastTradeDateOrContractMonth='20250417', strike=190.0, right='P', multiplier='100', primaryExchange='AMEX', currency='USD', localSymbol='AMZN  250417P00190000', tradingClass='AMZN'),\n",
       " Option(conId=722780255, symbol='AMZN', lastTradeDateOrContractMonth='20250417', strike=195.0, right='P', multiplier='100', primaryExchange='AMEX', currency='USD', localSymbol='AMZN  250417P00195000', tradingClass='AMZN'),\n",
       " Option(conId=716585921, symbol='FTNT', lastTradeDateOrContractMonth='20250321', strike=85.0, right='P', multiplier='100', primaryExchange='AMEX', currency='USD', localSymbol='FTNT  250321P00085000', tradingClass='FTNT'),\n",
       " Option(conId=754441244, symbol='FTNT', lastTradeDateOrContractMonth='20250417', strike=82.5, right='P', multiplier='100', primaryExchange='AMEX', currency='USD', localSymbol='FTNT  250417P00082500', tradingClass='FTNT'),\n",
       " Option(conId=763051174, symbol='MNST', lastTradeDateOrContractMonth='20250417', strike=45.0, right='P', multiplier='100', primaryExchange='AMEX', currency='USD', localSymbol='MNST  250417P00045000', tradingClass='MNST'),\n",
       " Option(conId=763051257, symbol='MNST', lastTradeDateOrContractMonth='20250417', strike=50.0, right='P', multiplier='100', primaryExchange='AMEX', currency='USD', localSymbol='MNST  250417P00050000', tradingClass='MNST'),\n",
       " Option(conId=757679693, symbol='MRVL', lastTradeDateOrContractMonth='20250417', strike=60.0, right='P', multiplier='100', primaryExchange='AMEX', currency='USD', localSymbol='MRVL  250417P00060000', tradingClass='MRVL'),\n",
       " Option(conId=757014510, symbol='MRVL', lastTradeDateOrContractMonth='20250417', strike=65.0, right='P', multiplier='100', primaryExchange='AMEX', currency='USD', localSymbol='MRVL  250417P00065000', tradingClass='MRVL'),\n",
       " Option(conId=723088378, symbol='MS', lastTradeDateOrContractMonth='20250417', strike=92.5, right='P', multiplier='100', primaryExchange='AMEX', currency='USD', localSymbol='MS    250417P00092500', tradingClass='MS'),\n",
       " Option(conId=727377799, symbol='MS', lastTradeDateOrContractMonth='20250718', strike=90.0, right='P', multiplier='100', primaryExchange='AMEX', currency='USD', localSymbol='MS    250718P00090000', tradingClass='MS'),\n",
       " Option(conId=723137208, symbol='MU', lastTradeDateOrContractMonth='20250417', strike=80.0, right='P', multiplier='100', primaryExchange='AMEX', currency='USD', localSymbol='MU    250417P00080000', tradingClass='MU'),\n",
       " Option(conId=723137322, symbol='MU', lastTradeDateOrContractMonth='20250417', strike=85.0, right='P', multiplier='100', primaryExchange='AMEX', currency='USD', localSymbol='MU    250417P00085000', tradingClass='MU'),\n",
       " Option(conId=723106765, symbol='NTRA', lastTradeDateOrContractMonth='20250417', strike=145.0, right='P', multiplier='100', primaryExchange='AMEX', currency='USD', localSymbol='NTRA  250417P00145000', tradingClass='NTRA'),\n",
       " Option(conId=723106828, symbol='NTRA', lastTradeDateOrContractMonth='20250417', strike=150.0, right='P', multiplier='100', primaryExchange='AMEX', currency='USD', localSymbol='NTRA  250417P00150000', tradingClass='NTRA'),\n",
       " Option(conId=632235321, symbol='NVDA', lastTradeDateOrContractMonth='20250620', strike=57.0, right='P', multiplier='100', primaryExchange='AMEX', currency='USD', localSymbol='NVDA  250620P00057000', tradingClass='NVDA'),\n",
       " Option(conId=720447235, symbol='NVDA', lastTradeDateOrContractMonth='20250919', strike=55.0, right='P', multiplier='100', primaryExchange='AMEX', currency='USD', localSymbol='NVDA  250919P00055000', tradingClass='NVDA'),\n",
       " Option(conId=716849936, symbol='SWTX', lastTradeDateOrContractMonth='20250321', strike=35.0, right='P', multiplier='100', primaryExchange='AMEX', currency='USD', localSymbol='SWTX  250321P00035000', tradingClass='SWTX'),\n",
       " Option(conId=716850106, symbol='SWTX', lastTradeDateOrContractMonth='20250321', strike=45.0, right='P', multiplier='100', primaryExchange='AMEX', currency='USD', localSymbol='SWTX  250321P00045000', tradingClass='SWTX'),\n",
       " Option(conId=754123124, symbol='UBER', lastTradeDateOrContractMonth='20250417', strike=70.0, right='P', multiplier='100', primaryExchange='AMEX', currency='USD', localSymbol='UBER  250417P00070000', tradingClass='UBER'),\n",
       " Option(conId=754453318, symbol='UBER', lastTradeDateOrContractMonth='20250417', strike=72.5, right='P', multiplier='100', primaryExchange='AMEX', currency='USD', localSymbol='UBER  250417P00072500', tradingClass='UBER')]"
      ]
     },
     "execution_count": 13,
     "metadata": {},
     "output_type": "execute_result"
    }
   ],
   "source": [
    "con_list\n",
    "# [FROM HERE](https://github.com/erdewit/ib_insync/issues/119)"
   ]
  },
  {
   "cell_type": "code",
   "execution_count": 14,
   "metadata": {},
   "outputs": [
    {
     "data": {
      "text/plain": [
       "[Option(conId=722780160, symbol='AMZN', lastTradeDateOrContractMonth='20250417', strike=190.0, right='P', multiplier='100', exchange='SMART', currency='USD', localSymbol='AMZN  250417P00190000', tradingClass='AMZN'),\n",
       " Option(conId=722780255, symbol='AMZN', lastTradeDateOrContractMonth='20250417', strike=195.0, right='P', multiplier='100', exchange='SMART', currency='USD', localSymbol='AMZN  250417P00195000', tradingClass='AMZN'),\n",
       " Option(conId=716585921, symbol='FTNT', lastTradeDateOrContractMonth='20250321', strike=85.0, right='P', multiplier='100', exchange='SMART', currency='USD', localSymbol='FTNT  250321P00085000', tradingClass='FTNT'),\n",
       " Option(conId=754441244, symbol='FTNT', lastTradeDateOrContractMonth='20250417', strike=82.5, right='P', multiplier='100', exchange='SMART', currency='USD', localSymbol='FTNT  250417P00082500', tradingClass='FTNT'),\n",
       " Option(conId=763051174, symbol='MNST', lastTradeDateOrContractMonth='20250417', strike=45.0, right='P', multiplier='100', exchange='SMART', currency='USD', localSymbol='MNST  250417P00045000', tradingClass='MNST'),\n",
       " Option(conId=763051257, symbol='MNST', lastTradeDateOrContractMonth='20250417', strike=50.0, right='P', multiplier='100', exchange='SMART', currency='USD', localSymbol='MNST  250417P00050000', tradingClass='MNST'),\n",
       " Option(conId=757679693, symbol='MRVL', lastTradeDateOrContractMonth='20250417', strike=60.0, right='P', multiplier='100', exchange='SMART', currency='USD', localSymbol='MRVL  250417P00060000', tradingClass='MRVL'),\n",
       " Option(conId=757014510, symbol='MRVL', lastTradeDateOrContractMonth='20250417', strike=65.0, right='P', multiplier='100', exchange='SMART', currency='USD', localSymbol='MRVL  250417P00065000', tradingClass='MRVL'),\n",
       " Option(conId=723088378, symbol='MS', lastTradeDateOrContractMonth='20250417', strike=92.5, right='P', multiplier='100', exchange='SMART', currency='USD', localSymbol='MS    250417P00092500', tradingClass='MS'),\n",
       " Option(conId=727377799, symbol='MS', lastTradeDateOrContractMonth='20250718', strike=90.0, right='P', multiplier='100', exchange='SMART', currency='USD', localSymbol='MS    250718P00090000', tradingClass='MS'),\n",
       " Option(conId=723137208, symbol='MU', lastTradeDateOrContractMonth='20250417', strike=80.0, right='P', multiplier='100', exchange='SMART', currency='USD', localSymbol='MU    250417P00080000', tradingClass='MU'),\n",
       " Option(conId=723137322, symbol='MU', lastTradeDateOrContractMonth='20250417', strike=85.0, right='P', multiplier='100', exchange='SMART', currency='USD', localSymbol='MU    250417P00085000', tradingClass='MU'),\n",
       " Option(conId=723106765, symbol='NTRA', lastTradeDateOrContractMonth='20250417', strike=145.0, right='P', multiplier='100', exchange='SMART', currency='USD', localSymbol='NTRA  250417P00145000', tradingClass='NTRA'),\n",
       " Option(conId=723106828, symbol='NTRA', lastTradeDateOrContractMonth='20250417', strike=150.0, right='P', multiplier='100', exchange='SMART', currency='USD', localSymbol='NTRA  250417P00150000', tradingClass='NTRA'),\n",
       " Option(conId=632235321, symbol='NVDA', lastTradeDateOrContractMonth='20250620', strike=57.0, right='P', multiplier='100', exchange='SMART', currency='USD', localSymbol='NVDA  250620P00057000', tradingClass='NVDA'),\n",
       " Option(conId=720447235, symbol='NVDA', lastTradeDateOrContractMonth='20250919', strike=55.0, right='P', multiplier='100', exchange='SMART', currency='USD', localSymbol='NVDA  250919P00055000', tradingClass='NVDA'),\n",
       " Option(conId=716849936, symbol='SWTX', lastTradeDateOrContractMonth='20250321', strike=35.0, right='P', multiplier='100', exchange='SMART', currency='USD', localSymbol='SWTX  250321P00035000', tradingClass='SWTX'),\n",
       " Option(conId=716850106, symbol='SWTX', lastTradeDateOrContractMonth='20250321', strike=45.0, right='P', multiplier='100', exchange='SMART', currency='USD', localSymbol='SWTX  250321P00045000', tradingClass='SWTX'),\n",
       " Option(conId=754123124, symbol='UBER', lastTradeDateOrContractMonth='20250417', strike=70.0, right='P', multiplier='100', exchange='SMART', currency='USD', localSymbol='UBER  250417P00070000', tradingClass='UBER'),\n",
       " Option(conId=754453318, symbol='UBER', lastTradeDateOrContractMonth='20250417', strike=72.5, right='P', multiplier='100', exchange='SMART', currency='USD', localSymbol='UBER  250417P00072500', tradingClass='UBER')]"
      ]
     },
     "execution_count": 14,
     "metadata": {},
     "output_type": "execute_result"
    }
   ],
   "source": [
    "ib.qualifyContracts(*con_list)"
   ]
  },
  {
   "cell_type": "code",
   "execution_count": 15,
   "metadata": {},
   "outputs": [
    {
     "data": {
      "text/plain": [
       "[Option(conId=722780160, symbol='AMZN', lastTradeDateOrContractMonth='20250417', strike=190.0, right='P', multiplier='100', exchange='SMART', currency='USD', localSymbol='AMZN  250417P00190000', tradingClass='AMZN'),\n",
       " Option(conId=722780255, symbol='AMZN', lastTradeDateOrContractMonth='20250417', strike=195.0, right='P', multiplier='100', exchange='SMART', currency='USD', localSymbol='AMZN  250417P00195000', tradingClass='AMZN'),\n",
       " Option(conId=716585921, symbol='FTNT', lastTradeDateOrContractMonth='20250321', strike=85.0, right='P', multiplier='100', exchange='SMART', currency='USD', localSymbol='FTNT  250321P00085000', tradingClass='FTNT'),\n",
       " Option(conId=754441244, symbol='FTNT', lastTradeDateOrContractMonth='20250417', strike=82.5, right='P', multiplier='100', exchange='SMART', currency='USD', localSymbol='FTNT  250417P00082500', tradingClass='FTNT'),\n",
       " Option(conId=763051174, symbol='MNST', lastTradeDateOrContractMonth='20250417', strike=45.0, right='P', multiplier='100', exchange='SMART', currency='USD', localSymbol='MNST  250417P00045000', tradingClass='MNST'),\n",
       " Option(conId=763051257, symbol='MNST', lastTradeDateOrContractMonth='20250417', strike=50.0, right='P', multiplier='100', exchange='SMART', currency='USD', localSymbol='MNST  250417P00050000', tradingClass='MNST'),\n",
       " Option(conId=757679693, symbol='MRVL', lastTradeDateOrContractMonth='20250417', strike=60.0, right='P', multiplier='100', exchange='SMART', currency='USD', localSymbol='MRVL  250417P00060000', tradingClass='MRVL'),\n",
       " Option(conId=757014510, symbol='MRVL', lastTradeDateOrContractMonth='20250417', strike=65.0, right='P', multiplier='100', exchange='SMART', currency='USD', localSymbol='MRVL  250417P00065000', tradingClass='MRVL'),\n",
       " Option(conId=723088378, symbol='MS', lastTradeDateOrContractMonth='20250417', strike=92.5, right='P', multiplier='100', exchange='SMART', currency='USD', localSymbol='MS    250417P00092500', tradingClass='MS'),\n",
       " Option(conId=727377799, symbol='MS', lastTradeDateOrContractMonth='20250718', strike=90.0, right='P', multiplier='100', exchange='SMART', currency='USD', localSymbol='MS    250718P00090000', tradingClass='MS'),\n",
       " Option(conId=723137208, symbol='MU', lastTradeDateOrContractMonth='20250417', strike=80.0, right='P', multiplier='100', exchange='SMART', currency='USD', localSymbol='MU    250417P00080000', tradingClass='MU'),\n",
       " Option(conId=723137322, symbol='MU', lastTradeDateOrContractMonth='20250417', strike=85.0, right='P', multiplier='100', exchange='SMART', currency='USD', localSymbol='MU    250417P00085000', tradingClass='MU'),\n",
       " Option(conId=723106765, symbol='NTRA', lastTradeDateOrContractMonth='20250417', strike=145.0, right='P', multiplier='100', exchange='SMART', currency='USD', localSymbol='NTRA  250417P00145000', tradingClass='NTRA'),\n",
       " Option(conId=723106828, symbol='NTRA', lastTradeDateOrContractMonth='20250417', strike=150.0, right='P', multiplier='100', exchange='SMART', currency='USD', localSymbol='NTRA  250417P00150000', tradingClass='NTRA'),\n",
       " Option(conId=632235321, symbol='NVDA', lastTradeDateOrContractMonth='20250620', strike=57.0, right='P', multiplier='100', exchange='SMART', currency='USD', localSymbol='NVDA  250620P00057000', tradingClass='NVDA'),\n",
       " Option(conId=720447235, symbol='NVDA', lastTradeDateOrContractMonth='20250919', strike=55.0, right='P', multiplier='100', exchange='SMART', currency='USD', localSymbol='NVDA  250919P00055000', tradingClass='NVDA'),\n",
       " Option(conId=716849936, symbol='SWTX', lastTradeDateOrContractMonth='20250321', strike=35.0, right='P', multiplier='100', exchange='SMART', currency='USD', localSymbol='SWTX  250321P00035000', tradingClass='SWTX'),\n",
       " Option(conId=716850106, symbol='SWTX', lastTradeDateOrContractMonth='20250321', strike=45.0, right='P', multiplier='100', exchange='SMART', currency='USD', localSymbol='SWTX  250321P00045000', tradingClass='SWTX'),\n",
       " Option(conId=754123124, symbol='UBER', lastTradeDateOrContractMonth='20250417', strike=70.0, right='P', multiplier='100', exchange='SMART', currency='USD', localSymbol='UBER  250417P00070000', tradingClass='UBER'),\n",
       " Option(conId=754453318, symbol='UBER', lastTradeDateOrContractMonth='20250417', strike=72.5, right='P', multiplier='100', exchange='SMART', currency='USD', localSymbol='UBER  250417P00072500', tradingClass='UBER')]"
      ]
     },
     "execution_count": 15,
     "metadata": {},
     "output_type": "execute_result"
    }
   ],
   "source": [
    "con_list"
   ]
  },
  {
   "cell_type": "code",
   "execution_count": 16,
   "metadata": {},
   "outputs": [
    {
     "name": "stdout",
     "output_type": "stream",
     "text": [
      "<class 'ib_insync.contract.Option'>\n",
      "{'secType': 'OPT', 'conId': 722780160, 'symbol': 'AMZN', 'lastTradeDateOrContractMonth': '20250417', 'strike': 190.0, 'right': 'P', 'multiplier': '100', 'exchange': 'SMART', 'primaryExchange': '', 'currency': 'USD', 'localSymbol': 'AMZN  250417P00190000', 'tradingClass': 'AMZN', 'includeExpired': False, 'secIdType': '', 'secId': '', 'description': '', 'issuerId': '', 'comboLegsDescrip': '', 'comboLegs': [], 'deltaNeutralContract': None}\n",
      "AMZN Pos => 190.0  - Strike => 190.0 - Cost =>   \n",
      "AMZN 2025-03-08 08:34:41.766733+00:00 5.0 5.1 4.95\n",
      "<class 'ib_insync.contract.Option'>\n",
      "{'secType': 'OPT', 'conId': 722780255, 'symbol': 'AMZN', 'lastTradeDateOrContractMonth': '20250417', 'strike': 195.0, 'right': 'P', 'multiplier': '100', 'exchange': 'SMART', 'primaryExchange': '', 'currency': 'USD', 'localSymbol': 'AMZN  250417P00195000', 'tradingClass': 'AMZN', 'includeExpired': False, 'secIdType': '', 'secId': '', 'description': '', 'issuerId': '', 'comboLegsDescrip': '', 'comboLegs': [], 'deltaNeutralContract': None}\n",
      "AMZN Pos => 195.0  - Strike => 195.0 - Cost =>   \n",
      "AMZN 2025-03-08 08:34:53.766748+00:00 6.7 6.8 6.55\n",
      "<class 'ib_insync.contract.Option'>\n",
      "{'secType': 'OPT', 'conId': 716585921, 'symbol': 'FTNT', 'lastTradeDateOrContractMonth': '20250321', 'strike': 85.0, 'right': 'P', 'multiplier': '100', 'exchange': 'SMART', 'primaryExchange': '', 'currency': 'USD', 'localSymbol': 'FTNT  250321P00085000', 'tradingClass': 'FTNT', 'includeExpired': False, 'secIdType': '', 'secId': '', 'description': '', 'issuerId': '', 'comboLegsDescrip': '', 'comboLegs': [], 'deltaNeutralContract': None}\n",
      "FTNT Pos => 85.0  - Strike => 85.0 - Cost =>   \n",
      "FTNT None nan nan nan\n",
      "<class 'ib_insync.contract.Option'>\n",
      "{'secType': 'OPT', 'conId': 754441244, 'symbol': 'FTNT', 'lastTradeDateOrContractMonth': '20250417', 'strike': 82.5, 'right': 'P', 'multiplier': '100', 'exchange': 'SMART', 'primaryExchange': '', 'currency': 'USD', 'localSymbol': 'FTNT  250417P00082500', 'tradingClass': 'FTNT', 'includeExpired': False, 'secIdType': '', 'secId': '', 'description': '', 'issuerId': '', 'comboLegsDescrip': '', 'comboLegs': [], 'deltaNeutralContract': None}\n",
      "FTNT Pos => 82.5  - Strike => 82.5 - Cost =>   \n",
      "FTNT 2025-03-08 08:34:54.348138+00:00 nan nan nan\n",
      "<class 'ib_insync.contract.Option'>\n",
      "{'secType': 'OPT', 'conId': 763051174, 'symbol': 'MNST', 'lastTradeDateOrContractMonth': '20250417', 'strike': 45.0, 'right': 'P', 'multiplier': '100', 'exchange': 'SMART', 'primaryExchange': '', 'currency': 'USD', 'localSymbol': 'MNST  250417P00045000', 'tradingClass': 'MNST', 'includeExpired': False, 'secIdType': '', 'secId': '', 'description': '', 'issuerId': '', 'comboLegsDescrip': '', 'comboLegs': [], 'deltaNeutralContract': None}\n",
      "MNST Pos => 45.0  - Strike => 45.0 - Cost =>   \n",
      "MNST 2025-03-08 08:35:05.768911+00:00 nan 0.2 0.05\n",
      "<class 'ib_insync.contract.Option'>\n",
      "{'secType': 'OPT', 'conId': 763051257, 'symbol': 'MNST', 'lastTradeDateOrContractMonth': '20250417', 'strike': 50.0, 'right': 'P', 'multiplier': '100', 'exchange': 'SMART', 'primaryExchange': '', 'currency': 'USD', 'localSymbol': 'MNST  250417P00050000', 'tradingClass': 'MNST', 'includeExpired': False, 'secIdType': '', 'secId': '', 'description': '', 'issuerId': '', 'comboLegsDescrip': '', 'comboLegs': [], 'deltaNeutralContract': None}\n",
      "MNST Pos => 50.0  - Strike => 50.0 - Cost =>   \n",
      "MNST 2025-03-08 08:35:17.768959+00:00 0.25 0.35 0.28\n",
      "<class 'ib_insync.contract.Option'>\n",
      "{'secType': 'OPT', 'conId': 757679693, 'symbol': 'MRVL', 'lastTradeDateOrContractMonth': '20250417', 'strike': 60.0, 'right': 'P', 'multiplier': '100', 'exchange': 'SMART', 'primaryExchange': '', 'currency': 'USD', 'localSymbol': 'MRVL  250417P00060000', 'tradingClass': 'MRVL', 'includeExpired': False, 'secIdType': '', 'secId': '', 'description': '', 'issuerId': '', 'comboLegsDescrip': '', 'comboLegs': [], 'deltaNeutralContract': None}\n",
      "MRVL Pos => 60.0  - Strike => 60.0 - Cost =>   \n",
      "MRVL 2025-03-08 08:35:29.770151+00:00 1.64 1.67 1.6\n",
      "<class 'ib_insync.contract.Option'>\n",
      "{'secType': 'OPT', 'conId': 757014510, 'symbol': 'MRVL', 'lastTradeDateOrContractMonth': '20250417', 'strike': 65.0, 'right': 'P', 'multiplier': '100', 'exchange': 'SMART', 'primaryExchange': '', 'currency': 'USD', 'localSymbol': 'MRVL  250417P00065000', 'tradingClass': 'MRVL', 'includeExpired': False, 'secIdType': '', 'secId': '', 'description': '', 'issuerId': '', 'comboLegsDescrip': '', 'comboLegs': [], 'deltaNeutralContract': None}\n",
      "MRVL Pos => 65.0  - Strike => 65.0 - Cost =>   \n",
      "MRVL 2025-03-08 08:35:41.771822+00:00 3.0 3.1 2.7\n",
      "<class 'ib_insync.contract.Option'>\n",
      "{'secType': 'OPT', 'conId': 723088378, 'symbol': 'MS', 'lastTradeDateOrContractMonth': '20250417', 'strike': 92.5, 'right': 'P', 'multiplier': '100', 'exchange': 'SMART', 'primaryExchange': '', 'currency': 'USD', 'localSymbol': 'MS    250417P00092500', 'tradingClass': 'MS', 'includeExpired': False, 'secIdType': '', 'secId': '', 'description': '', 'issuerId': '', 'comboLegsDescrip': '', 'comboLegs': [], 'deltaNeutralContract': None}\n",
      "MS Pos => 92.5  - Strike => 92.5 - Cost =>   \n",
      "MS 2025-03-08 08:35:53.773216+00:00 0.46 0.48 0.54\n",
      "<class 'ib_insync.contract.Option'>\n",
      "{'secType': 'OPT', 'conId': 727377799, 'symbol': 'MS', 'lastTradeDateOrContractMonth': '20250718', 'strike': 90.0, 'right': 'P', 'multiplier': '100', 'exchange': 'SMART', 'primaryExchange': '', 'currency': 'USD', 'localSymbol': 'MS    250718P00090000', 'tradingClass': 'MS', 'includeExpired': False, 'secIdType': '', 'secId': '', 'description': '', 'issuerId': '', 'comboLegsDescrip': '', 'comboLegs': [], 'deltaNeutralContract': None}\n",
      "MS Pos => 90.0  - Strike => 90.0 - Cost =>   \n",
      "MS 2025-03-08 08:36:05.774072+00:00 1.25 1.33 1.39\n",
      "<class 'ib_insync.contract.Option'>\n",
      "{'secType': 'OPT', 'conId': 723137208, 'symbol': 'MU', 'lastTradeDateOrContractMonth': '20250417', 'strike': 80.0, 'right': 'P', 'multiplier': '100', 'exchange': 'SMART', 'primaryExchange': '', 'currency': 'USD', 'localSymbol': 'MU    250417P00080000', 'tradingClass': 'MU', 'includeExpired': False, 'secIdType': '', 'secId': '', 'description': '', 'issuerId': '', 'comboLegsDescrip': '', 'comboLegs': [], 'deltaNeutralContract': None}\n",
      "MU Pos => 80.0  - Strike => 80.0 - Cost =>   \n",
      "MU 2025-03-08 08:36:17.775392+00:00 2.64 2.7 3.85\n",
      "<class 'ib_insync.contract.Option'>\n",
      "{'secType': 'OPT', 'conId': 723137322, 'symbol': 'MU', 'lastTradeDateOrContractMonth': '20250417', 'strike': 85.0, 'right': 'P', 'multiplier': '100', 'exchange': 'SMART', 'primaryExchange': '', 'currency': 'USD', 'localSymbol': 'MU    250417P00085000', 'tradingClass': 'MU', 'includeExpired': False, 'secIdType': '', 'secId': '', 'description': '', 'issuerId': '', 'comboLegsDescrip': '', 'comboLegs': [], 'deltaNeutralContract': None}\n",
      "MU Pos => 85.0  - Strike => 85.0 - Cost =>   \n",
      "MU 2025-03-08 08:36:29.775310+00:00 4.1 6.2 5.75\n",
      "<class 'ib_insync.contract.Option'>\n",
      "{'secType': 'OPT', 'conId': 723106765, 'symbol': 'NTRA', 'lastTradeDateOrContractMonth': '20250417', 'strike': 145.0, 'right': 'P', 'multiplier': '100', 'exchange': 'SMART', 'primaryExchange': '', 'currency': 'USD', 'localSymbol': 'NTRA  250417P00145000', 'tradingClass': 'NTRA', 'includeExpired': False, 'secIdType': '', 'secId': '', 'description': '', 'issuerId': '', 'comboLegsDescrip': '', 'comboLegs': [], 'deltaNeutralContract': None}\n",
      "NTRA Pos => 145.0  - Strike => 145.0 - Cost =>   \n",
      "NTRA 2025-03-08 08:36:41.775801+00:00 10.9 14.0 11.96\n",
      "<class 'ib_insync.contract.Option'>\n",
      "{'secType': 'OPT', 'conId': 723106828, 'symbol': 'NTRA', 'lastTradeDateOrContractMonth': '20250417', 'strike': 150.0, 'right': 'P', 'multiplier': '100', 'exchange': 'SMART', 'primaryExchange': '', 'currency': 'USD', 'localSymbol': 'NTRA  250417P00150000', 'tradingClass': 'NTRA', 'includeExpired': False, 'secIdType': '', 'secId': '', 'description': '', 'issuerId': '', 'comboLegsDescrip': '', 'comboLegs': [], 'deltaNeutralContract': None}\n",
      "NTRA Pos => 150.0  - Strike => 150.0 - Cost =>   \n",
      "NTRA 2025-03-08 08:36:53.777720+00:00 13.5 16.9 15.24\n",
      "<class 'ib_insync.contract.Option'>\n",
      "{'secType': 'OPT', 'conId': 632235321, 'symbol': 'NVDA', 'lastTradeDateOrContractMonth': '20250620', 'strike': 57.0, 'right': 'P', 'multiplier': '100', 'exchange': 'SMART', 'primaryExchange': '', 'currency': 'USD', 'localSymbol': 'NVDA  250620P00057000', 'tradingClass': 'NVDA', 'includeExpired': False, 'secIdType': '', 'secId': '', 'description': '', 'issuerId': '', 'comboLegsDescrip': '', 'comboLegs': [], 'deltaNeutralContract': None}\n",
      "NVDA Pos => 57.0  - Strike => 57.0 - Cost =>   \n",
      "NVDA None nan nan nan\n",
      "<class 'ib_insync.contract.Option'>\n",
      "{'secType': 'OPT', 'conId': 720447235, 'symbol': 'NVDA', 'lastTradeDateOrContractMonth': '20250919', 'strike': 55.0, 'right': 'P', 'multiplier': '100', 'exchange': 'SMART', 'primaryExchange': '', 'currency': 'USD', 'localSymbol': 'NVDA  250919P00055000', 'tradingClass': 'NVDA', 'includeExpired': False, 'secIdType': '', 'secId': '', 'description': '', 'issuerId': '', 'comboLegsDescrip': '', 'comboLegs': [], 'deltaNeutralContract': None}\n",
      "NVDA Pos => 55.0  - Strike => 55.0 - Cost =>   \n",
      "NVDA None nan nan nan\n",
      "<class 'ib_insync.contract.Option'>\n",
      "{'secType': 'OPT', 'conId': 716849936, 'symbol': 'SWTX', 'lastTradeDateOrContractMonth': '20250321', 'strike': 35.0, 'right': 'P', 'multiplier': '100', 'exchange': 'SMART', 'primaryExchange': '', 'currency': 'USD', 'localSymbol': 'SWTX  250321P00035000', 'tradingClass': 'SWTX', 'includeExpired': False, 'secIdType': '', 'secId': '', 'description': '', 'issuerId': '', 'comboLegsDescrip': '', 'comboLegs': [], 'deltaNeutralContract': None}\n",
      "SWTX Pos => 35.0  - Strike => 35.0 - Cost =>   \n",
      "SWTX 2025-03-08 08:36:54.224310+00:00 nan nan nan\n",
      "<class 'ib_insync.contract.Option'>\n",
      "{'secType': 'OPT', 'conId': 716850106, 'symbol': 'SWTX', 'lastTradeDateOrContractMonth': '20250321', 'strike': 45.0, 'right': 'P', 'multiplier': '100', 'exchange': 'SMART', 'primaryExchange': '', 'currency': 'USD', 'localSymbol': 'SWTX  250321P00045000', 'tradingClass': 'SWTX', 'includeExpired': False, 'secIdType': '', 'secId': '', 'description': '', 'issuerId': '', 'comboLegsDescrip': '', 'comboLegs': [], 'deltaNeutralContract': None}\n",
      "SWTX Pos => 45.0  - Strike => 45.0 - Cost =>   \n",
      "SWTX 2025-03-08 08:36:54.268302+00:00 nan nan nan\n",
      "<class 'ib_insync.contract.Option'>\n",
      "{'secType': 'OPT', 'conId': 754123124, 'symbol': 'UBER', 'lastTradeDateOrContractMonth': '20250417', 'strike': 70.0, 'right': 'P', 'multiplier': '100', 'exchange': 'SMART', 'primaryExchange': '', 'currency': 'USD', 'localSymbol': 'UBER  250417P00070000', 'tradingClass': 'UBER', 'includeExpired': False, 'secIdType': '', 'secId': '', 'description': '', 'issuerId': '', 'comboLegsDescrip': '', 'comboLegs': [], 'deltaNeutralContract': None}\n",
      "UBER Pos => 70.0  - Strike => 70.0 - Cost =>   \n",
      "UBER 2025-03-08 08:37:05.928378+00:00 1.51 1.58 2.05\n",
      "<class 'ib_insync.contract.Option'>\n",
      "{'secType': 'OPT', 'conId': 754453318, 'symbol': 'UBER', 'lastTradeDateOrContractMonth': '20250417', 'strike': 72.5, 'right': 'P', 'multiplier': '100', 'exchange': 'SMART', 'primaryExchange': '', 'currency': 'USD', 'localSymbol': 'UBER  250417P00072500', 'tradingClass': 'UBER', 'includeExpired': False, 'secIdType': '', 'secId': '', 'description': '', 'issuerId': '', 'comboLegsDescrip': '', 'comboLegs': [], 'deltaNeutralContract': None}\n",
      "UBER Pos => 72.5  - Strike => 72.5 - Cost =>   \n",
      "UBER 2025-03-08 08:37:17.928269+00:00 2.21 2.27 2.87\n"
     ]
    }
   ],
   "source": [
    "for position in con_list:\n",
    "   print(type(position))\n",
    "   print(position.__dict__)\n",
    "   print(f'{position.symbol} Pos => {position.strike}  - Strike => {position.strike} - Cost =>   ')\n",
    "   tickers = [ib.reqTickers(position)]\n",
    "   for i, r in enumerate(tickers):\n",
    "    for j, t in enumerate(r):\n",
    "        print(t.contract.symbol, t.time, t.bid, t.ask, t.close)\n",
    "   "
   ]
  },
  {
   "cell_type": "markdown",
   "metadata": {},
   "source": []
  },
  {
   "cell_type": "code",
   "execution_count": null,
   "metadata": {},
   "outputs": [],
   "source": [
    "from ib_insync import *\n",
    "\n",
    "util.startLoop()\n",
    "\n",
    "ib = IB()\n",
    "ib.sleep(2)\n",
    "ib.connect('127.0.0.1', port=7490, clientId=12) # NB: Non default port could be 7498 on your machine by default when using TWS\n",
    "\n",
    "ib.reqMarketDataType(4) # This line is the one that counts to get delayed data without subscription if available\n"
   ]
  },
  {
   "cell_type": "code",
   "execution_count": 10,
   "metadata": {},
   "outputs": [],
   "source": [
    "ib.disconnect()"
   ]
  }
 ],
 "metadata": {
  "kernelspec": {
   "display_name": ".venv",
   "language": "python",
   "name": "python3"
  },
  "language_info": {
   "codemirror_mode": {
    "name": "ipython",
    "version": 3
   },
   "file_extension": ".py",
   "mimetype": "text/x-python",
   "name": "python",
   "nbconvert_exporter": "python",
   "pygments_lexer": "ipython3",
   "version": "3.11.2"
  }
 },
 "nbformat": 4,
 "nbformat_minor": 2
}
