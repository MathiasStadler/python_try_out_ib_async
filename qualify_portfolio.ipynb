{
 "cells": [
  {
   "cell_type": "code",
   "execution_count": null,
   "metadata": {},
   "outputs": [],
   "source": [
    "from ib_insync import util, IB\n",
    "util.startLoop()\n",
    "ib = IB()\n",
    "ib.connect(port=7496, clientId=37)\n",
    "ib.reqMarketDataType(4)\n",
    "con_list = util.df(ib.portfolio()).loc[:,'contract'].tolist()\n"
   ]
  },
  {
   "cell_type": "code",
   "execution_count": null,
   "metadata": {},
   "outputs": [],
   "source": [
    "con_list = util.df(ib.portfolio()).loc[:,'contract'].tolist()\n",
    "# con_list = util.df(ib.portfolio())"
   ]
  },
  {
   "cell_type": "code",
   "execution_count": null,
   "metadata": {},
   "outputs": [],
   "source": [
    "con_list\n",
    "# [FROM HERE](https://github.com/erdewit/ib_insync/issues/119)"
   ]
  },
  {
   "cell_type": "code",
   "execution_count": null,
   "metadata": {},
   "outputs": [],
   "source": [
    "ib.qualifyContracts(*con_list)"
   ]
  },
  {
   "cell_type": "code",
   "execution_count": null,
   "metadata": {},
   "outputs": [],
   "source": [
    "con_list"
   ]
  },
  {
   "cell_type": "code",
   "execution_count": null,
   "metadata": {},
   "outputs": [],
   "source": [
    "for position in con_list:\n",
    "   # print(type(position))\n",
    "   # print(position.__dict__)\n",
    "   # print(f'{position.symbol} Pos => {position.strike}  - Strike => {position.strike} - Cost =>   ')\n",
    "   # https://stackoverflow.com/questions/56838271/get-bid-ask-price-from-interactive-brokers-using-python\n",
    "   tickers = [ib.reqTickers(position)]\n",
    "   for i, r in enumerate(tickers):\n",
    "    for j, t in enumerate(r):\n",
    "        # print(t.contract.symbol, t.time, t.bid, t.ask, t.close)\n",
    "        # print( f' Symbol {t.contract.symbol}, time: {t.time} bid => {t.bid} ask=>{t.ask} close=>{ t.close}   askDelta=>{t.askGreeks.delta}')\n",
    "        print( f' Symbol {t.contract.symbol},Strike => {position.strike}, right => {position.right}, bid => {t.bid}, ask=>{t.ask}, close=>{ t.close}, askDelta=>{t.askGreeks.delta}')\n",
    "        # print(t.__dict__)\n",
    "   "
   ]
  },
  {
   "cell_type": "code",
   "execution_count": null,
   "metadata": {},
   "outputs": [],
   "source": [
    "for position in con_list:\n",
    "   # https://stackoverflow.com/questions/56838271/get-bid-ask-price-from-interactive-brokers-using-python\n",
    "   tickers = [ib.reqTickers(position)]\n",
    "   for i, r in enumerate(tickers):\n",
    "    for j, t in enumerate(r):\n",
    "        print( f' Time => {t.time}, Symbol {t.contract.symbol},{position.right}{position.strike}, {position.} bid/ask=>{t.bid}/{t.ask}, close=>{ t.close}, askDelta=>{round(t.askGreeks.delta,2)}, askTheta=> {round(t.askGreeks.theta,2)}, bidDelta=>{round(t.bidGreeks.delta,2)} bidTheta=>')\n",
    "        \n",
    "   "
   ]
  },
  {
   "cell_type": "code",
   "execution_count": null,
   "metadata": {},
   "outputs": [],
   "source": [
    "for position in con_list:\n",
    "   # https://stackoverflow.com/questions/56838271/get-bid-ask-price-from-interactive-brokers-using-python\n",
    "   tickers = [ib.reqTickers(position)]\n",
    "   for i, r in enumerate(tickers):\n",
    "    for j, t in enumerate(r):\n",
    "        # print( f' Time => {t.time}, Symbol {t.contract.symbol},{position.right}{position.strike}, {position.} bid/ask=>{t.bid}/{t.ask}, close=>{ t.close}, askDelta=>{round(t.askGreeks.delta,2)}, askTheta=> {round(t.askGreeks.theta,2)}, bidDelta=>{round(t.bidGreeks.delta,2)} ')\n",
    "        print( f' Symbol {t.contract.symbol},Strike => {position.strike}, right => {position.right}, bid => {t.bid}, ask=>{t.ask}, close=>{ t.close}, askDelta=>{round(t.askGreeks.delta,2)} askTheta=> {round(t.askGreeks.theta,2)} bidDelta=>{round(t.bidGreeks.delta,2)} bidTheta=> {round(t.bidGreeks.theta,2)}')\n",
    "        \n",
    "   "
   ]
  },
  {
   "cell_type": "markdown",
   "metadata": {},
   "source": [
    "# pandas "
   ]
  },
  {
   "cell_type": "code",
   "execution_count": null,
   "metadata": {},
   "outputs": [
    {
     "name": "stdout",
     "output_type": "stream",
     "text": [
      "RangeIndex(start=0, stop=1, step=1)\n"
     ]
    }
   ],
   "source": [
    "import pandas as pd\n",
    "df = pd.DataFrame(tickers)\n",
    "print(df.columns.to_list)\n",
    "# print(tickers)"
   ]
  },
  {
   "cell_type": "code",
   "execution_count": null,
   "metadata": {},
   "outputs": [],
   "source": [
    "from ib_insync import *\n",
    "\n",
    "util.startLoop()\n",
    "\n",
    "ib = IB()\n",
    "ib.sleep(2)\n",
    "ib.connect('127.0.0.1', port=7490, clientId=12) # NB: Non default port could be 7498 on your machine by default when using TWS\n",
    "\n",
    "ib.reqMarketDataType(4) # This line is the one that counts to get delayed data without subscription if available\n"
   ]
  },
  {
   "cell_type": "code",
   "execution_count": null,
   "metadata": {},
   "outputs": [],
   "source": [
    "ib.disconnect()"
   ]
  }
 ],
 "metadata": {
  "kernelspec": {
   "display_name": ".venv",
   "language": "python",
   "name": "python3"
  },
  "language_info": {
   "codemirror_mode": {
    "name": "ipython",
    "version": 3
   },
   "file_extension": ".py",
   "mimetype": "text/x-python",
   "name": "python",
   "nbconvert_exporter": "python",
   "pygments_lexer": "ipython3",
   "version": "3.11.2"
  }
 },
 "nbformat": 4,
 "nbformat_minor": 2
}
