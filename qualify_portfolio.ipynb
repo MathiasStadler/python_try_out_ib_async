{
 "cells": [
  {
   "cell_type": "code",
   "execution_count": null,
   "metadata": {},
   "outputs": [
    {
     "name": "stderr",
     "output_type": "stream",
     "text": [
      "Error 1100, reqId -1: Connectivity between %SHORT_COMPNAME% and %SHORT_PRODNAME% has been lost.\n",
      "Error 1102, reqId -1: Connectivity between %SHORT_COMPNAME% and %SHORT_PRODNAME% has been restored - data maintained. Verbindung zu folgenden Datenzentren hergestellt: usfarm.nj; eufarm; usopt; eufarmnj; usfarm; ushmds; secdefnj. Keine Verbindung zu folgenden Datenzentren: cashfarm.\n",
      "Error 1100, reqId -1: Connectivity between %SHORT_COMPNAME% and %SHORT_PRODNAME% has been lost.\n",
      "Error 1100, reqId -1: Connectivity between %SHORT_COMPNAME% and %SHORT_PRODNAME% has been lost.\n",
      "Error 1102, reqId -1: Connectivity between %SHORT_COMPNAME% and %SHORT_PRODNAME% has been restored - data maintained. Verbindung zu folgenden Datenzentren hergestellt: usfarm.nj; eufarm; usopt; eufarmnj; usfarm; ushmds; secdefnj. Keine Verbindung zu folgenden Datenzentren: cashfarm.\n"
     ]
    }
   ],
   "source": [
    "from ib_insync import util, IB\n",
    "util.startLoop()\n",
    "ib = IB()\n",
    "ib.connect(port=7496, clientId=37)\n",
    "ib.reqMarketDataType(3)\n",
    "con_list = util.df(ib.portfolio()).loc[:,'contract'].tolist()\n"
   ]
  },
  {
   "cell_type": "code",
   "execution_count": 2,
   "metadata": {},
   "outputs": [
    {
     "name": "stdout",
     "output_type": "stream",
     "text": [
      "<class 'list'>\n",
      "<class 'list'>\n",
      "<class 'ib_insync.contract.Option'>\n"
     ]
    }
   ],
   "source": [
    "con_list = util.df(ib.portfolio()).loc[:,'contract'].tolist()\n",
    "\n",
    "print(type(con_list))\n",
    "\n",
    "# util.df(ib.portfolio()).loc[:,'contract']\n",
    "print(type(ib.portfolio()))\n",
    "\n",
    "# con_list = util.df(ib.portfolio())\n",
    "con_list = util.df(ib.portfolio()).loc[:,'contract']\n",
    "# con_list = util.df(ib.portfolio()).loc[:,'marketPrice']\n",
    "# con_list = util.df(ib.portfolio())\n",
    "print(type(con_list[0]))\n"
   ]
  },
  {
   "cell_type": "code",
   "execution_count": 3,
   "metadata": {},
   "outputs": [
    {
     "name": "stdout",
     "output_type": "stream",
     "text": [
      "PortfolioItem(contract=Option(conId=760988597, symbol='ALB', lastTradeDateOrContractMonth='20250404', strike=75.0, right='P', multiplier='100', primaryExchange='AMEX', currency='USD', localSymbol='ALB   250404P00075000', tradingClass='ALB'), position=1.0, marketPrice=3.8422487, marketValue=384.22, averageCost=265.0567, unrealizedPNL=119.17, realizedPNL=0.0, account='DU5417029')\n",
      "PortfolioItem(contract=Option(conId=760988670, symbol='ALB', lastTradeDateOrContractMonth='20250404', strike=76.0, right='P', multiplier='100', primaryExchange='AMEX', currency='USD', localSymbol='ALB   250404P00076000', tradingClass='ALB'), position=-2.0, marketPrice=4.569932, marketValue=-913.99, averageCost=286.2826, unrealizedPNL=-341.42, realizedPNL=0.0, account='DU5417029')\n",
      "PortfolioItem(contract=Option(conId=755327744, symbol='BIDU', lastTradeDateOrContractMonth='20250516', strike=90.0, right='P', multiplier='100', primaryExchange='AMEX', currency='USD', localSymbol='BIDU  250516P00090000', tradingClass='BIDU'), position=1.0, marketPrice=4.31487415, marketValue=431.49, averageCost=283.6367, unrealizedPNL=147.85, realizedPNL=0.0, account='DU5417029')\n",
      "PortfolioItem(contract=Option(conId=755327783, symbol='BIDU', lastTradeDateOrContractMonth='20250516', strike=95.0, right='P', multiplier='100', primaryExchange='AMEX', currency='USD', localSymbol='BIDU  250516P00095000', tradingClass='BIDU'), position=-2.0, marketPrice=6.94907475, marketValue=-1389.81, averageCost=429.6986, unrealizedPNL=-530.42, realizedPNL=0.0, account='DU5417029')\n",
      "PortfolioItem(contract=Option(conId=722886411, symbol='CTSH', lastTradeDateOrContractMonth='20250417', strike=72.5, right='P', multiplier='100', primaryExchange='AMEX', currency='USD', localSymbol='CTSH  250417P00072500', tradingClass='CTSH'), position=1.0, marketPrice=0.77955915, marketValue=77.96, averageCost=61.0567, unrealizedPNL=16.9, realizedPNL=0.0, account='DU5417029')\n",
      "PortfolioItem(contract=Option(conId=722886491, symbol='CTSH', lastTradeDateOrContractMonth='20250417', strike=75.0, right='P', multiplier='100', primaryExchange='AMEX', currency='USD', localSymbol='CTSH  250417P00075000', tradingClass='CTSH'), position=-3.0, marketPrice=1.58572115, marketValue=-475.72, averageCost=94.43793335, unrealizedPNL=-192.4, realizedPNL=0.0, account='DU5417029')\n",
      "PortfolioItem(contract=Option(conId=761035804, symbol='GOOG', lastTradeDateOrContractMonth='20250404', strike=155.0, right='P', multiplier='100', primaryExchange='AMEX', currency='USD', localSymbol='GOOG  250404P00155000', tradingClass='GOOG'), position=-4.0, marketPrice=2.54800725, marketValue=-1019.2, averageCost=148.411425, unrealizedPNL=-425.56, realizedPNL=0.0, account='DU5417029')\n",
      "PortfolioItem(contract=Option(conId=761035843, symbol='GOOG', lastTradeDateOrContractMonth='20250404', strike=160.0, right='P', multiplier='100', primaryExchange='AMEX', currency='USD', localSymbol='GOOG  250404P00160000', tradingClass='GOOG'), position=2.0, marketPrice=5.33254145, marketValue=1066.51, averageCost=246.58165, unrealizedPNL=573.34, realizedPNL=0.0, account='DU5417029')\n",
      "PortfolioItem(contract=Stock(conId=270639, symbol='INTC', right='0', primaryExchange='ISLAND', currency='USD', localSymbol='INTC', tradingClass='NMS'), position=100.0, marketPrice=22.6100006, marketValue=2261.0, averageCost=23.348113, unrealizedPNL=-73.81, realizedPNL=0.0, account='DU5417029')\n",
      "PortfolioItem(contract=Stock(conId=436980133, symbol='LI', right='0', primaryExchange='ISLAND', currency='USD', localSymbol='LI', tradingClass='NMS'), position=100.0, marketPrice=25.47999955, marketValue=2548.0, averageCost=25.704017, unrealizedPNL=-22.4, realizedPNL=0.0, account='DU5417029')\n",
      "PortfolioItem(contract=Option(conId=763248394, symbol='WSM', lastTradeDateOrContractMonth='20250417', strike=145.0, right='P', multiplier='100', primaryExchange='AMEX', currency='USD', localSymbol='WSM   250417P00145000', tradingClass='WSM'), position=-2.0, marketPrice=1.77249875, marketValue=-354.5, averageCost=510.0264, unrealizedPNL=665.55, realizedPNL=0.0, account='DU5417029')\n",
      "PortfolioItem(contract=Option(conId=763248479, symbol='WSM', lastTradeDateOrContractMonth='20250417', strike=150.0, right='P', multiplier='100', primaryExchange='AMEX', currency='USD', localSymbol='WSM   250417P00150000', tradingClass='WSM'), position=1.0, marketPrice=2.9161179, marketValue=291.61, averageCost=760.3067, unrealizedPNL=-468.69, realizedPNL=0.0, account='DU5417029')\n"
     ]
    }
   ],
   "source": [
    "for item in ib.portfolio():\n",
    "    print(item)"
   ]
  },
  {
   "cell_type": "code",
   "execution_count": 4,
   "metadata": {},
   "outputs": [
    {
     "data": {
      "text/plain": [
       "0     Option(conId=760988597, symbol='ALB', lastTrad...\n",
       "1     Option(conId=760988670, symbol='ALB', lastTrad...\n",
       "2     Option(conId=755327744, symbol='BIDU', lastTra...\n",
       "3     Option(conId=755327783, symbol='BIDU', lastTra...\n",
       "4     Option(conId=722886411, symbol='CTSH', lastTra...\n",
       "5     Option(conId=722886491, symbol='CTSH', lastTra...\n",
       "6     Option(conId=761035804, symbol='GOOG', lastTra...\n",
       "7     Option(conId=761035843, symbol='GOOG', lastTra...\n",
       "8     Stock(conId=270639, symbol='INTC', right='0', ...\n",
       "9     Stock(conId=436980133, symbol='LI', right='0',...\n",
       "10    Option(conId=763248394, symbol='WSM', lastTrad...\n",
       "11    Option(conId=763248479, symbol='WSM', lastTrad...\n",
       "Name: contract, dtype: object"
      ]
     },
     "execution_count": 4,
     "metadata": {},
     "output_type": "execute_result"
    }
   ],
   "source": [
    "con_list\n",
    "# [FROM HERE](https://github.com/erdewit/ib_insync/issues/119)"
   ]
  },
  {
   "cell_type": "code",
   "execution_count": 5,
   "metadata": {},
   "outputs": [
    {
     "data": {
      "text/plain": [
       "[Option(conId=760988597, symbol='ALB', lastTradeDateOrContractMonth='20250404', strike=75.0, right='P', multiplier='100', exchange='SMART', currency='USD', localSymbol='ALB   250404P00075000', tradingClass='ALB'),\n",
       " Option(conId=760988670, symbol='ALB', lastTradeDateOrContractMonth='20250404', strike=76.0, right='P', multiplier='100', exchange='SMART', currency='USD', localSymbol='ALB   250404P00076000', tradingClass='ALB'),\n",
       " Option(conId=755327744, symbol='BIDU', lastTradeDateOrContractMonth='20250516', strike=90.0, right='P', multiplier='100', exchange='SMART', currency='USD', localSymbol='BIDU  250516P00090000', tradingClass='BIDU'),\n",
       " Option(conId=755327783, symbol='BIDU', lastTradeDateOrContractMonth='20250516', strike=95.0, right='P', multiplier='100', exchange='SMART', currency='USD', localSymbol='BIDU  250516P00095000', tradingClass='BIDU'),\n",
       " Option(conId=722886411, symbol='CTSH', lastTradeDateOrContractMonth='20250417', strike=72.5, right='P', multiplier='100', exchange='SMART', currency='USD', localSymbol='CTSH  250417P00072500', tradingClass='CTSH'),\n",
       " Option(conId=722886491, symbol='CTSH', lastTradeDateOrContractMonth='20250417', strike=75.0, right='P', multiplier='100', exchange='SMART', currency='USD', localSymbol='CTSH  250417P00075000', tradingClass='CTSH'),\n",
       " Option(conId=761035804, symbol='GOOG', lastTradeDateOrContractMonth='20250404', strike=155.0, right='P', multiplier='100', exchange='SMART', currency='USD', localSymbol='GOOG  250404P00155000', tradingClass='GOOG'),\n",
       " Option(conId=761035843, symbol='GOOG', lastTradeDateOrContractMonth='20250404', strike=160.0, right='P', multiplier='100', exchange='SMART', currency='USD', localSymbol='GOOG  250404P00160000', tradingClass='GOOG'),\n",
       " Stock(conId=270639, symbol='INTC', exchange='SMART', primaryExchange='ISLAND', currency='USD', localSymbol='INTC', tradingClass='NMS'),\n",
       " Stock(conId=436980133, symbol='LI', exchange='SMART', primaryExchange='ISLAND', currency='USD', localSymbol='LI', tradingClass='NMS'),\n",
       " Option(conId=763248394, symbol='WSM', lastTradeDateOrContractMonth='20250417', strike=145.0, right='P', multiplier='100', exchange='SMART', currency='USD', localSymbol='WSM   250417P00145000', tradingClass='WSM'),\n",
       " Option(conId=763248479, symbol='WSM', lastTradeDateOrContractMonth='20250417', strike=150.0, right='P', multiplier='100', exchange='SMART', currency='USD', localSymbol='WSM   250417P00150000', tradingClass='WSM')]"
      ]
     },
     "execution_count": 5,
     "metadata": {},
     "output_type": "execute_result"
    }
   ],
   "source": [
    "ib.qualifyContracts(*con_list)"
   ]
  },
  {
   "cell_type": "code",
   "execution_count": null,
   "metadata": {},
   "outputs": [],
   "source": [
    "con_list"
   ]
  },
  {
   "cell_type": "code",
   "execution_count": null,
   "metadata": {},
   "outputs": [],
   "source": [
    "for position in con_list:\n",
    "   # print(type(position))\n",
    "   # print(position.__dict__)\n",
    "   # print(f'{position.symbol} Pos => {position.strike}  - Strike => {position.strike} - Cost =>   ')\n",
    "   # https://stackoverflow.com/questions/56838271/get-bid-ask-price-from-interactive-brokers-using-python\n",
    "   tickers = [ib.reqTickers(position)]\n",
    "   for i, r in enumerate(tickers):\n",
    "    for j, t in enumerate(r):\n",
    "        # print(t.contract.symbol, t.time, t.bid, t.ask, t.close)\n",
    "        # print( f' Symbol {t.contract.symbol}, time: {t.time} bid => {t.bid} ask=>{t.ask} close=>{ t.close}   askDelta=>{t.askGreeks.delta}')\n",
    "        print( f' Symbol {t.contract.symbol},Strike => {position.strike}, right => {position.right}, bid => {t.bid}, ask=>{t.ask}, close=>{ t.close}, askDelta=>{t.askGreeks.delta}')\n",
    "        # print(t.__dict__)\n",
    "   "
   ]
  },
  {
   "cell_type": "code",
   "execution_count": null,
   "metadata": {},
   "outputs": [],
   "source": [
    "for position in con_list:\n",
    "   # https://stackoverflow.com/questions/56838271/get-bid-ask-price-from-interactive-brokers-using-python\n",
    "   tickers = [ib.reqTickers(position)]\n",
    "   for i, r in enumerate(tickers):\n",
    "    for j, t in enumerate(r):\n",
    "        print( f' Time => {t.time}, Symbol {t.contract.symbol},{position.right}{position.strike}, {position.} bid/ask=>{t.bid}/{t.ask}, close=>{ t.close}, askDelta=>{round(t.askGreeks.delta,2)}, askTheta=> {round(t.askGreeks.theta,2)}, bidDelta=>{round(t.bidGreeks.delta,2)} bidTheta=>')\n",
    "        \n",
    "   "
   ]
  },
  {
   "cell_type": "code",
   "execution_count": null,
   "metadata": {},
   "outputs": [],
   "source": [
    "for position in con_list:\n",
    "   # https://stackoverflow.com/questions/56838271/get-bid-ask-price-from-interactive-brokers-using-python\n",
    "   tickers = [ib.reqTickers(position)]\n",
    "   for i, r in enumerate(tickers):\n",
    "    for j, t in enumerate(r):\n",
    "        # print( f' Time => {t.time}, Symbol {t.contract.symbol},{position.right}{position.strike}, {position.} bid/ask=>{t.bid}/{t.ask}, close=>{ t.close}, askDelta=>{round(t.askGreeks.delta,2)}, askTheta=> {round(t.askGreeks.theta,2)}, bidDelta=>{round(t.bidGreeks.delta,2)} ')\n",
    "        print( f' Symbol {t.contract.symbol},Strike => {position.strike}, right => {position.right}, bid => {t.bid}, ask=>{t.ask}, close=>{ t.close}, askDelta=>{round(t.askGreeks.delta,2)} askTheta=> {round(t.askGreeks.theta,2)} bidDelta=>{round(t.bidGreeks.delta,2)} bidTheta=> {round(t.bidGreeks.theta,2)}')\n",
    "        \n",
    "   "
   ]
  },
  {
   "cell_type": "markdown",
   "metadata": {},
   "source": [
    "# pandas "
   ]
  },
  {
   "cell_type": "code",
   "execution_count": null,
   "metadata": {},
   "outputs": [],
   "source": [
    "\n",
    "def roundOnTwoDecimalPlaces(toRound):\n",
    "   if toRound is not None:\n",
    "    round(toRound,2)\n",
    "   \n",
    "def askDelta(t):\n",
    "   if t is not None:\n",
    "      t.askGreeks.delta\n",
    "\n",
    "def askTheta(t):\n",
    "   if t is not None:\n",
    "      t.askGreeks.theta\n",
    "\n",
    "def bidDelta(t):\n",
    "   if t is not None:\n",
    "      t.bidGreeks.delta\n",
    "\n",
    "def bidTheta(t):\n",
    "   if t is not None:\n",
    "      t.bidGreeks.theta\n",
    "\n",
    "for position in con_list:\n",
    "   # https://stackoverflow.com/questions/56838271/get-bid-ask-price-from-interactive-brokers-using-python\n",
    "   tickers = [ib.reqTickers(position)]\n",
    "   for i, r in enumerate(tickers):\n",
    "    for j, t in enumerate(r):\n",
    "        # print( f' Time => {t.time}, Symbol {t.contract.symbol},{position.right}{position.strike}, {position.} bid/ask=>{t.bid}/{t.ask}, close=>{ t.close}, askDelta=>{round(t.askGreeks.delta,2)}, askTheta=> {round(t.askGreeks.theta,2)}, bidDelta=>{round(t.bidGreeks.delta,2)} ')\n",
    "        # print( f' Symbol {t.contract.symbol},Strike => {position.strike}, right => {position.right}, bid => {t.bid}, ask=>{t.ask}, close=>{ t.close}, askDelta=>{round(t.askGreeks.delta,2)} askTheta=> {round(t.askGreeks.theta,2)} bidDelta=>{round(t.bidGreeks.delta,2)} bidTheta=> {round(t.bidGreeks.theta,2)}')\n",
    "        # print( f' Symbol {t.contract.symbol},Strike => {position.strike}, right => {position.right}, bid => {t.bid}, ask=>{t.ask}, close=>{ t.close}')\n",
    "        # print( f' askDelta=>{round(t.askGreeks.delta,2)} askTheta=> {round(t.askGreeks.theta,2)} ')\n",
    "        # if t.askGreeks is not None:\n",
    "        #     myAskDelta = roundOnTwoDecimalPlaces(t.askGreeks.delta)\n",
    "        #     print(myAskDelta)\n",
    "        # bidDelta=>{round(t.bidGreeks.delta,2)} bidTheta=> {round(t.bidGreeks.theta,2)}')\n",
    "        print( f' Symbol {t.contract.symbol},Strike => {position.strike}, right => {position.right}, bid => {t.bid}, ask=>{t.ask}, close=>{ t.close}')\n",
    "        print(\"askDelta {}\".format(askDelta(t)))\n",
    "        print(\"askTheta {}\".format(askTheta(t)))\n",
    "        print(\"bidDelta {}\".format(bidDelta(t)))\n",
    "        print(\"bidTheta {}\".format(bidTheta(t)))\n",
    "\n",
    "        \n",
    "   "
   ]
  },
  {
   "cell_type": "markdown",
   "metadata": {},
   "source": [
    "# clean up"
   ]
  },
  {
   "cell_type": "code",
   "execution_count": null,
   "metadata": {},
   "outputs": [],
   "source": [
    "\n",
    "def roundOnTwoDecimalPlaces(toRound):\n",
    "   if toRound is not None:\n",
    "    round(toRound,2)\n",
    "   \n",
    "def askDelta(t):\n",
    "   if t is not None:\n",
    "      t.askGreeks.delta\n",
    "\n",
    "def askTheta(t):\n",
    "   if t is not None:\n",
    "      t.askGreeks.theta\n",
    "\n",
    "def bidDelta(t):\n",
    "   if t is not None:\n",
    "      t.bidGreeks.delta\n",
    "\n",
    "def bidTheta(t):\n",
    "   if t is not None:\n",
    "      t.bidGreeks.theta\n",
    "\n",
    "for position in con_list:\n",
    "   # https://stackoverflow.com/questions/56838271/get-bid-ask-price-from-interactive-brokers-using-python\n",
    "   tickers = [ib.reqTickers(position)]\n",
    "   for i, r in enumerate(tickers):\n",
    "    for j, t in enumerate(r):\n",
    "        \n",
    "        print( f' Symbol {t.contract.symbol},Strike => {position.strike}, right => {position.right}, bid => {t.bid}, ask=>{t.ask}, close=>{ t.close}')\n",
    "        print(\"askDelta {}\".format(askDelta(t)))\n",
    "        print(\"askTheta {}\".format(askTheta(t)))\n",
    "        print(\"bidDelta {}\".format(bidDelta(t)))\n",
    "        print(\"bidTheta {}\".format(bidTheta(t)))\n",
    "\n",
    "for position in con_list:\n",
    "   # https://stackoverflow.com/questions/56838271/get-bid-ask-price-from-interactive-brokers-using-python\n",
    "   tickers = [ib.reqTickers(position)]\n",
    "   for i, r in enumerate(tickers):\n",
    "    for j, t in enumerate(r):\n",
    "        \n",
    "        print( f' Symbol {t.contract.symbol},Strike => {position.strike}, right => {position.right}, bid => {t.bid}, ask=>{t.ask}, close=>{ t.close}')\n",
    "        print(\"askDelta {}\".format(askDelta(t)))\n",
    "        print(\"askTheta {}\".format(askTheta(t)))\n",
    "        print(\"bidDelta {}\".format(bidDelta(t)))\n",
    "        print(\"bidTheta {}\".format(bidTheta(t)))\n",
    "\n",
    "        \n",
    "   "
   ]
  },
  {
   "cell_type": "markdown",
   "metadata": {},
   "source": [
    "[async open interest](https://stackoverflow.com/questions/79310537/ib-async-getting-option-open-interest)"
   ]
  },
  {
   "cell_type": "code",
   "execution_count": null,
   "metadata": {},
   "outputs": [],
   "source": [
    "from ibapi.client import EClient\n",
    "from ibapi.wrapper import EWrapper\n",
    "from ibapi.contract import Contract\n",
    "from ibapi.ticktype import TickTypeEnum\n",
    "import threading\n",
    "import time\n",
    "\n",
    "class IBApp(EWrapper, EClient):\n",
    "    def __init__(self):\n",
    "        EClient.__init__(self, self)\n",
    "        self.call_open_interest = None\n",
    "        self.reqId = 1\n",
    "        self.oi_received = False # Flag to track if tick 27 was received\n",
    "\n",
    "    def error(self, reqId, errorCode, errorString, advancedOrderRejectJson=''):\n",
    "        print(f\"Error. Id: {reqId}, Code: {errorCode}, Msg: {errorString}\")\n",
    "\n",
    "    def tickSize(self, reqId: int, tickType: int, size: float):\n",
    "        if tickType == TickTypeEnum.OPTION_CALL_OPEN_INTEREST:\n",
    "            self.call_open_interest = size\n",
    "            self.oi_received = True #set flag to true\n",
    "            print(f\"TickSize. TickerId:\", reqId, \"TickType:\", tickType, \"Size: \", size)\n",
    "        else:\n",
    "            print(\"Not the expected tick type\")\n",
    "\n",
    "    def tickSnapshotEnd(self, reqId):\n",
    "        print(f\"TickSnapshotEnd. Ticker Id: {reqId}\")\n",
    "\n",
    "def run_loop(app):\n",
    "    app.run()\n",
    "\n",
    "if __name__ == \"__main__\":\n",
    "    app = IBApp()\n",
    "    app.connect(\"127.0.0.1\", 7496, clientId=20)\n",
    "    app.reqMarketDataType(4)\n",
    "    api_thread = threading.Thread(target=run_loop, args=(app,), daemon=True)\n",
    "    api_thread.start()\n",
    "    time.sleep(1)\n",
    "\n",
    "    contract = Contract()\n",
    "    contract.symbol = \"GOOGL\"\n",
    "    contract.secType = \"OPT\"\n",
    "    contract.exchange = \"SMART\"\n",
    "    contract.currency = \"USD\"\n",
    "    contract.lastTradeDateOrContractMonth = \"20250117\"\n",
    "    contract.strike = 195\n",
    "    contract.right = \"C\"\n",
    "    contract.multiplier = \"100\"\n",
    "\n",
    "    app.reqMktData(app.reqId, contract, genericTickList='101', snapshot=False, regulatorySnapshot=False, mktDataOptions=[]) #request tick 27\n",
    "\n",
    "    time.sleep(5) # Wait for a reasonable time for data\n",
    "\n",
    "    if app.oi_received: #check flag\n",
    "        print(f\"Option Call Open Interest Size: {app.call_open_interest}\")\n",
    "    else:\n",
    "        print(\"Did not receive Option Call Open Interest data within the timeout.\")\n",
    "\n",
    "    app.disconnect()"
   ]
  },
  {
   "cell_type": "code",
   "execution_count": null,
   "metadata": {},
   "outputs": [],
   "source": [
    "import pandas as pd\n",
    "df = pd.DataFrame(con_list)\n",
    "print(df.columns.to_list)\n",
    "# print(tickers)"
   ]
  },
  {
   "cell_type": "code",
   "execution_count": null,
   "metadata": {},
   "outputs": [],
   "source": [
    "import pandas as pd\n",
    "df = pd.DataFrame(con_list)\n",
    "# print(df.columns.to_list)\n",
    "print(df['symbol'])"
   ]
  },
  {
   "cell_type": "code",
   "execution_count": null,
   "metadata": {},
   "outputs": [],
   "source": [
    "from ib_insync import *\n",
    "\n",
    "util.startLoop()\n",
    "\n",
    "ib = IB()\n",
    "ib.sleep(2)\n",
    "ib.connect('127.0.0.1', port=7490, clientId=12) # NB: Non default port could be 7498 on your machine by default when using TWS\n",
    "\n",
    "ib.reqMarketDataType(4) # This line is the one that counts to get delayed data without subscription if available\n"
   ]
  },
  {
   "cell_type": "code",
   "execution_count": null,
   "metadata": {},
   "outputs": [],
   "source": [
    "ib.disconnect()"
   ]
  }
 ],
 "metadata": {
  "kernelspec": {
   "display_name": ".venv",
   "language": "python",
   "name": "python3"
  },
  "language_info": {
   "codemirror_mode": {
    "name": "ipython",
    "version": 3
   },
   "file_extension": ".py",
   "mimetype": "text/x-python",
   "name": "python",
   "nbconvert_exporter": "python",
   "pygments_lexer": "ipython3",
   "version": "3.11.2"
  }
 },
 "nbformat": 4,
 "nbformat_minor": 2
}
