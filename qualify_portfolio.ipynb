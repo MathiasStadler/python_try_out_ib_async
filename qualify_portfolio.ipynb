{
 "cells": [
  {
   "cell_type": "code",
   "execution_count": null,
   "metadata": {},
   "outputs": [
    {
     "name": "stderr",
     "output_type": "stream",
     "text": [
      "Error 10090, reqId 345: Part of requested market data is not subscribed. Subscription-independent ticks are still active.Delayed market data is available.ALB NYSE/TOP/ALL, contract: Option(conId=760988597, symbol='ALB', lastTradeDateOrContractMonth='20250404', strike=75.0, right='P', multiplier='100', exchange='SMART', currency='USD', localSymbol='ALB   250404P00075000', tradingClass='ALB')\n",
      "Error 10090, reqId 346: Part of requested market data is not subscribed. Subscription-independent ticks are still active.Delayed market data is available.ALB NYSE/TOP/ALL, contract: Option(conId=760988670, symbol='ALB', lastTradeDateOrContractMonth='20250404', strike=76.0, right='P', multiplier='100', exchange='SMART', currency='USD', localSymbol='ALB   250404P00076000', tradingClass='ALB')\n",
      "Error 10090, reqId 347: Part of requested market data is not subscribed. Subscription-independent ticks are still active.Delayed market data is available.BIDU NASDAQ.NMS/TOP/ALL, contract: Option(conId=755327744, symbol='BIDU', lastTradeDateOrContractMonth='20250516', strike=90.0, right='P', multiplier='100', exchange='SMART', currency='USD', localSymbol='BIDU  250516P00090000', tradingClass='BIDU')\n",
      "Error 10090, reqId 348: Part of requested market data is not subscribed. Subscription-independent ticks are still active.Delayed market data is available.BIDU NASDAQ.NMS/TOP/ALL, contract: Option(conId=755327783, symbol='BIDU', lastTradeDateOrContractMonth='20250516', strike=95.0, right='P', multiplier='100', exchange='SMART', currency='USD', localSymbol='BIDU  250516P00095000', tradingClass='BIDU')\n",
      "Error 10090, reqId 349: Part of requested market data is not subscribed. Subscription-independent ticks are still active.Delayed market data is available.CTSH NASDAQ.NMS/TOP/ALL, contract: Option(conId=722886411, symbol='CTSH', lastTradeDateOrContractMonth='20250417', strike=72.5, right='P', multiplier='100', exchange='SMART', currency='USD', localSymbol='CTSH  250417P00072500', tradingClass='CTSH')\n",
      "Error 10090, reqId 350: Part of requested market data is not subscribed. Subscription-independent ticks are still active.Delayed market data is available.CTSH NASDAQ.NMS/TOP/ALL, contract: Option(conId=722886491, symbol='CTSH', lastTradeDateOrContractMonth='20250417', strike=75.0, right='P', multiplier='100', exchange='SMART', currency='USD', localSymbol='CTSH  250417P00075000', tradingClass='CTSH')\n",
      "Error 10090, reqId 351: Part of requested market data is not subscribed. Subscription-independent ticks are still active.Delayed market data is available.GOOG NASDAQ.NMS/TOP/ALL, contract: Option(conId=761035804, symbol='GOOG', lastTradeDateOrContractMonth='20250404', strike=155.0, right='P', multiplier='100', exchange='SMART', currency='USD', localSymbol='GOOG  250404P00155000', tradingClass='GOOG')\n",
      "Error 10090, reqId 352: Part of requested market data is not subscribed. Subscription-independent ticks are still active.Delayed market data is available.GOOG NASDAQ.NMS/TOP/ALL, contract: Option(conId=761035843, symbol='GOOG', lastTradeDateOrContractMonth='20250404', strike=160.0, right='P', multiplier='100', exchange='SMART', currency='USD', localSymbol='GOOG  250404P00160000', tradingClass='GOOG')\n",
      "Error 10090, reqId 353: Part of requested market data is not subscribed. Subscription-independent ticks are still active.Delayed market data is available.INTC NASDAQ.NMS/TOP/ALL, contract: Option(conId=759632068, symbol='INTC', lastTradeDateOrContractMonth='20250328', strike=21.0, right='P', multiplier='100', exchange='SMART', currency='USD', localSymbol='INTC  250328P00021000', tradingClass='INTC')\n",
      "Error 10090, reqId 354: Part of requested market data is not subscribed. Subscription-independent ticks are still active.Delayed market data is available.INTC NASDAQ.NMS/TOP/ALL, contract: Option(conId=759632438, symbol='INTC', lastTradeDateOrContractMonth='20250328', strike=24.0, right='P', multiplier='100', exchange='SMART', currency='USD', localSymbol='INTC  250328P00024000', tradingClass='INTC')\n",
      "Error 10090, reqId 355: Part of requested market data is not subscribed. Subscription-independent ticks are still active.Delayed market data is available.LI NASDAQ.NMS/TOP/ALL, contract: Option(conId=759651940, symbol='LI', lastTradeDateOrContractMonth='20250328', strike=26.5, right='P', multiplier='100', exchange='SMART', currency='USD', localSymbol='LI    250328P00026500', tradingClass='LI')\n",
      "Error 10090, reqId 356: Part of requested market data is not subscribed. Subscription-independent ticks are still active.Delayed market data is available.LI NASDAQ.NMS/TOP/ALL, contract: Option(conId=759652105, symbol='LI', lastTradeDateOrContractMonth='20250328', strike=27.0, right='P', multiplier='100', exchange='SMART', currency='USD', localSymbol='LI    250328P00027000', tradingClass='LI')\n",
      "Error 10090, reqId 357: Part of requested market data is not subscribed. Subscription-independent ticks are still active.Delayed market data is available.PLTR NASDAQ.NMS/TOP/ALL, contract: Option(conId=764847965, symbol='PLTR', lastTradeDateOrContractMonth='20250328', strike=79.0, right='P', multiplier='100', exchange='SMART', currency='USD', localSymbol='PLTR  250328P00079000', tradingClass='PLTR')\n",
      "Error 10090, reqId 358: Part of requested market data is not subscribed. Subscription-independent ticks are still active.Delayed market data is available.PLTR NASDAQ.NMS/TOP/ALL, contract: Option(conId=764848210, symbol='PLTR', lastTradeDateOrContractMonth='20250328', strike=84.0, right='P', multiplier='100', exchange='SMART', currency='USD', localSymbol='PLTR  250328P00084000', tradingClass='PLTR')\n",
      "Error 10090, reqId 359: Part of requested market data is not subscribed. Subscription-independent ticks are still active.Delayed market data is available.PLTR NASDAQ.NMS/TOP/ALL, contract: Option(conId=760004128, symbol='PLTR', lastTradeDateOrContractMonth='20250328', strike=85.0, right='P', multiplier='100', exchange='SMART', currency='USD', localSymbol='PLTR  250328P00085000', tradingClass='PLTR')\n",
      "Error 10090, reqId 360: Part of requested market data is not subscribed. Subscription-independent ticks are still active.Delayed market data is available.VST NYSE/TOP/ALL, contract: Option(conId=765324651, symbol='VST', lastTradeDateOrContractMonth='20250328', strike=116.0, right='P', multiplier='100', exchange='SMART', currency='USD', localSymbol='VST   250328P00116000', tradingClass='VST')\n",
      "Error 10090, reqId 361: Part of requested market data is not subscribed. Subscription-independent ticks are still active.Delayed market data is available.VST NYSE/TOP/ALL, contract: Option(conId=765324677, symbol='VST', lastTradeDateOrContractMonth='20250328', strike=117.0, right='P', multiplier='100', exchange='SMART', currency='USD', localSymbol='VST   250328P00117000', tradingClass='VST')\n",
      "Error 10090, reqId 362: Part of requested market data is not subscribed. Subscription-independent ticks are still active.Delayed market data is available.WSM NYSE/TOP/ALL, contract: Option(conId=763248394, symbol='WSM', lastTradeDateOrContractMonth='20250417', strike=145.0, right='P', multiplier='100', exchange='SMART', currency='USD', localSymbol='WSM   250417P00145000', tradingClass='WSM')\n",
      "Error 10090, reqId 363: Part of requested market data is not subscribed. Subscription-independent ticks are still active.Delayed market data is available.WSM NYSE/TOP/ALL, contract: Option(conId=763248479, symbol='WSM', lastTradeDateOrContractMonth='20250417', strike=150.0, right='P', multiplier='100', exchange='SMART', currency='USD', localSymbol='WSM   250417P00150000', tradingClass='WSM')\n",
      "Error 10090, reqId 364: Part of requested market data is not subscribed. Subscription-independent ticks are still active.Delayed market data is available.ALB NYSE/TOP/ALL, contract: Option(conId=760988597, symbol='ALB', lastTradeDateOrContractMonth='20250404', strike=75.0, right='P', multiplier='100', exchange='SMART', currency='USD', localSymbol='ALB   250404P00075000', tradingClass='ALB')\n",
      "Error 10090, reqId 365: Part of requested market data is not subscribed. Subscription-independent ticks are still active.Delayed market data is available.ALB NYSE/TOP/ALL, contract: Option(conId=760988670, symbol='ALB', lastTradeDateOrContractMonth='20250404', strike=76.0, right='P', multiplier='100', exchange='SMART', currency='USD', localSymbol='ALB   250404P00076000', tradingClass='ALB')\n",
      "Error 10090, reqId 366: Part of requested market data is not subscribed. Subscription-independent ticks are still active.Delayed market data is available.BIDU NASDAQ.NMS/TOP/ALL, contract: Option(conId=755327744, symbol='BIDU', lastTradeDateOrContractMonth='20250516', strike=90.0, right='P', multiplier='100', exchange='SMART', currency='USD', localSymbol='BIDU  250516P00090000', tradingClass='BIDU')\n",
      "Error 10090, reqId 367: Part of requested market data is not subscribed. Subscription-independent ticks are still active.Delayed market data is available.BIDU NASDAQ.NMS/TOP/ALL, contract: Option(conId=755327783, symbol='BIDU', lastTradeDateOrContractMonth='20250516', strike=95.0, right='P', multiplier='100', exchange='SMART', currency='USD', localSymbol='BIDU  250516P00095000', tradingClass='BIDU')\n",
      "Error 10090, reqId 368: Part of requested market data is not subscribed. Subscription-independent ticks are still active.Delayed market data is available.CTSH NASDAQ.NMS/TOP/ALL, contract: Option(conId=722886411, symbol='CTSH', lastTradeDateOrContractMonth='20250417', strike=72.5, right='P', multiplier='100', exchange='SMART', currency='USD', localSymbol='CTSH  250417P00072500', tradingClass='CTSH')\n",
      "Error 10090, reqId 369: Part of requested market data is not subscribed. Subscription-independent ticks are still active.Delayed market data is available.CTSH NASDAQ.NMS/TOP/ALL, contract: Option(conId=722886491, symbol='CTSH', lastTradeDateOrContractMonth='20250417', strike=75.0, right='P', multiplier='100', exchange='SMART', currency='USD', localSymbol='CTSH  250417P00075000', tradingClass='CTSH')\n",
      "Error 10090, reqId 370: Part of requested market data is not subscribed. Subscription-independent ticks are still active.Delayed market data is available.GOOG NASDAQ.NMS/TOP/ALL, contract: Option(conId=761035804, symbol='GOOG', lastTradeDateOrContractMonth='20250404', strike=155.0, right='P', multiplier='100', exchange='SMART', currency='USD', localSymbol='GOOG  250404P00155000', tradingClass='GOOG')\n",
      "Error 10090, reqId 371: Part of requested market data is not subscribed. Subscription-independent ticks are still active.Delayed market data is available.GOOG NASDAQ.NMS/TOP/ALL, contract: Option(conId=761035843, symbol='GOOG', lastTradeDateOrContractMonth='20250404', strike=160.0, right='P', multiplier='100', exchange='SMART', currency='USD', localSymbol='GOOG  250404P00160000', tradingClass='GOOG')\n",
      "Error 10090, reqId 372: Part of requested market data is not subscribed. Subscription-independent ticks are still active.Delayed market data is available.INTC NASDAQ.NMS/TOP/ALL, contract: Option(conId=759632068, symbol='INTC', lastTradeDateOrContractMonth='20250328', strike=21.0, right='P', multiplier='100', exchange='SMART', currency='USD', localSymbol='INTC  250328P00021000', tradingClass='INTC')\n",
      "Error 10090, reqId 373: Part of requested market data is not subscribed. Subscription-independent ticks are still active.Delayed market data is available.INTC NASDAQ.NMS/TOP/ALL, contract: Option(conId=759632438, symbol='INTC', lastTradeDateOrContractMonth='20250328', strike=24.0, right='P', multiplier='100', exchange='SMART', currency='USD', localSymbol='INTC  250328P00024000', tradingClass='INTC')\n",
      "Error 10090, reqId 374: Part of requested market data is not subscribed. Subscription-independent ticks are still active.Delayed market data is available.LI NASDAQ.NMS/TOP/ALL, contract: Option(conId=759651940, symbol='LI', lastTradeDateOrContractMonth='20250328', strike=26.5, right='P', multiplier='100', exchange='SMART', currency='USD', localSymbol='LI    250328P00026500', tradingClass='LI')\n",
      "Error 10090, reqId 375: Part of requested market data is not subscribed. Subscription-independent ticks are still active.Delayed market data is available.LI NASDAQ.NMS/TOP/ALL, contract: Option(conId=759652105, symbol='LI', lastTradeDateOrContractMonth='20250328', strike=27.0, right='P', multiplier='100', exchange='SMART', currency='USD', localSymbol='LI    250328P00027000', tradingClass='LI')\n",
      "Error 10090, reqId 376: Part of requested market data is not subscribed. Subscription-independent ticks are still active.Delayed market data is available.PLTR NASDAQ.NMS/TOP/ALL, contract: Option(conId=764847965, symbol='PLTR', lastTradeDateOrContractMonth='20250328', strike=79.0, right='P', multiplier='100', exchange='SMART', currency='USD', localSymbol='PLTR  250328P00079000', tradingClass='PLTR')\n",
      "Error 10090, reqId 377: Part of requested market data is not subscribed. Subscription-independent ticks are still active.Delayed market data is available.PLTR NASDAQ.NMS/TOP/ALL, contract: Option(conId=764848210, symbol='PLTR', lastTradeDateOrContractMonth='20250328', strike=84.0, right='P', multiplier='100', exchange='SMART', currency='USD', localSymbol='PLTR  250328P00084000', tradingClass='PLTR')\n",
      "Error 10090, reqId 378: Part of requested market data is not subscribed. Subscription-independent ticks are still active.Delayed market data is available.PLTR NASDAQ.NMS/TOP/ALL, contract: Option(conId=760004128, symbol='PLTR', lastTradeDateOrContractMonth='20250328', strike=85.0, right='P', multiplier='100', exchange='SMART', currency='USD', localSymbol='PLTR  250328P00085000', tradingClass='PLTR')\n",
      "Error 10090, reqId 379: Part of requested market data is not subscribed. Subscription-independent ticks are still active.Delayed market data is available.VST NYSE/TOP/ALL, contract: Option(conId=765324651, symbol='VST', lastTradeDateOrContractMonth='20250328', strike=116.0, right='P', multiplier='100', exchange='SMART', currency='USD', localSymbol='VST   250328P00116000', tradingClass='VST')\n",
      "Error 10090, reqId 380: Part of requested market data is not subscribed. Subscription-independent ticks are still active.Delayed market data is available.VST NYSE/TOP/ALL, contract: Option(conId=765324677, symbol='VST', lastTradeDateOrContractMonth='20250328', strike=117.0, right='P', multiplier='100', exchange='SMART', currency='USD', localSymbol='VST   250328P00117000', tradingClass='VST')\n",
      "Error 10090, reqId 381: Part of requested market data is not subscribed. Subscription-independent ticks are still active.Delayed market data is available.WSM NYSE/TOP/ALL, contract: Option(conId=763248394, symbol='WSM', lastTradeDateOrContractMonth='20250417', strike=145.0, right='P', multiplier='100', exchange='SMART', currency='USD', localSymbol='WSM   250417P00145000', tradingClass='WSM')\n",
      "Error 10090, reqId 382: Part of requested market data is not subscribed. Subscription-independent ticks are still active.Delayed market data is available.WSM NYSE/TOP/ALL, contract: Option(conId=763248479, symbol='WSM', lastTradeDateOrContractMonth='20250417', strike=150.0, right='P', multiplier='100', exchange='SMART', currency='USD', localSymbol='WSM   250417P00150000', tradingClass='WSM')\n",
      "Error 10090, reqId 383: Part of requested market data is not subscribed. Subscription-independent ticks are still active.Delayed market data is available.ALB NYSE/TOP/ALL, contract: Option(conId=760988597, symbol='ALB', lastTradeDateOrContractMonth='20250404', strike=75.0, right='P', multiplier='100', exchange='SMART', currency='USD', localSymbol='ALB   250404P00075000', tradingClass='ALB')\n",
      "Error 10090, reqId 384: Part of requested market data is not subscribed. Subscription-independent ticks are still active.Delayed market data is available.ALB NYSE/TOP/ALL, contract: Option(conId=760988670, symbol='ALB', lastTradeDateOrContractMonth='20250404', strike=76.0, right='P', multiplier='100', exchange='SMART', currency='USD', localSymbol='ALB   250404P00076000', tradingClass='ALB')\n",
      "Error 10090, reqId 385: Part of requested market data is not subscribed. Subscription-independent ticks are still active.Delayed market data is available.BIDU NASDAQ.NMS/TOP/ALL, contract: Option(conId=755327744, symbol='BIDU', lastTradeDateOrContractMonth='20250516', strike=90.0, right='P', multiplier='100', exchange='SMART', currency='USD', localSymbol='BIDU  250516P00090000', tradingClass='BIDU')\n",
      "Error 10090, reqId 386: Part of requested market data is not subscribed. Subscription-independent ticks are still active.Delayed market data is available.BIDU NASDAQ.NMS/TOP/ALL, contract: Option(conId=755327783, symbol='BIDU', lastTradeDateOrContractMonth='20250516', strike=95.0, right='P', multiplier='100', exchange='SMART', currency='USD', localSymbol='BIDU  250516P00095000', tradingClass='BIDU')\n",
      "Error 10090, reqId 387: Part of requested market data is not subscribed. Subscription-independent ticks are still active.Delayed market data is available.CTSH NASDAQ.NMS/TOP/ALL, contract: Option(conId=722886411, symbol='CTSH', lastTradeDateOrContractMonth='20250417', strike=72.5, right='P', multiplier='100', exchange='SMART', currency='USD', localSymbol='CTSH  250417P00072500', tradingClass='CTSH')\n",
      "Error 10090, reqId 388: Part of requested market data is not subscribed. Subscription-independent ticks are still active.Delayed market data is available.CTSH NASDAQ.NMS/TOP/ALL, contract: Option(conId=722886491, symbol='CTSH', lastTradeDateOrContractMonth='20250417', strike=75.0, right='P', multiplier='100', exchange='SMART', currency='USD', localSymbol='CTSH  250417P00075000', tradingClass='CTSH')\n",
      "Error 10090, reqId 389: Part of requested market data is not subscribed. Subscription-independent ticks are still active.Delayed market data is available.GOOG NASDAQ.NMS/TOP/ALL, contract: Option(conId=761035804, symbol='GOOG', lastTradeDateOrContractMonth='20250404', strike=155.0, right='P', multiplier='100', exchange='SMART', currency='USD', localSymbol='GOOG  250404P00155000', tradingClass='GOOG')\n",
      "Error 10090, reqId 390: Part of requested market data is not subscribed. Subscription-independent ticks are still active.Delayed market data is available.GOOG NASDAQ.NMS/TOP/ALL, contract: Option(conId=761035843, symbol='GOOG', lastTradeDateOrContractMonth='20250404', strike=160.0, right='P', multiplier='100', exchange='SMART', currency='USD', localSymbol='GOOG  250404P00160000', tradingClass='GOOG')\n",
      "Error 10090, reqId 391: Part of requested market data is not subscribed. Subscription-independent ticks are still active.Delayed market data is available.INTC NASDAQ.NMS/TOP/ALL, contract: Option(conId=759632068, symbol='INTC', lastTradeDateOrContractMonth='20250328', strike=21.0, right='P', multiplier='100', exchange='SMART', currency='USD', localSymbol='INTC  250328P00021000', tradingClass='INTC')\n",
      "Error 10090, reqId 392: Part of requested market data is not subscribed. Subscription-independent ticks are still active.Delayed market data is available.INTC NASDAQ.NMS/TOP/ALL, contract: Option(conId=759632438, symbol='INTC', lastTradeDateOrContractMonth='20250328', strike=24.0, right='P', multiplier='100', exchange='SMART', currency='USD', localSymbol='INTC  250328P00024000', tradingClass='INTC')\n",
      "Error 10090, reqId 393: Part of requested market data is not subscribed. Subscription-independent ticks are still active.Delayed market data is available.LI NASDAQ.NMS/TOP/ALL, contract: Option(conId=759651940, symbol='LI', lastTradeDateOrContractMonth='20250328', strike=26.5, right='P', multiplier='100', exchange='SMART', currency='USD', localSymbol='LI    250328P00026500', tradingClass='LI')\n",
      "Error 10090, reqId 394: Part of requested market data is not subscribed. Subscription-independent ticks are still active.Delayed market data is available.LI NASDAQ.NMS/TOP/ALL, contract: Option(conId=759652105, symbol='LI', lastTradeDateOrContractMonth='20250328', strike=27.0, right='P', multiplier='100', exchange='SMART', currency='USD', localSymbol='LI    250328P00027000', tradingClass='LI')\n",
      "Error 10090, reqId 395: Part of requested market data is not subscribed. Subscription-independent ticks are still active.Delayed market data is available.PLTR NASDAQ.NMS/TOP/ALL, contract: Option(conId=764847965, symbol='PLTR', lastTradeDateOrContractMonth='20250328', strike=79.0, right='P', multiplier='100', exchange='SMART', currency='USD', localSymbol='PLTR  250328P00079000', tradingClass='PLTR')\n",
      "Error 10090, reqId 396: Part of requested market data is not subscribed. Subscription-independent ticks are still active.Delayed market data is available.PLTR NASDAQ.NMS/TOP/ALL, contract: Option(conId=764848210, symbol='PLTR', lastTradeDateOrContractMonth='20250328', strike=84.0, right='P', multiplier='100', exchange='SMART', currency='USD', localSymbol='PLTR  250328P00084000', tradingClass='PLTR')\n",
      "Error 10090, reqId 397: Part of requested market data is not subscribed. Subscription-independent ticks are still active.Delayed market data is available.PLTR NASDAQ.NMS/TOP/ALL, contract: Option(conId=760004128, symbol='PLTR', lastTradeDateOrContractMonth='20250328', strike=85.0, right='P', multiplier='100', exchange='SMART', currency='USD', localSymbol='PLTR  250328P00085000', tradingClass='PLTR')\n",
      "Error 10090, reqId 398: Part of requested market data is not subscribed. Subscription-independent ticks are still active.Delayed market data is available.VST NYSE/TOP/ALL, contract: Option(conId=765324651, symbol='VST', lastTradeDateOrContractMonth='20250328', strike=116.0, right='P', multiplier='100', exchange='SMART', currency='USD', localSymbol='VST   250328P00116000', tradingClass='VST')\n",
      "Error 10090, reqId 399: Part of requested market data is not subscribed. Subscription-independent ticks are still active.Delayed market data is available.VST NYSE/TOP/ALL, contract: Option(conId=765324677, symbol='VST', lastTradeDateOrContractMonth='20250328', strike=117.0, right='P', multiplier='100', exchange='SMART', currency='USD', localSymbol='VST   250328P00117000', tradingClass='VST')\n",
      "Error 10090, reqId 400: Part of requested market data is not subscribed. Subscription-independent ticks are still active.Delayed market data is available.WSM NYSE/TOP/ALL, contract: Option(conId=763248394, symbol='WSM', lastTradeDateOrContractMonth='20250417', strike=145.0, right='P', multiplier='100', exchange='SMART', currency='USD', localSymbol='WSM   250417P00145000', tradingClass='WSM')\n",
      "Error 10090, reqId 401: Part of requested market data is not subscribed. Subscription-independent ticks are still active.Delayed market data is available.WSM NYSE/TOP/ALL, contract: Option(conId=763248479, symbol='WSM', lastTradeDateOrContractMonth='20250417', strike=150.0, right='P', multiplier='100', exchange='SMART', currency='USD', localSymbol='WSM   250417P00150000', tradingClass='WSM')\n",
      "Error 10090, reqId 402: Part of requested market data is not subscribed. Subscription-independent ticks are still active.Delayed market data is available.ALB NYSE/TOP/ALL, contract: Option(conId=760988597, symbol='ALB', lastTradeDateOrContractMonth='20250404', strike=75.0, right='P', multiplier='100', exchange='SMART', currency='USD', localSymbol='ALB   250404P00075000', tradingClass='ALB')\n",
      "Error 10090, reqId 403: Part of requested market data is not subscribed. Subscription-independent ticks are still active.Delayed market data is available.ALB NYSE/TOP/ALL, contract: Option(conId=760988670, symbol='ALB', lastTradeDateOrContractMonth='20250404', strike=76.0, right='P', multiplier='100', exchange='SMART', currency='USD', localSymbol='ALB   250404P00076000', tradingClass='ALB')\n",
      "Error 10090, reqId 404: Part of requested market data is not subscribed. Subscription-independent ticks are still active.Delayed market data is available.BIDU NASDAQ.NMS/TOP/ALL, contract: Option(conId=755327744, symbol='BIDU', lastTradeDateOrContractMonth='20250516', strike=90.0, right='P', multiplier='100', exchange='SMART', currency='USD', localSymbol='BIDU  250516P00090000', tradingClass='BIDU')\n",
      "Error 10090, reqId 405: Part of requested market data is not subscribed. Subscription-independent ticks are still active.Delayed market data is available.BIDU NASDAQ.NMS/TOP/ALL, contract: Option(conId=755327783, symbol='BIDU', lastTradeDateOrContractMonth='20250516', strike=95.0, right='P', multiplier='100', exchange='SMART', currency='USD', localSymbol='BIDU  250516P00095000', tradingClass='BIDU')\n",
      "Error 10090, reqId 406: Part of requested market data is not subscribed. Subscription-independent ticks are still active.Delayed market data is available.CTSH NASDAQ.NMS/TOP/ALL, contract: Option(conId=722886411, symbol='CTSH', lastTradeDateOrContractMonth='20250417', strike=72.5, right='P', multiplier='100', exchange='SMART', currency='USD', localSymbol='CTSH  250417P00072500', tradingClass='CTSH')\n",
      "Error 10090, reqId 407: Part of requested market data is not subscribed. Subscription-independent ticks are still active.Delayed market data is available.CTSH NASDAQ.NMS/TOP/ALL, contract: Option(conId=722886491, symbol='CTSH', lastTradeDateOrContractMonth='20250417', strike=75.0, right='P', multiplier='100', exchange='SMART', currency='USD', localSymbol='CTSH  250417P00075000', tradingClass='CTSH')\n",
      "Error 10090, reqId 408: Part of requested market data is not subscribed. Subscription-independent ticks are still active.Delayed market data is available.GOOG NASDAQ.NMS/TOP/ALL, contract: Option(conId=761035804, symbol='GOOG', lastTradeDateOrContractMonth='20250404', strike=155.0, right='P', multiplier='100', exchange='SMART', currency='USD', localSymbol='GOOG  250404P00155000', tradingClass='GOOG')\n",
      "Error 10090, reqId 409: Part of requested market data is not subscribed. Subscription-independent ticks are still active.Delayed market data is available.GOOG NASDAQ.NMS/TOP/ALL, contract: Option(conId=761035843, symbol='GOOG', lastTradeDateOrContractMonth='20250404', strike=160.0, right='P', multiplier='100', exchange='SMART', currency='USD', localSymbol='GOOG  250404P00160000', tradingClass='GOOG')\n",
      "Error 10090, reqId 410: Part of requested market data is not subscribed. Subscription-independent ticks are still active.Delayed market data is available.INTC NASDAQ.NMS/TOP/ALL, contract: Option(conId=759632068, symbol='INTC', lastTradeDateOrContractMonth='20250328', strike=21.0, right='P', multiplier='100', exchange='SMART', currency='USD', localSymbol='INTC  250328P00021000', tradingClass='INTC')\n",
      "Error 10090, reqId 411: Part of requested market data is not subscribed. Subscription-independent ticks are still active.Delayed market data is available.INTC NASDAQ.NMS/TOP/ALL, contract: Option(conId=759632438, symbol='INTC', lastTradeDateOrContractMonth='20250328', strike=24.0, right='P', multiplier='100', exchange='SMART', currency='USD', localSymbol='INTC  250328P00024000', tradingClass='INTC')\n",
      "Error 10090, reqId 412: Part of requested market data is not subscribed. Subscription-independent ticks are still active.Delayed market data is available.LI NASDAQ.NMS/TOP/ALL, contract: Option(conId=759651940, symbol='LI', lastTradeDateOrContractMonth='20250328', strike=26.5, right='P', multiplier='100', exchange='SMART', currency='USD', localSymbol='LI    250328P00026500', tradingClass='LI')\n",
      "Error 10090, reqId 413: Part of requested market data is not subscribed. Subscription-independent ticks are still active.Delayed market data is available.LI NASDAQ.NMS/TOP/ALL, contract: Option(conId=759652105, symbol='LI', lastTradeDateOrContractMonth='20250328', strike=27.0, right='P', multiplier='100', exchange='SMART', currency='USD', localSymbol='LI    250328P00027000', tradingClass='LI')\n",
      "Error 10090, reqId 414: Part of requested market data is not subscribed. Subscription-independent ticks are still active.Delayed market data is available.PLTR NASDAQ.NMS/TOP/ALL, contract: Option(conId=764847965, symbol='PLTR', lastTradeDateOrContractMonth='20250328', strike=79.0, right='P', multiplier='100', exchange='SMART', currency='USD', localSymbol='PLTR  250328P00079000', tradingClass='PLTR')\n",
      "Error 10090, reqId 415: Part of requested market data is not subscribed. Subscription-independent ticks are still active.Delayed market data is available.PLTR NASDAQ.NMS/TOP/ALL, contract: Option(conId=764848210, symbol='PLTR', lastTradeDateOrContractMonth='20250328', strike=84.0, right='P', multiplier='100', exchange='SMART', currency='USD', localSymbol='PLTR  250328P00084000', tradingClass='PLTR')\n",
      "Error 10090, reqId 416: Part of requested market data is not subscribed. Subscription-independent ticks are still active.Delayed market data is available.PLTR NASDAQ.NMS/TOP/ALL, contract: Option(conId=760004128, symbol='PLTR', lastTradeDateOrContractMonth='20250328', strike=85.0, right='P', multiplier='100', exchange='SMART', currency='USD', localSymbol='PLTR  250328P00085000', tradingClass='PLTR')\n",
      "Error 10090, reqId 417: Part of requested market data is not subscribed. Subscription-independent ticks are still active.Delayed market data is available.VST NYSE/TOP/ALL, contract: Option(conId=765324651, symbol='VST', lastTradeDateOrContractMonth='20250328', strike=116.0, right='P', multiplier='100', exchange='SMART', currency='USD', localSymbol='VST   250328P00116000', tradingClass='VST')\n",
      "Error 10090, reqId 418: Part of requested market data is not subscribed. Subscription-independent ticks are still active.Delayed market data is available.VST NYSE/TOP/ALL, contract: Option(conId=765324677, symbol='VST', lastTradeDateOrContractMonth='20250328', strike=117.0, right='P', multiplier='100', exchange='SMART', currency='USD', localSymbol='VST   250328P00117000', tradingClass='VST')\n",
      "Error 10090, reqId 419: Part of requested market data is not subscribed. Subscription-independent ticks are still active.Delayed market data is available.WSM NYSE/TOP/ALL, contract: Option(conId=763248394, symbol='WSM', lastTradeDateOrContractMonth='20250417', strike=145.0, right='P', multiplier='100', exchange='SMART', currency='USD', localSymbol='WSM   250417P00145000', tradingClass='WSM')\n",
      "Error 10090, reqId 420: Part of requested market data is not subscribed. Subscription-independent ticks are still active.Delayed market data is available.WSM NYSE/TOP/ALL, contract: Option(conId=763248479, symbol='WSM', lastTradeDateOrContractMonth='20250417', strike=150.0, right='P', multiplier='100', exchange='SMART', currency='USD', localSymbol='WSM   250417P00150000', tradingClass='WSM')\n",
      "Error 10090, reqId 421: Part of requested market data is not subscribed. Subscription-independent ticks are still active.Delayed market data is available.ALB NYSE/TOP/ALL, contract: Option(conId=760988597, symbol='ALB', lastTradeDateOrContractMonth='20250404', strike=75.0, right='P', multiplier='100', exchange='SMART', currency='USD', localSymbol='ALB   250404P00075000', tradingClass='ALB')\n",
      "Error 10090, reqId 422: Part of requested market data is not subscribed. Subscription-independent ticks are still active.Delayed market data is available.ALB NYSE/TOP/ALL, contract: Option(conId=760988670, symbol='ALB', lastTradeDateOrContractMonth='20250404', strike=76.0, right='P', multiplier='100', exchange='SMART', currency='USD', localSymbol='ALB   250404P00076000', tradingClass='ALB')\n",
      "Error 10090, reqId 423: Part of requested market data is not subscribed. Subscription-independent ticks are still active.Delayed market data is available.BIDU NASDAQ.NMS/TOP/ALL, contract: Option(conId=755327744, symbol='BIDU', lastTradeDateOrContractMonth='20250516', strike=90.0, right='P', multiplier='100', exchange='SMART', currency='USD', localSymbol='BIDU  250516P00090000', tradingClass='BIDU')\n",
      "Error 10090, reqId 424: Part of requested market data is not subscribed. Subscription-independent ticks are still active.Delayed market data is available.BIDU NASDAQ.NMS/TOP/ALL, contract: Option(conId=755327783, symbol='BIDU', lastTradeDateOrContractMonth='20250516', strike=95.0, right='P', multiplier='100', exchange='SMART', currency='USD', localSymbol='BIDU  250516P00095000', tradingClass='BIDU')\n",
      "Error 10090, reqId 425: Part of requested market data is not subscribed. Subscription-independent ticks are still active.Delayed market data is available.CTSH NASDAQ.NMS/TOP/ALL, contract: Option(conId=722886411, symbol='CTSH', lastTradeDateOrContractMonth='20250417', strike=72.5, right='P', multiplier='100', exchange='SMART', currency='USD', localSymbol='CTSH  250417P00072500', tradingClass='CTSH')\n",
      "Error 10090, reqId 426: Part of requested market data is not subscribed. Subscription-independent ticks are still active.Delayed market data is available.CTSH NASDAQ.NMS/TOP/ALL, contract: Option(conId=722886491, symbol='CTSH', lastTradeDateOrContractMonth='20250417', strike=75.0, right='P', multiplier='100', exchange='SMART', currency='USD', localSymbol='CTSH  250417P00075000', tradingClass='CTSH')\n",
      "Error 10090, reqId 427: Part of requested market data is not subscribed. Subscription-independent ticks are still active.Delayed market data is available.GOOG NASDAQ.NMS/TOP/ALL, contract: Option(conId=761035804, symbol='GOOG', lastTradeDateOrContractMonth='20250404', strike=155.0, right='P', multiplier='100', exchange='SMART', currency='USD', localSymbol='GOOG  250404P00155000', tradingClass='GOOG')\n",
      "Error 10090, reqId 428: Part of requested market data is not subscribed. Subscription-independent ticks are still active.Delayed market data is available.GOOG NASDAQ.NMS/TOP/ALL, contract: Option(conId=761035843, symbol='GOOG', lastTradeDateOrContractMonth='20250404', strike=160.0, right='P', multiplier='100', exchange='SMART', currency='USD', localSymbol='GOOG  250404P00160000', tradingClass='GOOG')\n",
      "Error 10090, reqId 429: Part of requested market data is not subscribed. Subscription-independent ticks are still active.Delayed market data is available.INTC NASDAQ.NMS/TOP/ALL, contract: Option(conId=759632068, symbol='INTC', lastTradeDateOrContractMonth='20250328', strike=21.0, right='P', multiplier='100', exchange='SMART', currency='USD', localSymbol='INTC  250328P00021000', tradingClass='INTC')\n",
      "Error 10090, reqId 430: Part of requested market data is not subscribed. Subscription-independent ticks are still active.Delayed market data is available.INTC NASDAQ.NMS/TOP/ALL, contract: Option(conId=759632438, symbol='INTC', lastTradeDateOrContractMonth='20250328', strike=24.0, right='P', multiplier='100', exchange='SMART', currency='USD', localSymbol='INTC  250328P00024000', tradingClass='INTC')\n",
      "Error 10090, reqId 431: Part of requested market data is not subscribed. Subscription-independent ticks are still active.Delayed market data is available.LI NASDAQ.NMS/TOP/ALL, contract: Option(conId=759651940, symbol='LI', lastTradeDateOrContractMonth='20250328', strike=26.5, right='P', multiplier='100', exchange='SMART', currency='USD', localSymbol='LI    250328P00026500', tradingClass='LI')\n",
      "Error 10090, reqId 432: Part of requested market data is not subscribed. Subscription-independent ticks are still active.Delayed market data is available.LI NASDAQ.NMS/TOP/ALL, contract: Option(conId=759652105, symbol='LI', lastTradeDateOrContractMonth='20250328', strike=27.0, right='P', multiplier='100', exchange='SMART', currency='USD', localSymbol='LI    250328P00027000', tradingClass='LI')\n",
      "Error 10090, reqId 433: Part of requested market data is not subscribed. Subscription-independent ticks are still active.Delayed market data is available.PLTR NASDAQ.NMS/TOP/ALL, contract: Option(conId=764847965, symbol='PLTR', lastTradeDateOrContractMonth='20250328', strike=79.0, right='P', multiplier='100', exchange='SMART', currency='USD', localSymbol='PLTR  250328P00079000', tradingClass='PLTR')\n",
      "Error 10090, reqId 434: Part of requested market data is not subscribed. Subscription-independent ticks are still active.Delayed market data is available.PLTR NASDAQ.NMS/TOP/ALL, contract: Option(conId=764848210, symbol='PLTR', lastTradeDateOrContractMonth='20250328', strike=84.0, right='P', multiplier='100', exchange='SMART', currency='USD', localSymbol='PLTR  250328P00084000', tradingClass='PLTR')\n",
      "Error 10090, reqId 435: Part of requested market data is not subscribed. Subscription-independent ticks are still active.Delayed market data is available.PLTR NASDAQ.NMS/TOP/ALL, contract: Option(conId=760004128, symbol='PLTR', lastTradeDateOrContractMonth='20250328', strike=85.0, right='P', multiplier='100', exchange='SMART', currency='USD', localSymbol='PLTR  250328P00085000', tradingClass='PLTR')\n",
      "Error 10090, reqId 436: Part of requested market data is not subscribed. Subscription-independent ticks are still active.Delayed market data is available.VST NYSE/TOP/ALL, contract: Option(conId=765324651, symbol='VST', lastTradeDateOrContractMonth='20250328', strike=116.0, right='P', multiplier='100', exchange='SMART', currency='USD', localSymbol='VST   250328P00116000', tradingClass='VST')\n",
      "Error 10090, reqId 437: Part of requested market data is not subscribed. Subscription-independent ticks are still active.Delayed market data is available.VST NYSE/TOP/ALL, contract: Option(conId=765324677, symbol='VST', lastTradeDateOrContractMonth='20250328', strike=117.0, right='P', multiplier='100', exchange='SMART', currency='USD', localSymbol='VST   250328P00117000', tradingClass='VST')\n",
      "Error 10090, reqId 438: Part of requested market data is not subscribed. Subscription-independent ticks are still active.Delayed market data is available.WSM NYSE/TOP/ALL, contract: Option(conId=763248394, symbol='WSM', lastTradeDateOrContractMonth='20250417', strike=145.0, right='P', multiplier='100', exchange='SMART', currency='USD', localSymbol='WSM   250417P00145000', tradingClass='WSM')\n",
      "Error 10090, reqId 439: Part of requested market data is not subscribed. Subscription-independent ticks are still active.Delayed market data is available.WSM NYSE/TOP/ALL, contract: Option(conId=763248479, symbol='WSM', lastTradeDateOrContractMonth='20250417', strike=150.0, right='P', multiplier='100', exchange='SMART', currency='USD', localSymbol='WSM   250417P00150000', tradingClass='WSM')\n"
     ]
    }
   ],
   "source": [
    "from ib_insync import util, IB\n",
    "util.startLoop()\n",
    "ib = IB()\n",
    "ib.connect(port=7496, clientId=37)\n",
    "ib.reqMarketDataType(4)\n",
    "con_list = util.df(ib.portfolio()).loc[:,'contract'].tolist()\n"
   ]
  },
  {
   "cell_type": "code",
   "execution_count": null,
   "metadata": {},
   "outputs": [],
   "source": [
    "con_list = util.df(ib.portfolio()).loc[:,'contract'].tolist()\n",
    "# con_list = util.df(ib.portfolio())"
   ]
  },
  {
   "cell_type": "code",
   "execution_count": null,
   "metadata": {},
   "outputs": [],
   "source": [
    "con_list\n",
    "# [FROM HERE](https://github.com/erdewit/ib_insync/issues/119)"
   ]
  },
  {
   "cell_type": "code",
   "execution_count": null,
   "metadata": {},
   "outputs": [],
   "source": [
    "ib.qualifyContracts(*con_list)"
   ]
  },
  {
   "cell_type": "code",
   "execution_count": null,
   "metadata": {},
   "outputs": [],
   "source": [
    "con_list"
   ]
  },
  {
   "cell_type": "code",
   "execution_count": null,
   "metadata": {},
   "outputs": [],
   "source": [
    "for position in con_list:\n",
    "   # print(type(position))\n",
    "   # print(position.__dict__)\n",
    "   # print(f'{position.symbol} Pos => {position.strike}  - Strike => {position.strike} - Cost =>   ')\n",
    "   # https://stackoverflow.com/questions/56838271/get-bid-ask-price-from-interactive-brokers-using-python\n",
    "   tickers = [ib.reqTickers(position)]\n",
    "   for i, r in enumerate(tickers):\n",
    "    for j, t in enumerate(r):\n",
    "        # print(t.contract.symbol, t.time, t.bid, t.ask, t.close)\n",
    "        # print( f' Symbol {t.contract.symbol}, time: {t.time} bid => {t.bid} ask=>{t.ask} close=>{ t.close}   askDelta=>{t.askGreeks.delta}')\n",
    "        print( f' Symbol {t.contract.symbol},Strike => {position.strike}, right => {position.right}, bid => {t.bid}, ask=>{t.ask}, close=>{ t.close}, askDelta=>{t.askGreeks.delta}')\n",
    "        # print(t.__dict__)\n",
    "   "
   ]
  },
  {
   "cell_type": "code",
   "execution_count": null,
   "metadata": {},
   "outputs": [],
   "source": [
    "for position in con_list:\n",
    "   # https://stackoverflow.com/questions/56838271/get-bid-ask-price-from-interactive-brokers-using-python\n",
    "   tickers = [ib.reqTickers(position)]\n",
    "   for i, r in enumerate(tickers):\n",
    "    for j, t in enumerate(r):\n",
    "        print( f' Time => {t.time}, Symbol {t.contract.symbol},{position.right}{position.strike}, {position.} bid/ask=>{t.bid}/{t.ask}, close=>{ t.close}, askDelta=>{round(t.askGreeks.delta,2)}, askTheta=> {round(t.askGreeks.theta,2)}, bidDelta=>{round(t.bidGreeks.delta,2)} bidTheta=>')\n",
    "        \n",
    "   "
   ]
  },
  {
   "cell_type": "code",
   "execution_count": 35,
   "metadata": {},
   "outputs": [
    {
     "name": "stdout",
     "output_type": "stream",
     "text": [
      " Symbol ALB,Strike => 75.0, right => P, bid => 1.91, ask=>2.0, close=>2.36, askDelta=>-0.35 askTheta=> -0.1 bidDelta=>-0.34 bidTheta=> -0.1\n",
      " Symbol ALB,Strike => 76.0, right => P, bid => 2.3, ask=>2.39, close=>2.73, askDelta=>-0.4 askTheta=> -0.11 bidDelta=>-0.39 bidTheta=> -0.1\n",
      " Symbol BIDU,Strike => 90.0, right => P, bid => 3.8, ask=>3.95, close=>4.18, askDelta=>-0.34 askTheta=> -0.05 bidDelta=>-0.34 bidTheta=> -0.05\n",
      " Symbol BIDU,Strike => 95.0, right => P, bid => 6.15, ask=>6.3, close=>6.6, askDelta=>-0.46 askTheta=> -0.05 bidDelta=>-0.47 bidTheta=> -0.05\n",
      " Symbol CTSH,Strike => 72.5, right => P, bid => 0.65, ask=>0.75, close=>0.68, askDelta=>-0.23 askTheta=> -0.03 bidDelta=>-0.21 bidTheta=> -0.03\n",
      " Symbol CTSH,Strike => 75.0, right => P, bid => 1.3, ask=>1.4, close=>1.2, askDelta=>-0.37 askTheta=> -0.04 bidDelta=>-0.36 bidTheta=> -0.03\n",
      " Symbol GOOG,Strike => 155.0, right => P, bid => 0.73, ask=>0.75, close=>0.76, askDelta=>-0.15 askTheta=> -0.08 bidDelta=>-0.14 bidTheta=> -0.08\n",
      " Symbol GOOG,Strike => 160.0, right => P, bid => 1.64, ask=>1.67, close=>1.77, askDelta=>-0.28 askTheta=> -0.11 bidDelta=>-0.28 bidTheta=> -0.11\n",
      " Symbol INTC,Strike => 21.0, right => P, bid => 0.02, ask=>0.03, close=>0.05, askDelta=>-0.03 askTheta=> -0.01 bidDelta=>-0.02 bidTheta=> -0.01\n",
      " Symbol INTC,Strike => 24.0, right => P, bid => 0.4, ask=>0.42, close=>0.74, askDelta=>-0.34 askTheta=> -0.04 bidDelta=>-0.33 bidTheta=> -0.04\n",
      " Symbol LI,Strike => 26.5, right => P, bid => 0.78, ask=>0.82, close=>0.7, askDelta=>-0.5 askTheta=> -0.05 bidDelta=>-0.5 bidTheta=> -0.05\n",
      " Symbol LI,Strike => 27.0, right => P, bid => 1.07, ask=>1.12, close=>0.96, askDelta=>-0.6 askTheta=> -0.05 bidDelta=>-0.61 bidTheta=> -0.05\n",
      " Symbol PLTR,Strike => 79.0, right => P, bid => 0.43, ask=>0.45, close=>0.94, askDelta=>-0.11 askTheta=> -0.12 bidDelta=>-0.1 bidTheta=> -0.12\n",
      " Symbol PLTR,Strike => 84.0, right => P, bid => 1.11, ask=>1.13, close=>2.12, askDelta=>-0.24 askTheta=> -0.19 bidDelta=>-0.23 bidTheta=> -0.19\n",
      " Symbol PLTR,Strike => 85.0, right => P, bid => 1.33, ask=>1.36, close=>2.46, askDelta=>-0.27 askTheta=> -0.2 bidDelta=>-0.27 bidTheta=> -0.2\n",
      " Symbol VST,Strike => 116.0, right => P, bid => 0.41, ask=>0.47, close=>0.66, askDelta=>-0.09 askTheta=> -0.13 bidDelta=>-0.08 bidTheta=> -0.12\n",
      " Symbol VST,Strike => 117.0, right => P, bid => 0.49, ask=>0.53, close=>0.75, askDelta=>-0.11 askTheta=> -0.17 bidDelta=>-0.09 bidTheta=> -0.13\n",
      " Symbol WSM,Strike => 145.0, right => P, bid => 1.4, ask=>1.65, close=>1.65, askDelta=>-0.15 askTheta=> -0.08 bidDelta=>-0.13 bidTheta=> -0.08\n",
      " Symbol WSM,Strike => 150.0, right => P, bid => 2.3, ask=>2.6, close=>2.48, askDelta=>-0.21 askTheta=> -0.1 bidDelta=>-0.2 bidTheta=> -0.1\n"
     ]
    }
   ],
   "source": [
    "for position in con_list:\n",
    "   # https://stackoverflow.com/questions/56838271/get-bid-ask-price-from-interactive-brokers-using-python\n",
    "   tickers = [ib.reqTickers(position)]\n",
    "   for i, r in enumerate(tickers):\n",
    "    for j, t in enumerate(r):\n",
    "        # print( f' Time => {t.time}, Symbol {t.contract.symbol},{position.right}{position.strike}, {position.} bid/ask=>{t.bid}/{t.ask}, close=>{ t.close}, askDelta=>{round(t.askGreeks.delta,2)}, askTheta=> {round(t.askGreeks.theta,2)}, bidDelta=>{round(t.bidGreeks.delta,2)} ')\n",
    "        print( f' Symbol {t.contract.symbol},Strike => {position.strike}, right => {position.right}, bid => {t.bid}, ask=>{t.ask}, close=>{ t.close}, askDelta=>{round(t.askGreeks.delta,2)} askTheta=> {round(t.askGreeks.theta,2)} bidDelta=>{round(t.bidGreeks.delta,2)} bidTheta=> {round(t.bidGreeks.theta,2)}')\n",
    "        \n",
    "   "
   ]
  },
  {
   "cell_type": "markdown",
   "metadata": {},
   "source": []
  },
  {
   "cell_type": "code",
   "execution_count": null,
   "metadata": {},
   "outputs": [],
   "source": [
    "from ib_insync import *\n",
    "\n",
    "util.startLoop()\n",
    "\n",
    "ib = IB()\n",
    "ib.sleep(2)\n",
    "ib.connect('127.0.0.1', port=7490, clientId=12) # NB: Non default port could be 7498 on your machine by default when using TWS\n",
    "\n",
    "ib.reqMarketDataType(4) # This line is the one that counts to get delayed data without subscription if available\n"
   ]
  },
  {
   "cell_type": "code",
   "execution_count": null,
   "metadata": {},
   "outputs": [],
   "source": [
    "ib.disconnect()"
   ]
  }
 ],
 "metadata": {
  "kernelspec": {
   "display_name": ".venv",
   "language": "python",
   "name": "python3"
  },
  "language_info": {
   "codemirror_mode": {
    "name": "ipython",
    "version": 3
   },
   "file_extension": ".py",
   "mimetype": "text/x-python",
   "name": "python",
   "nbconvert_exporter": "python",
   "pygments_lexer": "ipython3",
   "version": "3.11.2"
  }
 },
 "nbformat": 4,
 "nbformat_minor": 2
}
