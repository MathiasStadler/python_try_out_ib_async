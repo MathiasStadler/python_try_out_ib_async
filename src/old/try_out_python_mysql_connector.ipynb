{
 "cells": [
  {
   "cell_type": "markdown",
   "metadata": {},
   "source": [
    "[FROM HERE](https://dev.mysql.com/doc/connector-python/en/)\n",
    "\n",
    "[Changes in MySQL Connector/Python 9.2.0 (2025-01-21, General Availability)](https://dev.mysql.com/doc/relnotes/connector-python/en/news-9-2-0.html)"
   ]
  },
  {
   "cell_type": "code",
   "execution_count": null,
   "metadata": {},
   "outputs": [],
   "source": []
  }
 ],
 "metadata": {
  "language_info": {
   "name": "python"
  }
 },
 "nbformat": 4,
 "nbformat_minor": 2
}
