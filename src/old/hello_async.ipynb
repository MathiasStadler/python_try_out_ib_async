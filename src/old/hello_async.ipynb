{
 "cells": [
  {
   "cell_type": "markdown",
   "metadata": {},
   "source": [
    "# connect tws inside notebook"
   ]
  },
  {
   "cell_type": "code",
   "execution_count": null,
   "metadata": {},
   "outputs": [],
   "source": [
    "from ib_async import *\n",
    "\n",
    "util.startLoop()\n",
    "\n",
    "ib = IB()\n",
    "ib.connect(port=7496, clientId=34)\n",
    "ib.reqMarketDataType(3)\n",
    "\n",
    "print(type(ib.portfolio()))\n"
   ]
  },
  {
   "cell_type": "code",
   "execution_count": 7,
   "metadata": {},
   "outputs": [
    {
     "name": "stdout",
     "output_type": "stream",
     "text": [
      "<class 'list'>\n",
      "[PortfolioItem(contract=Option(conId=760988597, symbol='ALB', lastTradeDateOrContractMonth='20250404', strike=75.0, right='P', multiplier='100', primaryExchange='AMEX', currency='USD', localSymbol='ALB   250404P00075000', tradingClass='ALB'), position=1.0, marketPrice=2.5367639, marketValue=253.68, averageCost=265.0567, unrealizedPNL=-11.38, realizedPNL=0.0, account='DU5417029'), PortfolioItem(contract=Option(conId=760988670, symbol='ALB', lastTradeDateOrContractMonth='20250404', strike=76.0, right='P', multiplier='100', primaryExchange='AMEX', currency='USD', localSymbol='ALB   250404P00076000', tradingClass='ALB'), position=-2.0, marketPrice=3.09283615, marketValue=-618.57, averageCost=286.2826, unrealizedPNL=-46.0, realizedPNL=0.0, account='DU5417029'), PortfolioItem(contract=Option(conId=755327744, symbol='BIDU', lastTradeDateOrContractMonth='20250516', strike=90.0, right='P', multiplier='100', primaryExchange='AMEX', currency='USD', localSymbol='BIDU  250516P00090000', tradingClass='BIDU'), position=1.0, marketPrice=2.5084963, marketValue=250.85, averageCost=283.6367, unrealizedPNL=-32.79, realizedPNL=0.0, account='DU5417029'), PortfolioItem(contract=Option(conId=755327783, symbol='BIDU', lastTradeDateOrContractMonth='20250516', strike=95.0, right='P', multiplier='100', primaryExchange='AMEX', currency='USD', localSymbol='BIDU  250516P00095000', tradingClass='BIDU'), position=-2.0, marketPrice=4.28544045, marketValue=-857.09, averageCost=429.6986, unrealizedPNL=2.31, realizedPNL=0.0, account='DU5417029'), PortfolioItem(contract=Option(conId=722886411, symbol='CTSH', lastTradeDateOrContractMonth='20250417', strike=72.5, right='P', multiplier='100', primaryExchange='AMEX', currency='USD', localSymbol='CTSH  250417P00072500', tradingClass='CTSH'), position=1.0, marketPrice=0.32430475, marketValue=32.43, averageCost=61.0567, unrealizedPNL=-28.63, realizedPNL=0.0, account='DU5417029'), PortfolioItem(contract=Option(conId=722886491, symbol='CTSH', lastTradeDateOrContractMonth='20250417', strike=75.0, right='P', multiplier='100', primaryExchange='AMEX', currency='USD', localSymbol='CTSH  250417P00075000', tradingClass='CTSH'), position=-3.0, marketPrice=0.75467205, marketValue=-226.4, averageCost=94.43793335, unrealizedPNL=56.91, realizedPNL=0.0, account='DU5417029'), PortfolioItem(contract=Option(conId=761035804, symbol='GOOG', lastTradeDateOrContractMonth='20250404', strike=155.0, right='P', multiplier='100', primaryExchange='AMEX', currency='USD', localSymbol='GOOG  250404P00155000', tradingClass='GOOG'), position=-4.0, marketPrice=0.424893, marketValue=-169.96, averageCost=148.411425, unrealizedPNL=423.69, realizedPNL=0.0, account='DU5417029'), PortfolioItem(contract=Option(conId=761035843, symbol='GOOG', lastTradeDateOrContractMonth='20250404', strike=160.0, right='P', multiplier='100', primaryExchange='AMEX', currency='USD', localSymbol='GOOG  250404P00160000', tradingClass='GOOG'), position=2.0, marketPrice=1.20000005, marketValue=240.0, averageCost=246.58165, unrealizedPNL=-253.16, realizedPNL=0.0, account='DU5417029'), PortfolioItem(contract=Option(conId=759632068, symbol='INTC', lastTradeDateOrContractMonth='20250328', strike=21.0, right='P', multiplier='100', primaryExchange='AMEX', currency='USD', localSymbol='INTC  250328P00021000', tradingClass='INTC'), position=2.0, marketPrice=0.00495785, marketValue=0.99, averageCost=6.30665, unrealizedPNL=-11.62, realizedPNL=0.0, account='DU5417029'), PortfolioItem(contract=Option(conId=759632438, symbol='INTC', lastTradeDateOrContractMonth='20250328', strike=24.0, right='P', multiplier='100', primaryExchange='AMEX', currency='USD', localSymbol='INTC  250328P00024000', tradingClass='INTC'), position=-1.0, marketPrice=0.53382005, marketValue=-53.38, averageCost=65.1887, unrealizedPNL=11.81, realizedPNL=0.0, account='DU5417029'), PortfolioItem(contract=Option(conId=759651940, symbol='LI', lastTradeDateOrContractMonth='20250328', strike=26.5, right='P', multiplier='100', primaryExchange='AMEX', currency='USD', localSymbol='LI    250328P00026500', tradingClass='LI'), position=-2.0, marketPrice=0.57223835, marketValue=-114.45, averageCost=79.59835, unrealizedPNL=44.75, realizedPNL=0.0, account='DU5417029'), PortfolioItem(contract=Option(conId=759652105, symbol='LI', lastTradeDateOrContractMonth='20250328', strike=27.0, right='P', multiplier='100', primaryExchange='AMEX', currency='USD', localSymbol='LI    250328P00027000', tradingClass='LI'), position=1.0, marketPrice=0.9897006, marketValue=98.97, averageCost=113.7467, unrealizedPNL=-14.78, realizedPNL=0.0, account='DU5417029'), PortfolioItem(contract=Option(conId=764847965, symbol='PLTR', lastTradeDateOrContractMonth='20250328', strike=79.0, right='P', multiplier='100', primaryExchange='AMEX', currency='USD', localSymbol='PLTR  250328P00079000', tradingClass='PLTR'), position=-1.0, marketPrice=0.02986245, marketValue=-2.99, averageCost=129.9369, unrealizedPNL=126.95, realizedPNL=0.0, account='DU5417029'), PortfolioItem(contract=Option(conId=764848210, symbol='PLTR', lastTradeDateOrContractMonth='20250328', strike=84.0, right='P', multiplier='100', primaryExchange='AMEX', currency='USD', localSymbol='PLTR  250328P00084000', tradingClass='PLTR'), position=1.0, marketPrice=0.09264705, marketValue=9.26, averageCost=273.0567, unrealizedPNL=-263.79, realizedPNL=0.0, account='DU5417029'), PortfolioItem(contract=Option(conId=760004128, symbol='PLTR', lastTradeDateOrContractMonth='20250328', strike=85.0, right='P', multiplier='100', primaryExchange='AMEX', currency='USD', localSymbol='PLTR  250328P00085000', tradingClass='PLTR'), position=-2.0, marketPrice=0.12827115, marketValue=-25.65, averageCost=309.28195, unrealizedPNL=592.91, realizedPNL=0.0, account='DU5417029'), PortfolioItem(contract=Option(conId=765324651, symbol='VST', lastTradeDateOrContractMonth='20250328', strike=116.0, right='P', multiplier='100', primaryExchange='AMEX', currency='USD', localSymbol='VST   250328P00116000', tradingClass='VST'), position=-2.0, marketPrice=0.6562809, marketValue=-131.26, averageCost=314.6718, unrealizedPNL=498.09, realizedPNL=0.0, account='DU5417029'), PortfolioItem(contract=Option(conId=765324677, symbol='VST', lastTradeDateOrContractMonth='20250328', strike=117.0, right='P', multiplier='100', primaryExchange='AMEX', currency='USD', localSymbol='VST   250328P00117000', tradingClass='VST'), position=1.0, marketPrice=0.86732715, marketValue=86.73, averageCost=395.6667, unrealizedPNL=-308.93, realizedPNL=0.0, account='DU5417029'), PortfolioItem(contract=Option(conId=763248394, symbol='WSM', lastTradeDateOrContractMonth='20250417', strike=145.0, right='P', multiplier='100', primaryExchange='AMEX', currency='USD', localSymbol='WSM   250417P00145000', tradingClass='WSM'), position=-2.0, marketPrice=0.8456804, marketValue=-169.14, averageCost=510.0264, unrealizedPNL=850.92, realizedPNL=0.0, account='DU5417029'), PortfolioItem(contract=Option(conId=763248479, symbol='WSM', lastTradeDateOrContractMonth='20250417', strike=150.0, right='P', multiplier='100', primaryExchange='AMEX', currency='USD', localSymbol='WSM   250417P00150000', tradingClass='WSM'), position=1.0, marketPrice=1.4096315, marketValue=140.96, averageCost=760.3067, unrealizedPNL=-619.34, realizedPNL=0.0, account='DU5417029')]\n"
     ]
    }
   ],
   "source": [
    "# FROM HERE\n",
    "# https://github.com/erdewit/ib_insync/issues/303\n",
    "\n",
    "from ib_async import *\n",
    "\n",
    "HOST, PORT, CID = ('127.0.0.1', 7496, 36)\n",
    "\n",
    "with IB().connect(HOST, PORT, CID) as ib:\n",
    "    print(type(ib.portfolio()))\n",
    "    print(ib.portfolio())"
   ]
  }
 ],
 "metadata": {
  "kernelspec": {
   "display_name": ".venv",
   "language": "python",
   "name": "python3"
  },
  "language_info": {
   "codemirror_mode": {
    "name": "ipython",
    "version": 3
   },
   "file_extension": ".py",
   "mimetype": "text/x-python",
   "name": "python",
   "nbconvert_exporter": "python",
   "pygments_lexer": "ipython3",
   "version": "3.11.2"
  }
 },
 "nbformat": 4,
 "nbformat_minor": 2
}
