{
 "cells": [
  {
   "cell_type": "markdown",
   "metadata": {},
   "source": [
    "# explore get data from portfolio and make/show nice"
   ]
  },
  {
   "cell_type": "markdown",
   "metadata": {
    "vscode": {
     "languageId": "plaintext"
    }
   },
   "source": [
    "# connect tws local "
   ]
  },
  {
   "cell_type": "code",
   "execution_count": null,
   "metadata": {},
   "outputs": [],
   "source": [
    "from ib_async import *\n",
    "util.startLoop()\n",
    "ib=IB()\n",
    "try:\n",
    "    ib.connect(port=7496,clientId=35)\n",
    "except Exception as err:\n",
    "    print(f\"Unexpected {err=}, {type(err)=}\")\n",
    "    raise"
   ]
  },
  {
   "cell_type": "markdown",
   "metadata": {},
   "source": [
    "[FROM HERE](https://github.com/erdewit/ib_insync/issues/41)"
   ]
  },
  {
   "cell_type": "code",
   "execution_count": null,
   "metadata": {},
   "outputs": [
    {
     "name": "stdout",
     "output_type": "stream",
     "text": [
      "Trying to connect...\n",
      "Connected\n"
     ]
    },
    {
     "ename": "NameError",
     "evalue": "name 'do_something_important_upon_connection' is not defined",
     "output_type": "error",
     "traceback": [
      "\u001b[0;31m---------------------------------------------------------------------------\u001b[0m",
      "\u001b[0;31mNameError\u001b[0m                                 Traceback (most recent call last)",
      "Cell \u001b[0;32mIn[9], line 40\u001b[0m\n\u001b[1;32m     38\u001b[0m ib \u001b[38;5;241m=\u001b[39m IB()\n\u001b[1;32m     39\u001b[0m util\u001b[38;5;241m.\u001b[39mpatchAsyncio()\n\u001b[0;32m---> 40\u001b[0m \u001b[43mconnect_to_ibkr\u001b[49m\u001b[43m(\u001b[49m\u001b[38;5;241;43m33\u001b[39;49m\u001b[43m)\u001b[49m\n\u001b[1;32m     41\u001b[0m ib\u001b[38;5;241m.\u001b[39mdisconnect()\n",
      "Cell \u001b[0;32mIn[9], line 31\u001b[0m, in \u001b[0;36mconnect_to_ibkr\u001b[0;34m(clientId)\u001b[0m\n\u001b[1;32m     28\u001b[0m ib\u001b[38;5;241m.\u001b[39mdisconnectedEvent \u001b[38;5;241m+\u001b[39m\u001b[38;5;241m=\u001b[39m onDisconnected\n\u001b[1;32m     30\u001b[0m \u001b[38;5;66;03m# Function to call after successful connection\u001b[39;00m\n\u001b[0;32m---> 31\u001b[0m \u001b[43mdo_something_important_upon_connection\u001b[49m()\n",
      "\u001b[0;31mNameError\u001b[0m: name 'do_something_important_upon_connection' is not defined"
     ]
    }
   ],
   "source": [
    "import sys\n",
    "\n",
    "\n",
    "def connect_to_ibkr(clientId=0):\n",
    "    \"\"\"\n",
    "    Connect to a running TWS/gateway application.\n",
    "    \"\"\"\n",
    "    print('Trying to connect...')\n",
    "    max_attempts = 10\n",
    "    current_reconnect = 0\n",
    "    delaySecs = 60\n",
    "    ib.disconnect()\n",
    "    while True:\n",
    "        try:\n",
    "            ib.connect(\"127.0.0.1\", port=7496, clientId=clientId, timeout=5)\n",
    "            if ib.isConnected():\n",
    "                print('Connected')\n",
    "                break\n",
    "        except Exception as err:\n",
    "            print(\"Connection exception: \", err)\n",
    "            if current_reconnect < max_attempts:\n",
    "                current_reconnect += 1\n",
    "                print('Connect failed')\n",
    "                print(f'Retrying in {delaySecs} seconds, attempt {current_reconnect} of max {max_attempts}')\n",
    "                ib.sleep(delaySecs)\n",
    "            else:\n",
    "                sys.exit(f\"Reconnect Failure after {max_attempts} tries\")\n",
    "    ib.disconnectedEvent += onDisconnected\n",
    "    \n",
    "    # Function to call after successful connection\n",
    "    do_something_important_upon_connection()\n",
    "\n",
    "def onDisconnected():\n",
    "    print(\"Disconnect Event\")\n",
    "    print(\"attempting restart and reconnect...\")\n",
    "    connect_to_ibkr()\n",
    "\n",
    "def do_something_important_upon_connection:\n",
    "\n",
    "\n",
    "ib = IB()\n",
    "util.patchAsyncio()\n",
    "connect_to_ibkr(33)\n",
    "ib.disconnect()"
   ]
  }
 ],
 "metadata": {
  "kernelspec": {
   "display_name": ".venv",
   "language": "python",
   "name": "python3"
  },
  "language_info": {
   "codemirror_mode": {
    "name": "ipython",
    "version": 3
   },
   "file_extension": ".py",
   "mimetype": "text/x-python",
   "name": "python",
   "nbconvert_exporter": "python",
   "pygments_lexer": "ipython3",
   "version": "3.11.2"
  }
 },
 "nbformat": 4,
 "nbformat_minor": 2
}
