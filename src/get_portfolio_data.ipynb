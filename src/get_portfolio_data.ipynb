{
 "cells": [
  {
   "cell_type": "markdown",
   "metadata": {},
   "source": [
    "# explore get data from portfolio and make/show nice"
   ]
  },
  {
   "cell_type": "markdown",
   "metadata": {
    "vscode": {
     "languageId": "plaintext"
    }
   },
   "source": [
    "# connect tws local "
   ]
  },
  {
   "cell_type": "code",
   "execution_count": null,
   "metadata": {},
   "outputs": [],
   "source": [
    "from ib_async import *\n",
    "util.startLoop()\n",
    "ib=IB()\n",
    "try:\n",
    "    ib.connect(port=7496,clientId=35)\n",
    "except Exception as err:\n",
    "    print(f\"Unexpected {err=}, {type(err)=}\")\n",
    "    raise"
   ]
  },
  {
   "cell_type": "markdown",
   "metadata": {},
   "source": [
    "[FROM HERE](https://github.com/erdewit/ib_insync/issues/41)"
   ]
  },
  {
   "cell_type": "code",
   "execution_count": 5,
   "metadata": {},
   "outputs": [
    {
     "name": "stdout",
     "output_type": "stream",
     "text": [
      "Trying to connect...\n",
      "Connected\n",
      "Disconnect Event\n",
      "attempting restart and reconnect...\n",
      "Trying to connect...\n"
     ]
    },
    {
     "name": "stderr",
     "output_type": "stream",
     "text": [
      "Peer closed connection. clientId 0 already in use?\n",
      "API connection failed: TimeoutError()\n"
     ]
    },
    {
     "name": "stdout",
     "output_type": "stream",
     "text": [
      "Connection exception:  \n",
      "Connect failed\n",
      "Retrying in 60 seconds, attempt 1 of max 10\n"
     ]
    },
    {
     "name": "stderr",
     "output_type": "stream",
     "text": [
      "Peer closed connection. clientId 0 already in use?\n",
      "API connection failed: TimeoutError()\n"
     ]
    },
    {
     "name": "stdout",
     "output_type": "stream",
     "text": [
      "Connection exception:  \n",
      "Connect failed\n",
      "Retrying in 60 seconds, attempt 2 of max 10\n"
     ]
    },
    {
     "name": "stderr",
     "output_type": "stream",
     "text": [
      "Peer closed connection. clientId 0 already in use?\n",
      "API connection failed: TimeoutError()\n"
     ]
    },
    {
     "name": "stdout",
     "output_type": "stream",
     "text": [
      "Connection exception:  \n",
      "Connect failed\n",
      "Retrying in 60 seconds, attempt 3 of max 10\n"
     ]
    },
    {
     "name": "stderr",
     "output_type": "stream",
     "text": [
      "Peer closed connection. clientId 0 already in use?\n",
      "API connection failed: TimeoutError()\n"
     ]
    },
    {
     "name": "stdout",
     "output_type": "stream",
     "text": [
      "Connection exception:  \n",
      "Connect failed\n",
      "Retrying in 60 seconds, attempt 4 of max 10\n"
     ]
    },
    {
     "name": "stderr",
     "output_type": "stream",
     "text": [
      "Peer closed connection. clientId 0 already in use?\n",
      "API connection failed: TimeoutError()\n"
     ]
    },
    {
     "name": "stdout",
     "output_type": "stream",
     "text": [
      "Connection exception:  \n",
      "Connect failed\n",
      "Retrying in 60 seconds, attempt 5 of max 10\n"
     ]
    },
    {
     "name": "stderr",
     "output_type": "stream",
     "text": [
      "Peer closed connection. clientId 0 already in use?\n",
      "API connection failed: TimeoutError()\n"
     ]
    },
    {
     "name": "stdout",
     "output_type": "stream",
     "text": [
      "Connection exception:  \n",
      "Connect failed\n",
      "Retrying in 60 seconds, attempt 6 of max 10\n"
     ]
    },
    {
     "name": "stderr",
     "output_type": "stream",
     "text": [
      "Peer closed connection. clientId 0 already in use?\n",
      "API connection failed: TimeoutError()\n"
     ]
    },
    {
     "name": "stdout",
     "output_type": "stream",
     "text": [
      "Connection exception:  \n",
      "Connect failed\n",
      "Retrying in 60 seconds, attempt 7 of max 10\n"
     ]
    },
    {
     "name": "stderr",
     "output_type": "stream",
     "text": [
      "Peer closed connection. clientId 0 already in use?\n",
      "API connection failed: TimeoutError()\n"
     ]
    },
    {
     "name": "stdout",
     "output_type": "stream",
     "text": [
      "Connection exception:  \n",
      "Connect failed\n",
      "Retrying in 60 seconds, attempt 8 of max 10\n"
     ]
    },
    {
     "name": "stderr",
     "output_type": "stream",
     "text": [
      "Peer closed connection. clientId 0 already in use?\n",
      "API connection failed: TimeoutError()\n"
     ]
    },
    {
     "name": "stdout",
     "output_type": "stream",
     "text": [
      "Connection exception:  \n",
      "Connect failed\n",
      "Retrying in 60 seconds, attempt 9 of max 10\n"
     ]
    },
    {
     "name": "stderr",
     "output_type": "stream",
     "text": [
      "Peer closed connection. clientId 0 already in use?\n",
      "API connection failed: TimeoutError()\n"
     ]
    },
    {
     "name": "stdout",
     "output_type": "stream",
     "text": [
      "Connection exception:  \n",
      "Connect failed\n",
      "Retrying in 60 seconds, attempt 10 of max 10\n"
     ]
    },
    {
     "name": "stderr",
     "output_type": "stream",
     "text": [
      "Peer closed connection. clientId 0 already in use?\n",
      "API connection failed: TimeoutError()\n"
     ]
    },
    {
     "name": "stdout",
     "output_type": "stream",
     "text": [
      "Connection exception:  \n"
     ]
    },
    {
     "ename": "SystemExit",
     "evalue": "Reconnect Failure after 10 tries",
     "output_type": "error",
     "traceback": [
      "An exception has occurred, use %tb to see the full traceback.\n",
      "\u001b[0;31mSystemExit\u001b[0m\u001b[0;31m:\u001b[0m Reconnect Failure after 10 tries\n"
     ]
    },
    {
     "name": "stderr",
     "output_type": "stream",
     "text": [
      "/home/trapapa/python_try_out_ib_async/.venv/lib/python3.11/site-packages/IPython/core/interactiveshell.py:3585: UserWarning: To exit: use 'exit', 'quit', or Ctrl-D.\n",
      "  warn(\"To exit: use 'exit', 'quit', or Ctrl-D.\", stacklevel=1)\n"
     ]
    }
   ],
   "source": [
    "import sys\n",
    "from ib_async import *\n",
    "\n",
    "def connect_to_ibkr(clientId=0):\n",
    "    \"\"\"\n",
    "    Connect to a running TWS/gateway application.\n",
    "    \"\"\"\n",
    "    print('Trying to connect...')\n",
    "    max_attempts = 10\n",
    "    current_reconnect = 0\n",
    "    delaySecs = 60\n",
    "    ib.disconnect()\n",
    "    while True:\n",
    "        try:\n",
    "            ib.connect(\"127.0.0.1\", port=7496, clientId=clientId, timeout=5)\n",
    "            if ib.isConnected():\n",
    "                print('Connected')\n",
    "                break\n",
    "        except Exception as err:\n",
    "            print(\"Connection exception: \", err)\n",
    "            if current_reconnect < max_attempts:\n",
    "                current_reconnect += 1\n",
    "                print('Connect failed')\n",
    "                print(f'Retrying in {delaySecs} seconds, attempt {current_reconnect} of max {max_attempts}')\n",
    "                ib.sleep(delaySecs)\n",
    "            else:\n",
    "                sys.exit(f\"Reconnect Failure after {max_attempts} tries\")\n",
    "    ib.disconnectedEvent += onDisconnected\n",
    "    \n",
    "    # Function to call after successful connection\n",
    "   #  do_something_important_upon_connection()\n",
    "\n",
    "def onDisconnected():\n",
    "    print(\"Disconnect Event\")\n",
    "    print(\"attempting restart and reconnect...\")\n",
    "    connect_to_ibkr()\n",
    "\n",
    "def do_something_important_upon_connection():\n",
    "    None\n",
    "\n",
    "# https://github.com/erdewit/ib_insync/issues/41\n",
    "\n",
    "\n",
    "ib = IB()\n",
    "util.patchAsyncio()\n",
    "connect_to_ibkr(33)\n",
    "ib.disconnect()"
   ]
  },
  {
   "cell_type": "markdown",
   "metadata": {},
   "source": [
    "None function"
   ]
  },
  {
   "cell_type": "code",
   "execution_count": 2,
   "metadata": {},
   "outputs": [],
   "source": [
    "def hello():\n",
    "    None"
   ]
  },
  {
   "cell_type": "markdown",
   "metadata": {},
   "source": [
    "ib disconnect"
   ]
  },
  {
   "cell_type": "code",
   "execution_count": 3,
   "metadata": {},
   "outputs": [
    {
     "data": {
      "text/plain": [
       "<bound method IB.disconnect of <IB connected to 127.0.0.1:7496 clientId=0>>"
      ]
     },
     "execution_count": 3,
     "metadata": {},
     "output_type": "execute_result"
    }
   ],
   "source": [
    "ib.disconnect"
   ]
  }
 ],
 "metadata": {
  "kernelspec": {
   "display_name": ".venv",
   "language": "python",
   "name": "python3"
  },
  "language_info": {
   "codemirror_mode": {
    "name": "ipython",
    "version": 3
   },
   "file_extension": ".py",
   "mimetype": "text/x-python",
   "name": "python",
   "nbconvert_exporter": "python",
   "pygments_lexer": "ipython3",
   "version": "3.11.2"
  }
 },
 "nbformat": 4,
 "nbformat_minor": 2
}
