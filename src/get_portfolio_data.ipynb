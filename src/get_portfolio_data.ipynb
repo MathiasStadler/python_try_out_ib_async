{
 "cells": [
  {
   "cell_type": "markdown",
   "metadata": {},
   "source": [
    "# explore get data from portfolio and make/show nice"
   ]
  },
  {
   "cell_type": "markdown",
   "metadata": {
    "vscode": {
     "languageId": "plaintext"
    }
   },
   "source": [
    "# connect tws local "
   ]
  },
  {
   "cell_type": "code",
   "execution_count": null,
   "metadata": {},
   "outputs": [],
   "source": [
    "from ib_async import *\n",
    "util.startLoop()\n",
    "ib=IB()\n",
    "try:\n",
    "    ib.connect(port=7496,clientId=35)\n",
    "except Exception as err:\n",
    "    print(f\"Unexpected {err=}, {type(err)=}\")\n",
    "    raise"
   ]
  },
  {
   "cell_type": "markdown",
   "metadata": {},
   "source": [
    "[FROM HERE](https://github.com/erdewit/ib_insync/issues/41)"
   ]
  },
  {
   "cell_type": "code",
   "execution_count": null,
   "metadata": {},
   "outputs": [],
   "source": [
    "def connect_to_ibkr():\n",
    "    \"\"\"\n",
    "    Connect to a running TWS/gateway application.\n",
    "    \"\"\"\n",
    "    print('Trying to connect...')\n",
    "    max_attempts = 10\n",
    "    current_reconnect = 0\n",
    "    delaySecs = 60\n",
    "    ib.disconnect()\n",
    "    while True:\n",
    "        try:\n",
    "            ib.connect(\"127.0.0.1\", port=7496, clientId=4, timeout=5)\n",
    "            if ib.isConnected():\n",
    "                print('Connected')\n",
    "                break\n",
    "        except Exception as err:\n",
    "            print(\"Connection exception: \", err)\n",
    "            if current_reconnect < max_attempts:\n",
    "                current_reconnect += 1\n",
    "                print('Connect failed')\n",
    "                print(f'Retrying in {delaySecs} seconds, attempt {current_reconnect} of max {max_attempts}')\n",
    "                ib.sleep(delaySecs)\n",
    "            else:\n",
    "                sys.exit(f\"Reconnect Failure after {max_attempts} tries\")\n",
    "    ib.disconnectedEvent += onDisconnected\n",
    "    \n",
    "    # Function to call after successful connection\n",
    "    do_something_important_upon_connection()\n",
    "\n",
    "def onDisconnected():\n",
    "    print(\"Disconnect Event\")\n",
    "    print(\"attempting restart and reconnect...\")\n",
    "    connect_to_ibkr()\n",
    "\n",
    "ib = IB()\n",
    "util.patchAsyncio()\n",
    "connect_to_ibkr()\n",
    "ib.disconnect()"
   ]
  }
 ],
 "metadata": {
  "kernelspec": {
   "display_name": ".venv",
   "language": "python",
   "name": "python3"
  },
  "language_info": {
   "codemirror_mode": {
    "name": "ipython",
    "version": 3
   },
   "file_extension": ".py",
   "mimetype": "text/x-python",
   "name": "python",
   "nbconvert_exporter": "python",
   "pygments_lexer": "ipython3",
   "version": "3.11.2"
  }
 },
 "nbformat": 4,
 "nbformat_minor": 2
}
