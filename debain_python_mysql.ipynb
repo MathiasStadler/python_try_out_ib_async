{
 "cells": [
  {
   "cell_type": "code",
   "execution_count": null,
   "metadata": {
    "vscode": {
     "languageId": "plaintext"
    }
   },
   "outputs": [],
   "source": [
    "# date\n",
    "Fri Mar 21 08:32:15 PM CET 2025"
   ]
  },
  {
   "cell_type": "markdown",
   "metadata": {},
   "source": [
    "# Motivation create local database on debian and handle  data with python"
   ]
  },
  {
   "cell_type": "markdown",
   "metadata": {
    "vscode": {
     "languageId": "plaintext"
    }
   },
   "source": [
    "## env\n",
    "\n",
    "```bash\n",
    "lsb_release -a\n",
    "No LSB modules are available.\n",
    "Distributor ID:\tDebian\n",
    "Description:\tDebian GNU/Linux 12 (bookworm)\n",
    "Release:\t12\n",
    "Codename:\tbookworm\n",
    "\n",
    "\n",
    "cat /etc/debian_version\n",
    "12.10\n",
    "\n",
    "```"
   ]
  },
  {
   "cell_type": "markdown",
   "metadata": {},
   "source": [
    "[python mysql](https://www.w3schools.com/python/python_mysql_getstarted.asp)\n"
   ]
  },
  {
   "cell_type": "markdown",
   "metadata": {},
   "source": [
    "## install  mysql-connector-python inside env\n",
    "\n",
    "```bash\n",
    "pip install mysql-connector-python \n",
    "```"
   ]
  },
  {
   "cell_type": "markdown",
   "metadata": {},
   "source": [
    "## [install mysql-server local on debian os](https://armann-systems.com/wiki/umfassende-anleitung-zur-installation-von-mysql-auf-debian-12-bookworm/)\n",
    "\n",
    "```bash\n",
    "sudo apt update\n",
    "apt list --upgradable\n",
    "sudo apt upgrade\n",
    "sudo apt install wget\n",
    "wget https://dev.mysql.com/get/mysql-apt-config_0.8.33-1_all.deb\n",
    "sudo apt install mysql-apt-config_0.8.33-1_all.deb\n",
    "\n",
    "sudo apt install mysql-server\n"
   ]
  },
  {
   "cell_type": "markdown",
   "metadata": {},
   "source": [
    "# [reset my password](https://docs.rackspace.com/docs/reset-a-mysql-root-password)\n",
    "\n",
    "```bash\n",
    "# show status of mysql\n",
    "systemctl status mysql\n",
    "\n",
    "# stop mysql local\n",
    "systemctl stop mysql\n",
    "\n",
    "# start mysql-server local \n",
    "systemctl start mysql\n",
    "\n",
    "# [start mysql local without password](https://www.digitalocean.com/community/tutorials/how-to-reset-your-mysql-or-mariadb-root-password)\n",
    "sudo mysqld_safe --skip-grant-tables --skip-networking &\n",
    "\n",
    "# connect db\n",
    "mysql -u root -p\n",
    "\n",
    "# FLUSH PRIVILEGES\n",
    "mysql> FLUSH PRIVILEGES;\n",
    "Query OK, 0 rows affected (0.02 sec)\n",
    "\n",
    "# set new password\n",
    "mysql > ALTER USER 'root'@'localhost' IDENTIFIED BY 'new_password';\n",
    "\n",
    "# quit db/mysql console\n",
    "mysql> quit\n",
    "\n",
    "# stop db graceful\n",
    "sudo kill `cat /var/run/mysqld/mysqld.pid`\n",
    "\n",
    "```\n",
    "\n",
    "\n"
   ]
  },
  {
   "cell_type": "markdown",
   "metadata": {},
   "source": [
    "## db handling shell path :blush:"
   ]
  },
  {
   "cell_type": "code",
   "execution_count": null,
   "metadata": {
    "vscode": {
     "languageId": "plaintext"
    }
   },
   "outputs": [],
   "source": [
    "login again\n",
    "\n",
    "mysql -u root -p  <= the password of user\n",
    " \n",
    "\n",
    "\n",
    "[tut how-to create a table in mysql](https://phoenixnap.com/kb/how-to-create-a-table-in-mysql)\n",
    "\n",
    "```bash\n",
    "\n",
    "# show all databases\n",
    "\n",
    "```bash\n",
    "mysql> show databases;\n",
    "\n",
    "```\n",
    "\n",
    "# crate new database\n",
    "\n",
    "```bash\n",
    "mysql> create database portfolio\n",
    "```\n",
    "\n",
    "# create a new table inside own database\n",
    "\n",
    "```bash\n",
    "create table \n",
    "```\n",
    "\n",
    "# add grant for user to table\n",
    "\n",
    "```bash\n",
    "mysql>GRANT CREATE,ALTER,INSERT,UPDATE,DELETE,SELECT,REFERENCES on portfolio.*  TO 'trapapa'@'localhost';\n",
    "```\n",
    "\n",
    "\n",
    "# add rows to the database\n",
    "\n",
    "```bash"
   ]
  }
 ],
 "metadata": {
  "language_info": {
   "name": "python"
  }
 },
 "nbformat": 4,
 "nbformat_minor": 2
}
