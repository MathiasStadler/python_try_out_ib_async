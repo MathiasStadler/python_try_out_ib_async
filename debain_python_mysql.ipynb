{
 "cells": [
  {
   "cell_type": "code",
   "execution_count": null,
   "metadata": {
    "vscode": {
     "languageId": "plaintext"
    }
   },
   "outputs": [],
   "source": [
    "# date\n",
    "Fri Mar 21 08:32:15 PM CET 2025"
   ]
  },
  {
   "cell_type": "markdown",
   "metadata": {},
   "source": [
    "# Motivation create local database on debian and handle  data with python"
   ]
  },
  {
   "cell_type": "markdown",
   "metadata": {
    "vscode": {
     "languageId": "plaintext"
    }
   },
   "source": [
    "## env\n",
    "\n",
    "```bash\n",
    "lsb_release -a\n",
    "No LSB modules are available.\n",
    "Distributor ID:\tDebian\n",
    "Description:\tDebian GNU/Linux 12 (bookworm)\n",
    "Release:\t12\n",
    "Codename:\tbookworm\n",
    "\n",
    "\n",
    "cat /etc/debian_version\n",
    "12.10\n",
    "\n",
    "```"
   ]
  },
  {
   "cell_type": "markdown",
   "metadata": {},
   "source": [
    "[python mysql](https://www.w3schools.com/python/python_mysql_getstarted.asp)\n"
   ]
  },
  {
   "cell_type": "markdown",
   "metadata": {},
   "source": [
    "## install  mysql-connector-python inside env\n",
    "\n",
    "```bash\n",
    "pip install mysql-connector-python \n",
    "```"
   ]
  },
  {
   "cell_type": "markdown",
   "metadata": {},
   "source": [
    "## [install mysql-server local on debian os](https://armann-systems.com/wiki/umfassende-anleitung-zur-installation-von-mysql-auf-debian-12-bookworm/)\n",
    "\n",
    "```bash\n",
    "sudo apt update\n",
    "apt list --upgradable\n",
    "sudo apt upgrade\n",
    "sudo apt install wget\n",
    "wget https://dev.mysql.com/get/mysql-apt-config_0.8.33-1_all.deb\n",
    "sudo apt install mysql-apt-config_0.8.33-1_all.deb\n",
    "\n",
    "sudo apt install mysql-server\n"
   ]
  }
 ],
 "metadata": {
  "language_info": {
   "name": "python"
  }
 },
 "nbformat": 4,
 "nbformat_minor": 2
}
