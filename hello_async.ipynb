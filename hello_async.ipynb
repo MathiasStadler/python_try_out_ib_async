{
 "cells": [
  {
   "cell_type": "markdown",
   "metadata": {},
   "source": [
    "# connect tws inside notebook"
   ]
  },
  {
   "cell_type": "code",
   "execution_count": null,
   "metadata": {},
   "outputs": [],
   "source": [
    "from ib_async import *\n",
    "\n",
    "util.startLoop()\n",
    "\n",
    "ib = IB()\n",
    "ib.connect(port=7496, clientId=34)\n",
    "ib.reqMarketDataType(3)\n",
    "\n",
    "print(type(ib.portfolio()))\n"
   ]
  },
  {
   "cell_type": "code",
   "execution_count": null,
   "metadata": {},
   "outputs": [
    {
     "name": "stdout",
     "output_type": "stream",
     "text": [
      "<class 'list'>\n"
     ]
    }
   ],
   "source": [
    "# FROM HERE\n",
    "# https://github.com/erdewit/ib_insync/issues/303\n",
    "\n",
    "from ib_async import *\n",
    "\n",
    "HOST, PORT, CID = ('127.0.0.1', 7496, 36)\n",
    "\n",
    "with IB().connect(HOST, PORT, CID) as ib:\n",
    "    print(type(ib.portfolio()))\n",
    "    print(ib.portfolio())"
   ]
  }
 ],
 "metadata": {
  "kernelspec": {
   "display_name": ".venv",
   "language": "python",
   "name": "python3"
  },
  "language_info": {
   "codemirror_mode": {
    "name": "ipython",
    "version": 3
   },
   "file_extension": ".py",
   "mimetype": "text/x-python",
   "name": "python",
   "nbconvert_exporter": "python",
   "pygments_lexer": "ipython3",
   "version": "3.11.2"
  }
 },
 "nbformat": 4,
 "nbformat_minor": 2
}
