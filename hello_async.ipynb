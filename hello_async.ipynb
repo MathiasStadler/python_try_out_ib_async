{
 "cells": [
  {
   "cell_type": "markdown",
   "metadata": {},
   "source": [
    "# connect tws inside notebook"
   ]
  },
  {
   "cell_type": "code",
   "execution_count": null,
   "metadata": {},
   "outputs": [
    {
     "data": {
      "text/plain": [
       "<IB connected to 127.0.0.1:7496 clientId=33>"
      ]
     },
     "execution_count": 4,
     "metadata": {},
     "output_type": "execute_result"
    },
    {
     "name": "stderr",
     "output_type": "stream",
     "text": [
      "Error 1100, reqId -1: Connectivity between %SHORT_COMPNAME% and %SHORT_PRODNAME% has been lost.\n",
      "Error 1100, reqId -1: Connectivity between %SHORT_COMPNAME% and %SHORT_PRODNAME% has been lost.\n",
      "Error 1100, reqId -1: Connectivity between %SHORT_COMPNAME% and %SHORT_PRODNAME% has been lost.\n",
      "Error 1102, reqId -1: Connectivity between %SHORT_COMPNAME% and %SHORT_PRODNAME% has been restored - data maintained. Verbindung zu allen Datenzentren hergestellt: usfarm.nj; usfuture; eufarm; cashfarm; usopt; eufarmnj; usfarm; cashhmds; ushmds; secdefnj.\n"
     ]
    }
   ],
   "source": [
    "from ib_async import *\n",
    "util.startLoop()\n",
    "ib = IB()\n",
    "ib.connect(port=7496, clientId=33)\n"
   ]
  }
 ],
 "metadata": {
  "kernelspec": {
   "display_name": ".venv",
   "language": "python",
   "name": "python3"
  },
  "language_info": {
   "codemirror_mode": {
    "name": "ipython",
    "version": 3
   },
   "file_extension": ".py",
   "mimetype": "text/x-python",
   "name": "python",
   "nbconvert_exporter": "python",
   "pygments_lexer": "ipython3",
   "version": "3.11.2"
  }
 },
 "nbformat": 4,
 "nbformat_minor": 2
}
