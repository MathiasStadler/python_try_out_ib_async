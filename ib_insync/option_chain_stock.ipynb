{
 "cells": [
  {
   "cell_type": "markdown",
   "metadata": {},
   "source": [
    "Option chains\n",
    "======="
   ]
  },
  {
   "cell_type": "code",
   "execution_count": 8,
   "metadata": {
    "scrolled": true
   },
   "outputs": [],
   "source": [
    "from ib_insync import *\n",
    "from ibapi.common import MarketDataTypeEnum\n",
    "from pandas import *\n",
    "\n"
   ]
  },
  {
   "cell_type": "code",
   "execution_count": 9,
   "metadata": {},
   "outputs": [
    {
     "data": {
      "text/plain": [
       "<IB connected to 127.0.0.1:7496 clientId=12>"
      ]
     },
     "execution_count": 9,
     "metadata": {},
     "output_type": "execute_result"
    }
   ],
   "source": [
    "util.startLoop()\n",
    "\n",
    "ib = IB()\n",
    "ib.connect('127.0.0.1', 7496, clientId=12)"
   ]
  },
  {
   "cell_type": "markdown",
   "metadata": {},
   "source": [
    "Suppose we want to find the options on the SPX, with the following conditions:\n",
    "\n",
    "* Use the next three monthly expiries;\n",
    "* Use strike prices within +- 20 dollar of the current SPX value;\n",
    "* Use strike prices that are a multitude of 5 dollar."
   ]
  },
  {
   "cell_type": "markdown",
   "metadata": {},
   "source": [
    "To get the current market value, first create a contract for the underlyer (the S&P 500 index):"
   ]
  },
  {
   "cell_type": "code",
   "execution_count": 10,
   "metadata": {},
   "outputs": [
    {
     "data": {
      "text/plain": [
       "[Stock(conId=107113386, symbol='META', exchange='SMART', primaryExchange='ISLAND', currency='USD', localSymbol='META', tradingClass='NMS')]"
      ]
     },
     "execution_count": 10,
     "metadata": {},
     "output_type": "execute_result"
    }
   ],
   "source": [
    "# spx = Index('TREX', 'SMART',\"USD\")\n",
    "stock = Stock('META', 'SMART', 'USD')\n",
    "ib.qualifyContracts(stock)"
   ]
  },
  {
   "cell_type": "markdown",
   "metadata": {},
   "source": [
    "To avoid issues with market data permissions, we'll use delayed data:"
   ]
  },
  {
   "cell_type": "code",
   "execution_count": 11,
   "metadata": {},
   "outputs": [],
   "source": [
    "ib.reqMarketDataType(MarketDataTypeEnum.DELAYED)\n",
    "# ib.reqMarketDataType(4)"
   ]
  },
  {
   "cell_type": "markdown",
   "metadata": {},
   "source": [
    "Then get the ticker. Requesting a ticker can take up to 11 seconds."
   ]
  },
  {
   "cell_type": "code",
   "execution_count": 23,
   "metadata": {},
   "outputs": [
    {
     "name": "stdout",
     "output_type": "stream",
     "text": [
      "Ticker(contract=Stock(conId=107113386, symbol='META', exchange='SMART', primaryExchange='ISLAND', currency='USD', localSymbol='META', tradingClass='NMS'), time=datetime.datetime(2025, 1, 28, 19, 15, 33, 973431, tzinfo=datetime.timezone.utc), marketDataType=3, minTick=0.01, bid=677.26, bidSize=500.0, ask=677.64, askSize=100.0, last=677.59, lastSize=100.0, prevBid=677.83, prevBidSize=400.0, prevAsk=678.13, prevAskSize=200.0, prevLast=678.0, prevLastSize=200.0, volume=147084.0, open=666.0, high=682.58, low=659.47, close=659.88, ticks=[TickData(time=datetime.datetime(2025, 1, 28, 19, 15, 33, 973431, tzinfo=datetime.timezone.utc), tickType=66, price=677.26, size=500.0), TickData(time=datetime.datetime(2025, 1, 28, 19, 15, 33, 973431, tzinfo=datetime.timezone.utc), tickType=67, price=677.64, size=100.0), TickData(time=datetime.datetime(2025, 1, 28, 19, 15, 33, 973431, tzinfo=datetime.timezone.utc), tickType=68, price=677.59, size=100.0), TickData(time=datetime.datetime(2025, 1, 28, 19, 15, 33, 973431, tzinfo=datetime.timezone.utc), tickType=72, price=682.58, size=0.0), TickData(time=datetime.datetime(2025, 1, 28, 19, 15, 33, 973431, tzinfo=datetime.timezone.utc), tickType=73, price=659.47, size=0.0), TickData(time=datetime.datetime(2025, 1, 28, 19, 15, 33, 973431, tzinfo=datetime.timezone.utc), tickType=74, price=-1.0, size=147084.0), TickData(time=datetime.datetime(2025, 1, 28, 19, 15, 33, 973431, tzinfo=datetime.timezone.utc), tickType=75, price=659.88, size=0.0), TickData(time=datetime.datetime(2025, 1, 28, 19, 15, 33, 973431, tzinfo=datetime.timezone.utc), tickType=76, price=666.0, size=0.0), TickData(time=datetime.datetime(2025, 1, 28, 19, 15, 33, 973431, tzinfo=datetime.timezone.utc), tickType=90, price=0.0, size=0)], bboExchange='9c0001', snapshotPermissions=1)\n",
      "<class 'ib_insync.ticker.Ticker'>\n",
      "Lat Price => {ticker.last}\n"
     ]
    }
   ],
   "source": [
    "ticker = ib.reqTickers(stock)\n",
    "ticker = []\n",
    "\n",
    "print(ticker)\n",
    "\n",
    "print(type(ticker))\n",
    "print( \"Lat Price => {ticker.last}\")\n",
    "\n",
    "\n"
   ]
  },
  {
   "cell_type": "markdown",
   "metadata": {},
   "source": [
    "Take the current market value of the ticker:"
   ]
  },
  {
   "cell_type": "code",
   "execution_count": null,
   "metadata": {},
   "outputs": [],
   "source": [
    "spxValue = ticker.marketPrice()\n",
    "spxValue"
   ]
  },
  {
   "cell_type": "markdown",
   "metadata": {},
   "source": [
    "The following request fetches a list of option chains:"
   ]
  },
  {
   "cell_type": "code",
   "execution_count": null,
   "metadata": {},
   "outputs": [],
   "source": [
    "chains = ib.reqSecDefOptParams(spx.symbol, '', spx.secType, spx.conId)\n",
    "\n",
    "util.df(chains)"
   ]
  },
  {
   "cell_type": "markdown",
   "metadata": {},
   "source": [
    "These are four option chains that differ in ``exchange`` and ``tradingClass``. The latter is 'SPX' for the monthly and  'SPXW' for the weekly options. Note that the weekly expiries are disjoint from the monthly ones, so when interested in the weekly options the monthly options can be added as well.\n",
    "\n",
    "In this case we're only interested in the monthly options trading on SMART:"
   ]
  },
  {
   "cell_type": "code",
   "execution_count": null,
   "metadata": {},
   "outputs": [],
   "source": [
    "chain = next(c for c in chains if c.tradingClass == 'SPX' and c.exchange == 'SMART')\n",
    "chain"
   ]
  },
  {
   "cell_type": "markdown",
   "metadata": {},
   "source": [
    "What we have here is the full matrix of expirations x strikes. From this we can build all the option contracts that meet our conditions:"
   ]
  },
  {
   "cell_type": "code",
   "execution_count": null,
   "metadata": {},
   "outputs": [],
   "source": [
    "strikes = [strike for strike in chain.strikes\n",
    "        if strike % 5 == 0\n",
    "        and spxValue - 20 < strike < spxValue + 20]\n",
    "expirations = sorted(exp for exp in chain.expirations)[:3]\n",
    "rights = ['P', 'C']\n",
    "\n",
    "contracts = [Option('SPX', expiration, strike, right, 'SMART', tradingClass='SPX')\n",
    "        for right in rights\n",
    "        for expiration in expirations\n",
    "        for strike in strikes]\n",
    "\n",
    "contracts = ib.qualifyContracts(*contracts)\n",
    "len(contracts)"
   ]
  },
  {
   "cell_type": "code",
   "execution_count": null,
   "metadata": {},
   "outputs": [],
   "source": [
    "contracts[0]"
   ]
  },
  {
   "cell_type": "markdown",
   "metadata": {},
   "source": [
    "Now to get the market data for all options in one go:"
   ]
  },
  {
   "cell_type": "code",
   "execution_count": null,
   "metadata": {},
   "outputs": [],
   "source": [
    "#ask\n",
    "#bid\n",
    "tickers = ib.reqTickers(*contracts)\n",
    "\n",
    "\n",
    "\n",
    "tickers[0]"
   ]
  },
  {
   "cell_type": "markdown",
   "metadata": {},
   "source": [
    "The option greeks are available from the ``modelGreeks`` attribute, and if there is a bid, ask resp. last price available also from ``bidGreeks``, ``askGreeks`` and ``lastGreeks``. For streaming ticks the greek values will be kept up to date to the current market situation."
   ]
  },
  {
   "cell_type": "code",
   "execution_count": 6,
   "metadata": {},
   "outputs": [],
   "source": [
    "ib.disconnect()"
   ]
  }
 ],
 "metadata": {
  "kernelspec": {
   "display_name": ".venv",
   "language": "python",
   "name": "python3"
  },
  "language_info": {
   "codemirror_mode": {
    "name": "ipython",
    "version": 3
   },
   "file_extension": ".py",
   "mimetype": "text/x-python",
   "name": "python",
   "nbconvert_exporter": "python",
   "pygments_lexer": "ipython3",
   "version": "3.11.2"
  }
 },
 "nbformat": 4,
 "nbformat_minor": 4
}
