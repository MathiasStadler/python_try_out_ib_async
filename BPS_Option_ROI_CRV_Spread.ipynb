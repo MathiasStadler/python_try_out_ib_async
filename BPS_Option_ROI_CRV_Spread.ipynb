{
 "cells": [
  {
   "cell_type": "markdown",
   "metadata": {},
   "source": [
    "# BullPutSpread RatioSpread find and evaluate /w python api ib_async "
   ]
  },
  {
   "cell_type": "markdown",
   "metadata": {},
   "source": [
    "## login/connect  TWS - instance  running local"
   ]
  },
  {
   "cell_type": "code",
   "execution_count": null,
   "metadata": {},
   "outputs": [],
   "source": []
  }
 ],
 "metadata": {
  "language_info": {
   "name": "python"
  }
 },
 "nbformat": 4,
 "nbformat_minor": 2
}
