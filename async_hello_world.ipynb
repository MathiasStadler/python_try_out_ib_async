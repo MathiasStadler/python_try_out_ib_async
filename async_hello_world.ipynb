{
 "cells": [
  {
   "cell_type": "markdown",
   "metadata": {},
   "source": [
    "### tryout ib_async follow this [vid](https://www.youtube.com/watch?v=gyy_BFNui40&list=PLCZZtBmmgxn8CFKysCkcl-B1tqRgCCNIX&index=2)"
   ]
  }
 ],
 "metadata": {
  "kernelspec": {
   "display_name": ".venv",
   "language": "python",
   "name": "python3"
  },
  "language_info": {
   "name": "python",
   "version": "3.11.2"
  }
 },
 "nbformat": 4,
 "nbformat_minor": 2
}
