{
 "cells": [
  {
   "cell_type": "markdown",
   "metadata": {},
   "source": [
    "### tryout ib_async follow this [vid](https://www.youtube.com/watch?v=gyy_BFNui40&list=PLCZZtBmmgxn8CFKysCkcl-B1tqRgCCNIX&index=2)"
   ]
  },
  {
   "cell_type": "markdown",
   "metadata": {},
   "source": [
    "### install local ip_async - inside the .venv create before see project_path.md\n",
    "\n"
   ]
  },
  {
   "cell_type": "code",
   "execution_count": null,
   "metadata": {
    "vscode": {
     "languageId": "shellscript"
    }
   },
   "outputs": [],
   "source": [
    "pip3 install ib_async"
   ]
  },
  {
   "cell_type": "markdown",
   "metadata": {},
   "source": [
    "### list all installed packages"
   ]
  },
  {
   "cell_type": "code",
   "execution_count": null,
   "metadata": {
    "vscode": {
     "languageId": "shellscript"
    }
   },
   "outputs": [],
   "source": [
    "pip3 list"
   ]
  },
  {
   "cell_type": "markdown",
   "metadata": {},
   "source": [
    "Package      Version\n",
    "------------ -------\n",
    "eventkit     1.0.3\n",
    "ib_async     1.0.3\n",
    "nest-asyncio 1.6.0\n",
    "numpy        2.2.2\n",
    "pip          23.0.1\n",
    "setuptools   66.1.1"
   ]
  },
  {
   "cell_type": "markdown",
   "metadata": {},
   "source": [
    "## load lib\n",
    "\n",
    "!pip install ib_async\n",
    "!pip pandas"
   ]
  },
  {
   "cell_type": "markdown",
   "metadata": {},
   "source": [
    "### [connect TWS](https://www.youtube.com/watch?v=_AASJZyNcXQ&list=PLCZZtBmmgxn8CFKysCkcl-B1tqRgCCNIX) "
   ]
  },
  {
   "cell_type": "code",
   "execution_count": null,
   "metadata": {},
   "outputs": [],
   "source": [
    "from ib_async import *\n",
    "util.startLoop()\n",
    "ib=IB()\n",
    "ib.connect(port=7496,clientId=35)\n"
   ]
  },
  {
   "cell_type": "markdown",
   "metadata": {},
   "source": [
    "### contract"
   ]
  },
  {
   "cell_type": "code",
   "execution_count": null,
   "metadata": {},
   "outputs": [],
   "source": [
    "contract = Contract(symbol='TSLA',secType='STK',exchange='SMART',currency='USD')\n",
    "ib.qualifyContracts(contract)\n"
   ]
  },
  {
   "cell_type": "markdown",
   "metadata": {},
   "source": []
  },
  {
   "cell_type": "code",
   "execution_count": null,
   "metadata": {},
   "outputs": [],
   "source": [
    "amd = Stock(symbol='AMD')\n",
    "cds = ib.reqContractDetails(amd)\n",
    "#PANDAS dataframe output \n",
    "# install before inside the venv - pip3 install pandas\n",
    "df_amd_contract_details= util.df(cds)"
   ]
  },
  {
   "cell_type": "markdown",
   "metadata": {},
   "source": [
    "### All contract  with to list (pandas)"
   ]
  },
  {
   "cell_type": "code",
   "execution_count": null,
   "metadata": {},
   "outputs": [],
   "source": [
    "util.df(df_amd_contract_details.contract.tolist())"
   ]
  },
  {
   "cell_type": "markdown",
   "metadata": {},
   "source": [
    "### But only one contract with currency == 'USD' and exchange == 'SMART'"
   ]
  },
  {
   "cell_type": "code",
   "execution_count": null,
   "metadata": {},
   "outputs": [],
   "source": [
    "util.df(df_amd_contract_details.contract.tolist()).query('currency == \"USD\" and exchange == \"SMART\" ')"
   ]
  },
  {
   "cell_type": "markdown",
   "metadata": {},
   "source": [
    "#### Forex"
   ]
  },
  {
   "cell_type": "code",
   "execution_count": null,
   "metadata": {},
   "outputs": [],
   "source": [
    "eurusd = Forex(pair='EURUSD')\n",
    "util.df(ib.reqContractDetails(eurusd))"
   ]
  },
  {
   "cell_type": "markdown",
   "metadata": {},
   "source": [
    "### Option Contract Example Call"
   ]
  },
  {
   "cell_type": "code",
   "execution_count": null,
   "metadata": {},
   "outputs": [],
   "source": [
    "call_option=Option(symbol=\"TSLA\",lastTradeDateOrContractMonth='20250214',strike=410,right='C',exchange='SMART',currency='USD')\n",
    "ib.qualifyContracts(call_option)\n",
    "# put_option=Option(symbol=\"TSLA\",lastTradeDateOrContractMonth='20250214',strike=410,right='P',exchange='SMART',currency='USD')\n",
    "# ib.qualifyContracts(put_option)\n"
   ]
  },
  {
   "cell_type": "markdown",
   "metadata": {},
   "source": [
    "### Option Contract Example Put"
   ]
  },
  {
   "cell_type": "code",
   "execution_count": null,
   "metadata": {},
   "outputs": [],
   "source": [
    "put_option=Option(symbol=\"TSLA\",lastTradeDateOrContractMonth='20250214',strike=410,right='P',exchange='SMART',currency='USD')\n",
    "ib.qualifyContracts(call_option,put_option)\n"
   ]
  },
  {
   "cell_type": "markdown",
   "metadata": {},
   "source": [
    "get conId of option"
   ]
  },
  {
   "cell_type": "code",
   "execution_count": null,
   "metadata": {},
   "outputs": [],
   "source": [
    "put_option"
   ]
  },
  {
   "cell_type": "markdown",
   "metadata": {},
   "source": [
    "For non-bag(COMBO) contract can specify contract by unique conId identifier\n",
    "\n",
    "Important ContractId from Option - 15.10 inside the vid"
   ]
  },
  {
   "cell_type": "code",
   "execution_count": null,
   "metadata": {},
   "outputs": [],
   "source": [
    "call_contract=Contract(conId=call_option.conId)\n",
    "call_contract"
   ]
  },
  {
   "cell_type": "code",
   "execution_count": null,
   "metadata": {},
   "outputs": [],
   "source": [
    "put_contract=Contract(conId=put_option.conId)\n",
    "put_contract\n",
    "ib.qualifyContracts(call_contract,put_contract)\n",
    "put_contract,call_contract"
   ]
  },
  {
   "cell_type": "markdown",
   "metadata": {},
   "source": [
    "### get option by conId\n",
    "- output only w/o full filled all another data Contract(conId=752015673)"
   ]
  },
  {
   "cell_type": "code",
   "execution_count": null,
   "metadata": {},
   "outputs": [],
   "source": [
    "put_contract=Contract(conId=752015673)\n",
    "put_contract # output only w/o full filled all another data \n"
   ]
  },
  {
   "cell_type": "markdown",
   "metadata": {},
   "source": [
    "### get option by conId\n",
    "-  output only WITH full filled all another data "
   ]
  },
  {
   "cell_type": "code",
   "execution_count": null,
   "metadata": {},
   "outputs": [],
   "source": [
    "ib.qualifyContracts(put_contract)\n",
    "put_contract"
   ]
  },
  {
   "cell_type": "markdown",
   "metadata": {},
   "source": [
    "Can find matches to symbols with ib.reqMatchingsSymbols"
   ]
  },
  {
   "cell_type": "code",
   "execution_count": null,
   "metadata": {},
   "outputs": [],
   "source": [
    "matches = ib.reqMatchingSymbols('intc') # Stock Intel\n",
    "# matches = ib.reqMatchingSymbols\n",
    "matches"
   ]
  },
  {
   "cell_type": "code",
   "execution_count": null,
   "metadata": {},
   "outputs": [],
   "source": [
    "matchContracts = [m.contract for m in matches]\n",
    "util.df(matchContracts)"
   ]
  },
  {
   "cell_type": "markdown",
   "metadata": {},
   "source": [
    "### Option Chains - [18.22](https://www.youtube.com/watch?v=_AASJZyNcXQ&list=PLCZZtBmmgxn8CFKysCkcl-B1tqRgCCNIX)"
   ]
  },
  {
   "cell_type": "code",
   "execution_count": null,
   "metadata": {},
   "outputs": [],
   "source": [
    "chain = ib.reqSecDefOptParams(underlyingSymbol=stock.symbol,futFopExchange=\"\",underlyingSecType=stock.sec)Type,under"
   ]
  }
 ],
 "metadata": {
  "kernelspec": {
   "display_name": ".venv",
   "language": "python",
   "name": "python3"
  },
  "language_info": {
   "codemirror_mode": {
    "name": "ipython",
    "version": 3
   },
   "file_extension": ".py",
   "mimetype": "text/x-python",
   "name": "python",
   "nbconvert_exporter": "python",
   "pygments_lexer": "ipython3",
   "version": "3.11.2"
  }
 },
 "nbformat": 4,
 "nbformat_minor": 2
}
